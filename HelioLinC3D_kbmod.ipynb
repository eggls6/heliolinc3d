{
 "cells": [
  {
   "cell_type": "markdown",
   "metadata": {},
   "source": [
    "## LSST Solar System Processing\n",
    "\n",
    "## Linking of Simulated dataset with HelioLinC3D\n",
    "\n",
    "### Algorithm: \n",
    "\n",
    "* Similar to HelioLinC (Holman et al. 2018) we transform topocentric observations to heliocentric states assuming a distance and radial velocity.\n",
    "* The resulting 3D positions are collected into tracklets. Tracklets contain at least two observations and can, thus, be used to create velocity vectors.\n",
    "* A tracklet + velocity vector is called an \"arrow\". \n",
    "* Arrows are propagated to a common epoch using spiceypy's 2body propagator, and then clustered using dbscan.\n",
    "* We calculate a mean state and variance for each cluster (trimmed mean), which is our best guess for the underlying orbit (IOD)\n",
    "* We can filter all clusters based on their variance\n",
    "\n",
    "### Implementation:\n",
    "S. Eggl 20210218\n",
    "    "
   ]
  },
  {
   "cell_type": "code",
   "execution_count": 122,
   "metadata": {},
   "outputs": [],
   "source": [
    "import numpy as np"
   ]
  },
  {
   "cell_type": "code",
   "execution_count": 1767,
   "metadata": {},
   "outputs": [],
   "source": [
    "from astroquery.jplhorizons import Horizons"
   ]
  },
  {
   "cell_type": "code",
   "execution_count": 2050,
   "metadata": {},
   "outputs": [],
   "source": [
    "import spiceypy as sp"
   ]
  },
  {
   "cell_type": "code",
   "execution_count": 1780,
   "metadata": {},
   "outputs": [],
   "source": [
    "tstart='JD2459000'\n",
    "tstop='JD2460000'\n"
   ]
  },
  {
   "cell_type": "code",
   "execution_count": 1786,
   "metadata": {},
   "outputs": [],
   "source": [
    "observer_sun = Horizons(id='Sun', location='I11', id_type='majorbody',\n",
    "              epochs = {'start':tstart, 'stop':tstop,\n",
    "              'step':'11h'})"
   ]
  },
  {
   "cell_type": "code",
   "execution_count": 1788,
   "metadata": {},
   "outputs": [],
   "source": [
    "barycenter_sun = Horizons(id='Sun', location='@0', id_type='majorbody',\n",
    "              epochs = {'start':tstart, 'stop':tstop,\n",
    "              'step':'11h'})"
   ]
  },
  {
   "cell_type": "code",
   "execution_count": 1787,
   "metadata": {},
   "outputs": [
    {
     "data": {
      "text/html": [
       "<i>Table masked=True length=2182</i>\n",
       "<table id=\"table140627095295984\" class=\"table-striped table-bordered table-condensed\">\n",
       "<thead><tr><th>targetname</th><th>datetime_jd</th><th>datetime_str</th><th>x</th><th>y</th><th>z</th><th>vx</th><th>vy</th><th>vz</th><th>lighttime</th><th>range</th><th>range_rate</th></tr></thead>\n",
       "<thead><tr><th>---</th><th>d</th><th>---</th><th>AU</th><th>AU</th><th>AU</th><th>AU / d</th><th>AU / d</th><th>AU / d</th><th>d</th><th>AU</th><th>AU / d</th></tr></thead>\n",
       "<thead><tr><th>str8</th><th>float64</th><th>str30</th><th>float64</th><th>float64</th><th>float64</th><th>float64</th><th>float64</th><th>float64</th><th>float64</th><th>float64</th><th>float64</th></tr></thead>\n",
       "<tr><td>Sun (10)</td><td>2459000.0</td><td>A.D. 2020-May-30 12:00:00.0000</td><td>0.3590096964824342</td><td>0.9481309371711674</td><td>-2.314726948975703e-05</td><td>-0.01582210762406129</td><td>0.005937821364008411</td><td>9.223419170466912e-05</td><td>0.005855362326202204</td><td>1.013824559144866</td><td>-4.977198049594843e-05</td></tr>\n",
       "<tr><td>Sun (10)</td><td>2459000.458333333</td><td>A.D. 2020-May-30 23:00:00.0000</td><td>0.3518247254733414</td><td>0.9509098468037757</td><td>-1.823331090733347e-05</td><td>-0.01578672581152066</td><td>0.006230392250958992</td><td>-8.850132158375584e-05</td><td>0.005855846353918275</td><td>1.013908365945969</td><td>0.0003653017296609674</td></tr>\n",
       "<tr><td>Sun (10)</td><td>2459000.916666667</td><td>A.D. 2020-May-31 10:00:00.0000</td><td>0.3444806080702975</td><td>0.9536718568978375</td><td>-3.034526168779727e-05</td><td>-0.01602346797024079</td><td>0.005722139492532492</td><td>7.84298496300044e-05</td><td>0.005856264237121951</td><td>1.013980720179771</td><td>-6.186801507898552e-05</td></tr>\n",
       "<tr><td>Sun (10)</td><td>2459001.375</td><td>A.D. 2020-May-31 21:00:00.0000</td><td>0.3372395252194582</td><td>0.956306463395725</td><td>-1.217834524386746e-05</td><td>-0.01577565280578552</td><td>0.005925453506294197</td><td>-6.426497090984332e-05</td><td>0.005856536632406655</td><td>1.014027883961283</td><td>0.0003415848937583125</td></tr>\n",
       "<tr><td>Sun (10)</td><td>2459001.833333333</td><td>A.D. 2020-Jun-01 08:00:00.0000</td><td>0.3298787441267578</td><td>0.9589807152262186</td><td>-3.57274498885653e-05</td><td>-0.01618994732234557</td><td>0.005551169880978747</td><td>4.47670259082276e-05</td><td>0.005857138770473754</td><td>1.01413214093573</td><td>-1.701575769626102e-05</td></tr>\n",
       "<tr><td>Sun (10)</td><td>2459002.291666667</td><td>A.D. 2020-Jun-01 19:00:00.0000</td><td>0.3225690031215265</td><td>0.9614813183145245</td><td>-8.92484911253887e-06</td><td>-0.01580326782475194</td><td>0.005582591909319268</td><td>-2.388496865576922e-05</td><td>0.005857232988503428</td><td>1.014148454281869</td><td>0.0002661481091073895</td></tr>\n",
       "<tr><td>Sun (10)</td><td>2459002.75</td><td>A.D. 2020-Jun-02 06:00:00.0000</td><td>0.3152042270613103</td><td>0.964053736122659</td><td>-3.800556914992029e-05</td><td>-0.01630132953999439</td><td>0.005405363236358907</td><td>-2.847501036549376e-07</td><td>0.005857962536574051</td><td>1.014274771614575</td><td>7.178790032647542e-05</td></tr>\n",
       "<tr><td>Sun (10)</td><td>2459003.208333333</td><td>A.D. 2020-Jun-02 17:00:00.0000</td><td>0.3078207275440147</td><td>0.9664356908247681</td><td>-9.376364054252208e-06</td><td>-0.01588392511950008</td><td>0.005225519025150576</td><td>2.242063971280884e-05</td><td>0.005857957504462438</td><td>1.014273900331459</td><td>0.0001584645845403238</td></tr>\n",
       "<tr><td>Sun (10)</td><td>2459003.666666667</td><td>A.D. 2020-Jun-03 04:00:00.0000</td><td>0.3004559690741213</td><td>0.9688890784437877</td><td>-3.669882369191776e-05</td><td>-0.01635035068409284</td><td>0.005258573629781786</td><td>-4.537981793569808e-05</td><td>0.005858721314474225</td><td>1.014406149935382</td><td>0.0001798251755421628</td></tr>\n",
       "<tr><td>...</td><td>...</td><td>...</td><td>...</td><td>...</td><td>...</td><td>...</td><td>...</td><td>...</td><td>...</td><td>...</td><td>...</td></tr>\n",
       "<tr><td>Sun (10)</td><td>2459995.5</td><td>A.D. 2023-Feb-20 00:00:00.0000</td><td>0.8625945234805067</td><td>-0.4830410945369827</td><td>5.200681760807223e-05</td><td>0.008916830119622826</td><td>0.01503991770261638</td><td>1.759624066121031e-05</td><td>0.005709876207755327</td><td>0.9886344186071805</td><td>0.0004316170125862779</td></tr>\n",
       "<tr><td>Sun (10)</td><td>2459995.958333333</td><td>A.D. 2023-Feb-20 11:00:00.0000</td><td>0.8665728709554236</td><td>-0.4760489339507131</td><td>2.416479533586656e-05</td><td>0.008358679178527284</td><td>0.01524519688417883</td><td>-4.091392824551561e-05</td><td>0.005710381847285069</td><td>0.9887219673778231</td><td>-1.421643352815796e-05</td></tr>\n",
       "<tr><td>Sun (10)</td><td>2459996.416666667</td><td>A.D. 2023-Feb-20 22:00:00.0000</td><td>0.870431053270687</td><td>-0.4691454172518129</td><td>4.829633147721259e-05</td><td>0.00862056768754433</td><td>0.01507824385071034</td><td>5.949965260828248e-05</td><td>0.00571089736996487</td><td>0.9888112273628525</td><td>0.0004345861687426342</td></tr>\n",
       "<tr><td>Sun (10)</td><td>2459996.875</td><td>A.D. 2023-Feb-21 09:00:00.0000</td><td>0.8743276437475451</td><td>-0.4621107932593315</td><td>2.851351857526545e-05</td><td>0.008189050466480746</td><td>0.01545846482209233</td><td>-7.613252406234657e-05</td><td>0.005711620340219073</td><td>0.9889364057819509</td><td>1.657092051353206e-05</td></tr>\n",
       "<tr><td>Sun (10)</td><td>2459997.333333333</td><td>A.D. 2023-Feb-21 20:00:00.0000</td><td>0.8780483287759911</td><td>-0.4551220995197131</td><td>4.187746360765012e-05</td><td>0.008277730649652273</td><td>0.01514734299190534</td><td>8.624444350678804e-05</td><td>0.00571194089663798</td><td>0.9889919084053542</td><td>0.0003785274954028372</td></tr>\n",
       "<tr><td>Sun (10)</td><td>2459997.791666667</td><td>A.D. 2023-Feb-22 07:00:00.0000</td><td>0.8818484725748728</td><td>-0.4480583480816315</td><td>3.508485653452221e-05</td><td>0.008050759404988271</td><td>0.01562306291226414</td><td>-9.22656573755065e-05</td><td>0.005712840208734735</td><td>0.9891476194680063</td><td>0.0001005945774184708</td></tr>\n",
       "<tr><td>Sun (10)</td><td>2459998.25</td><td>A.D. 2023-Feb-22 18:00:00.0000</td><td>0.8854471295254434</td><td>-0.4409787088834156</td><td>3.42509253695056e-05</td><td>0.007912716550050184</td><td>0.01526255301492453</td><td>9.11015311194307e-05</td><td>0.005713032389299693</td><td>0.9891808945013332</td><td>0.0002788512748773816</td></tr>\n",
       "<tr><td>Sun (10)</td><td>2459998.708333333</td><td>A.D. 2023-Feb-23 05:00:00.0000</td><td>0.8891319425700603</td><td>-0.4338916177784173</td><td>4.21101466890169e-05</td><td>0.007916318833577688</td><td>0.01572968588566959</td><td>-8.522200977687937e-05</td><td>0.005714021105953901</td><td>0.9893520854832448</td><td>0.0002159691184232639</td></tr>\n",
       "<tr><td>Sun (10)</td><td>2459999.166666667</td><td>A.D. 2023-Feb-23 16:00:00.0000</td><td>0.8926261864699584</td><td>-0.4267235671838656</td><td>2.723992338304353e-05</td><td>0.007555012295611927</td><td>0.01542649141112524</td><td>7.286210228055166e-05</td><td>0.005714187370085804</td><td>0.9893808732252899</td><td>0.0001626839159650153</td></tr>\n",
       "<tr><td>Sun (10)</td><td>2459999.625</td><td>A.D. 2023-Feb-24 03:00:00.0000</td><td>0.8961771274097742</td><td>-0.4196104124939458</td><td>4.772179854165453e-05</td><td>0.007756777955555389</td><td>0.01578257350351851</td><td>-5.676474235258932e-05</td><td>0.00571515582374523</td><td>0.9895485557784136</td><td>0.0003323860130979979</td></tr>\n",
       "</table>"
      ],
      "text/plain": [
       "<Table masked=True length=2182>\n",
       "targetname    datetime_jd    ...       range              range_rate      \n",
       "   ---             d         ...         AU                 AU / d        \n",
       "   str8         float64      ...      float64              float64        \n",
       "---------- ----------------- ... ------------------ ----------------------\n",
       "  Sun (10)         2459000.0 ...  1.013824559144866 -4.977198049594843e-05\n",
       "  Sun (10) 2459000.458333333 ...  1.013908365945969  0.0003653017296609674\n",
       "  Sun (10) 2459000.916666667 ...  1.013980720179771 -6.186801507898552e-05\n",
       "  Sun (10)       2459001.375 ...  1.014027883961283  0.0003415848937583125\n",
       "  Sun (10) 2459001.833333333 ...   1.01413214093573 -1.701575769626102e-05\n",
       "  Sun (10) 2459002.291666667 ...  1.014148454281869  0.0002661481091073895\n",
       "  Sun (10)        2459002.75 ...  1.014274771614575  7.178790032647542e-05\n",
       "  Sun (10) 2459003.208333333 ...  1.014273900331459  0.0001584645845403238\n",
       "  Sun (10) 2459003.666666667 ...  1.014406149935382  0.0001798251755421628\n",
       "       ...               ... ...                ...                    ...\n",
       "  Sun (10)         2459995.5 ... 0.9886344186071805  0.0004316170125862779\n",
       "  Sun (10) 2459995.958333333 ... 0.9887219673778231 -1.421643352815796e-05\n",
       "  Sun (10) 2459996.416666667 ... 0.9888112273628525  0.0004345861687426342\n",
       "  Sun (10)       2459996.875 ... 0.9889364057819509  1.657092051353206e-05\n",
       "  Sun (10) 2459997.333333333 ... 0.9889919084053542  0.0003785274954028372\n",
       "  Sun (10) 2459997.791666667 ... 0.9891476194680063  0.0001005945774184708\n",
       "  Sun (10)        2459998.25 ... 0.9891808945013332  0.0002788512748773816\n",
       "  Sun (10) 2459998.708333333 ... 0.9893520854832448  0.0002159691184232639\n",
       "  Sun (10) 2459999.166666667 ... 0.9893808732252899  0.0001626839159650153\n",
       "  Sun (10)       2459999.625 ... 0.9895485557784136  0.0003323860130979979"
      ]
     },
     "execution_count": 1787,
     "metadata": {},
     "output_type": "execute_result"
    }
   ],
   "source": [
    "observer_sun.vectors()"
   ]
  },
  {
   "cell_type": "code",
   "execution_count": 1791,
   "metadata": {},
   "outputs": [
    {
     "data": {
      "text/html": [
       "<i>Table masked=True length=2182</i>\n",
       "<table id=\"table140628864323248\" class=\"table-striped table-bordered table-condensed\">\n",
       "<thead><tr><th>targetname</th><th>datetime_jd</th><th>datetime_str</th><th>x</th><th>y</th><th>z</th><th>vx</th><th>vy</th><th>vz</th><th>lighttime</th><th>range</th><th>range_rate</th></tr></thead>\n",
       "<thead><tr><th>---</th><th>d</th><th>---</th><th>AU</th><th>AU</th><th>AU</th><th>AU / d</th><th>AU / d</th><th>AU / d</th><th>d</th><th>AU</th><th>AU / d</th></tr></thead>\n",
       "<thead><tr><th>str8</th><th>float64</th><th>str30</th><th>float64</th><th>float64</th><th>float64</th><th>float64</th><th>float64</th><th>float64</th><th>float64</th><th>float64</th><th>float64</th></tr></thead>\n",
       "<tr><td>Sun (10)</td><td>2459000.0</td><td>A.D. 2020-May-30 12:00:00.0000</td><td>-0.005036698976971318</td><td>0.007028539778863855</td><td>5.77566602895832e-05</td><td>-8.112734937916378e-06</td><td>-3.561853947445847e-06</td><td>2.328574386317633e-07</td><td>4.994138618980652e-05</td><td>0.008647082967076428</td><td>1.831857140079116e-06</td></tr>\n",
       "<tr><td>Sun (10)</td><td>2459000.458333333</td><td>A.D. 2020-May-30 23:00:00.0000</td><td>-0.005040417041162431</td><td>0.007026905905598763</td><td>5.786338702461194e-05</td><td>-8.111542518443507e-06</td><td>-3.56777609838345e-06</td><td>2.328590402151962e-07</td><td>4.994623331157585e-05</td><td>0.008647922220194709</td><td>1.830336098571116e-06</td></tr>\n",
       "<tr><td>Sun (10)</td><td>2459000.916666667</td><td>A.D. 2020-May-31 10:00:00.0000</td><td>-0.00504413455517555</td><td>0.007025269316314605</td><td>5.797011424252174e-05</td><td>-8.110334143634882e-06</td><td>-3.573705617918981e-06</td><td>2.328595470349935e-07</td><td>4.995107638968614e-05</td><td>0.008648760773175126</td><td>1.828802020796197e-06</td></tr>\n",
       "<tr><td>Sun (10)</td><td>2459001.375</td><td>A.D. 2020-May-31 21:00:00.0000</td><td>-0.005047851511674429</td><td>0.00702363000770121</td><td>5.80768414433464e-05</td><td>-8.109109713148693e-06</td><td>-3.579642214100059e-06</td><td>2.328589670121786e-07</td><td>4.995591538984982e-05</td><td>0.008649598620080978</td><td>1.827255073857071e-06</td></tr>\n",
       "<tr><td>Sun (10)</td><td>2459001.833333333</td><td>A.D. 2020-Jun-01 08:00:00.0000</td><td>-0.005051567903279108</td><td>0.007021987976581017</td><td>5.818356813083834e-05</td><td>-8.107869136447613e-06</td><td>-3.585585600254367e-06</td><td>2.328573084512837e-07</td><td>4.996075027822299e-05</td><td>0.008650435755052371</td><td>1.825695425750641e-06</td></tr>\n",
       "<tr><td>Sun (10)</td><td>2459002.291666667</td><td>A.D. 2020-Jun-01 19:00:00.0000</td><td>-0.005055283722570234</td><td>0.007020343219906624</td><td>5.829029381263154e-05</td><td>-8.10661233206097e-06</td><td>-3.591535495077481e-06</td><td>2.328545799665206e-07</td><td>4.996558102140707e-05</td><td>0.008651272172306525</td><td>1.824123244894773e-06</td></tr>\n",
       "<tr><td>Sun (10)</td><td>2459002.75</td><td>A.D. 2020-Jun-02 06:00:00.0000</td><td>-0.00505899896209306</td><td>0.007018695734758326</td><td>5.839701800036573e-05</td><td>-8.105339226892895e-06</td><td>-3.597491622675263e-06</td><td>2.328507904158853e-07</td><td>4.997040758644946e-05</td><td>0.008652107866137864</td><td>1.822538699717096e-06</td></tr>\n",
       "<tr><td>Sun (10)</td><td>2459003.208333333</td><td>A.D. 2020-Jun-02 17:00:00.0000</td><td>-0.005062713614361132</td><td>0.007017045518341626</td><td>5.850374020978636e-05</td><td>-8.1040497555752e-06</td><td>-3.603453712567669e-06</td><td>2.328459488425316e-07</td><td>4.997522994084296e-05</td><td>0.008652942830917953</td><td>1.820941958299585e-06</td></tr>\n",
       "<tr><td>Sun (10)</td><td>2459003.666666667</td><td>A.D. 2020-Jun-03 04:00:00.0000</td><td>-0.005066427671859689</td><td>0.00701539256798476</td><td>5.861045996081424e-05</td><td>-8.10274385986346e-06</td><td>-3.609421499660082e-06</td><td>2.328400644227657e-07</td><td>4.998004805252453e-05</td><td>0.008653777061095241</td><td>1.819333188073162e-06</td></tr>\n",
       "<tr><td>...</td><td>...</td><td>...</td><td>...</td><td>...</td><td>...</td><td>...</td><td>...</td><td>...</td><td>...</td><td>...</td><td>...</td></tr>\n",
       "<tr><td>Sun (10)</td><td>2459995.5</td><td>A.D. 2023-Feb-20 00:00:00.0000</td><td>-0.008992118598148541</td><td>-0.0003512757073554783</td><td>0.0002123390029779353</td><td>1.569288900945557e-06</td><td>-8.837939917836866e-06</td><td>3.499715746240066e-08</td><td>5.1988224673755e-05</td><td>0.009001482064523189</td><td>-1.221937340483639e-06</td></tr>\n",
       "<tr><td>Sun (10)</td><td>2459995.958333333</td><td>A.D. 2023-Feb-20 11:00:00.0000</td><td>-0.008991398075709358</td><td>-0.0003553260065867175</td><td>0.000212355006758702</td><td>1.574808089159853e-06</td><td>-8.836091967609887e-06</td><td>3.483754851415266e-08</td><td>5.198498799783566e-05</td><td>0.009000921651460051</td><td>-1.2235008422902e-06</td></tr>\n",
       "<tr><td>Sun (10)</td><td>2459996.416666667</td><td>A.D. 2023-Feb-20 22:00:00.0000</td><td>-0.008990675024919122</td><td>-0.0003593754572998309</td><td>0.0002123709374218156</td><td>1.58032169868725e-06</td><td>-8.834237302040631e-06</td><td>3.467809932982588e-08</td><td>5.198174718823487e-05</td><td>0.009000360522672151</td><td>-1.22506049720694e-06</td></tr>\n",
       "<tr><td>Sun (10)</td><td>2459996.875</td><td>A.D. 2023-Feb-21 09:00:00.0000</td><td>-0.008989949448343986</td><td>-0.0003634240564290085</td><td>0.0002123867950414774</td><td>1.585829689505064e-06</td><td>-8.832375973775202e-06</td><td>3.451881414671252e-08</td><td>5.197850225518134e-05</td><td>0.00899979867993055</td><td>-1.226616271133968e-06</td></tr>\n",
       "<tr><td>Sun (10)</td><td>2459997.333333333</td><td>A.D. 2023-Feb-21 20:00:00.0000</td><td>-0.008989221348567947</td><td>-0.0003674718009326189</td><td>0.0002124025796938011</td><td>1.591332023772235e-06</td><td>-8.830508035655723e-06</td><td>3.435969707514472e-08</td><td>5.197525320899138e-05</td><td>0.008999236125021445</td><td>-1.2281681320389e-06</td></tr>\n",
       "<tr><td>Sun (10)</td><td>2459997.791666667</td><td>A.D. 2023-Feb-22 07:00:00.0000</td><td>-0.008988490728191845</td><td>-0.0003715186877932747</td><td>0.0002124182914567567</td><td>1.596828665852848e-06</td><td>-8.828633540616462e-06</td><td>3.420075210447076e-08</td><td>5.197200006006327e-05</td><td>0.008998672859745253</td><td>-1.229716049983892e-06</td></tr>\n",
       "<tr><td>Sun (10)</td><td>2459998.25</td><td>A.D. 2023-Feb-22 18:00:00.0000</td><td>-0.008987757589832338</td><td>-0.0003755647140178511</td><td>0.0002124339304101159</td><td>1.60231958233854e-06</td><td>-8.826752541576472e-06</td><td>3.40419831094146e-08</td><td>5.196874281887176e-05</td><td>0.008998108885915618</td><td>-1.231259997151995e-06</td></tr>\n",
       "<tr><td>Sun (10)</td><td>2459998.708333333</td><td>A.D. 2023-Feb-23 05:00:00.0000</td><td>-0.008987021936120883</td><td>-0.0003796098766374531</td><td>0.0002124494966354015</td><td>1.607804742069645e-06</td><td>-8.824865091328426e-06</td><td>3.38833938568506e-08</td><td>5.19654814959624e-05</td><td>0.008997544205358442</td><td>-1.232799947872737e-06</td></tr>\n",
       "<tr><td>Sun (10)</td><td>2459999.166666667</td><td>A.D. 2023-Feb-23 16:00:00.0000</td><td>-0.008986283769702704</td><td>-0.0003836541727073314</td><td>0.0002124649902158392</td><td>1.613284116154891e-06</td><td>-8.822971242423378e-06</td><td>3.372498801303514e-08</td><td>5.196221610194581e-05</td><td>0.008996978819910904</td><td>-1.234335878646773e-06</td></tr>\n",
       "<tr><td>Sun (10)</td><td>2459999.625</td><td>A.D. 2023-Feb-24 03:00:00.0000</td><td>-0.008985543093235737</td><td>-0.0003876975993067445</td><td>0.0002124804112363139</td><td>1.618757677989481e-06</td><td>-8.821071047051137e-06</td><td>3.356676915137578e-08</td><td>5.195894664749193e-05</td><td>0.008996412731420444</td><td>-1.235867768169425e-06</td></tr>\n",
       "</table>"
      ],
      "text/plain": [
       "<Table masked=True length=2182>\n",
       "targetname    datetime_jd    ...        range               range_rate      \n",
       "   ---             d         ...          AU                  AU / d        \n",
       "   str8         float64      ...       float64               float64        \n",
       "---------- ----------------- ... -------------------- ----------------------\n",
       "  Sun (10)         2459000.0 ... 0.008647082967076428  1.831857140079116e-06\n",
       "  Sun (10) 2459000.458333333 ... 0.008647922220194709  1.830336098571116e-06\n",
       "  Sun (10) 2459000.916666667 ... 0.008648760773175126  1.828802020796197e-06\n",
       "  Sun (10)       2459001.375 ... 0.008649598620080978  1.827255073857071e-06\n",
       "  Sun (10) 2459001.833333333 ... 0.008650435755052371  1.825695425750641e-06\n",
       "  Sun (10) 2459002.291666667 ... 0.008651272172306525  1.824123244894773e-06\n",
       "  Sun (10)        2459002.75 ... 0.008652107866137864  1.822538699717096e-06\n",
       "  Sun (10) 2459003.208333333 ... 0.008652942830917953  1.820941958299585e-06\n",
       "  Sun (10) 2459003.666666667 ... 0.008653777061095241  1.819333188073162e-06\n",
       "       ...               ... ...                  ...                    ...\n",
       "  Sun (10)         2459995.5 ... 0.009001482064523189 -1.221937340483639e-06\n",
       "  Sun (10) 2459995.958333333 ... 0.009000921651460051   -1.2235008422902e-06\n",
       "  Sun (10) 2459996.416666667 ... 0.009000360522672151  -1.22506049720694e-06\n",
       "  Sun (10)       2459996.875 ...  0.00899979867993055 -1.226616271133968e-06\n",
       "  Sun (10) 2459997.333333333 ... 0.008999236125021445   -1.2281681320389e-06\n",
       "  Sun (10) 2459997.791666667 ... 0.008998672859745253 -1.229716049983892e-06\n",
       "  Sun (10)        2459998.25 ... 0.008998108885915618 -1.231259997151995e-06\n",
       "  Sun (10) 2459998.708333333 ... 0.008997544205358442 -1.232799947872737e-06\n",
       "  Sun (10) 2459999.166666667 ... 0.008996978819910904 -1.234335878646773e-06\n",
       "  Sun (10)       2459999.625 ... 0.008996412731420444 -1.235867768169425e-06"
      ]
     },
     "execution_count": 1791,
     "metadata": {},
     "output_type": "execute_result"
    }
   ],
   "source": [
    "barycenter_sun.vectors()"
   ]
  },
  {
   "cell_type": "code",
   "execution_count": 123,
   "metadata": {},
   "outputs": [
    {
     "data": {
      "text/plain": [
       "3"
      ]
     },
     "execution_count": 123,
     "metadata": {},
     "output_type": "execute_result"
    }
   ],
   "source": [
    "min(4,3)"
   ]
  },
  {
   "cell_type": "code",
   "execution_count": 124,
   "metadata": {},
   "outputs": [],
   "source": [
    "# HelioLinC3D Solar System Processing functions for LSST\n",
    "import heliolinc2 as hl"
   ]
  },
  {
   "cell_type": "code",
   "execution_count": 125,
   "metadata": {},
   "outputs": [],
   "source": [
    "# Did I Find It Analysis tool (Moeyens et al.)\n",
    "import difi"
   ]
  },
  {
   "cell_type": "code",
   "execution_count": 126,
   "metadata": {},
   "outputs": [
    {
     "name": "stdout",
     "output_type": "stream",
     "text": [
      "difi version: 1.1\n"
     ]
    }
   ],
   "source": [
    "from difi import __version__\n",
    "print(\"difi version: {}\".format(__version__))"
   ]
  },
  {
   "cell_type": "code",
   "execution_count": 127,
   "metadata": {},
   "outputs": [],
   "source": [
    "# Demo relevant python modules\n",
    "import numpy as np\n",
    "import pandas as pd\n",
    "import os\n",
    "import matplotlib.pyplot as plt"
   ]
  },
  {
   "cell_type": "code",
   "execution_count": 128,
   "metadata": {},
   "outputs": [],
   "source": [
    "# Joblib prallelization\n",
    "import joblib\n",
    "from joblib.externals.loky import set_loky_pickler\n",
    "from joblib import parallel_backend\n",
    "from joblib import wrap_non_picklable_objects\n",
    "from joblib import Parallel, delayed"
   ]
  },
  {
   "cell_type": "code",
   "execution_count": 129,
   "metadata": {},
   "outputs": [],
   "source": [
    "# Progress bar for joblib processes\n",
    "import contextlib\n",
    "from tqdm import tqdm\n",
    "\n",
    "@contextlib.contextmanager\n",
    "def tqdm_joblib(tqdm_object):\n",
    "    \"\"\"Context manager to patch joblib to report into tqdm progress bar given as argument\"\"\"\n",
    "    class TqdmBatchCompletionCallback:\n",
    "        def __init__(self, time, index, parallel):\n",
    "            self.index = index\n",
    "            self.parallel = parallel\n",
    "\n",
    "        def __call__(self, index):\n",
    "            tqdm_object.update()\n",
    "            if self.parallel._original_iterator is not None:\n",
    "                self.parallel.dispatch_next()\n",
    "\n",
    "    old_batch_callback = joblib.parallel.BatchCompletionCallBack\n",
    "    joblib.parallel.BatchCompletionCallBack = TqdmBatchCompletionCallback\n",
    "    try:\n",
    "        yield tqdm_object\n",
    "    finally:\n",
    "        joblib.parallel.BatchCompletionCallBack = old_batch_callback\n",
    "        tqdm_object.close()   "
   ]
  },
  {
   "cell_type": "code",
   "execution_count": 130,
   "metadata": {},
   "outputs": [],
   "source": [
    "dfin0=pd.read_csv(\"PG008_initial_final.txt\",'\\s+',skiprows=1,names=['time','RA','DEC']).dropna()\n",
    "dfin1=pd.read_csv(\"PG021_initial_final.txt\",'\\s+',skiprows=1,names=['time','RA','DEC']).dropna()\n",
    "dfin2=pd.read_csv(\"PG023_initial_final.txt\",'\\s+',skiprows=1,names=['time','RA','DEC']).dropna()"
   ]
  },
  {
   "cell_type": "code",
   "execution_count": 139,
   "metadata": {},
   "outputs": [],
   "source": [
    "trailin0=pd.read_csv(\"PG008_central_time_coord_vel.txt\",'\\s+',skiprows=1,names=['time','RA_center','DEC_center','RA_vel','DEC_vel'])\n",
    "trailin1=pd.read_csv(\"PG021_central_time_coord_vel.txt\",'\\s+',skiprows=1,names=['time','RA_center','DEC_center','RA_vel','DEC_vel'])\n",
    "trailin2=pd.read_csv(\"PG023_central_time_coord_vel.txt\",'\\s+',skiprows=1,names=['time','RA_center','DEC_center','RA_vel','DEC_vel'])"
   ]
  },
  {
   "cell_type": "code",
   "execution_count": 136,
   "metadata": {},
   "outputs": [
    {
     "data": {
      "text/html": [
       "<div>\n",
       "<style scoped>\n",
       "    .dataframe tbody tr th:only-of-type {\n",
       "        vertical-align: middle;\n",
       "    }\n",
       "\n",
       "    .dataframe tbody tr th {\n",
       "        vertical-align: top;\n",
       "    }\n",
       "\n",
       "    .dataframe thead th {\n",
       "        text-align: right;\n",
       "    }\n",
       "</style>\n",
       "<table border=\"1\" class=\"dataframe\">\n",
       "  <thead>\n",
       "    <tr style=\"text-align: right;\">\n",
       "      <th></th>\n",
       "      <th>time</th>\n",
       "      <th>RA_center</th>\n",
       "      <th>DEC_center</th>\n",
       "      <th>RA_vel</th>\n",
       "      <th>DEC_vel</th>\n",
       "    </tr>\n",
       "  </thead>\n",
       "  <tbody>\n",
       "    <tr>\n",
       "      <th>0</th>\n",
       "      <td>59141.092975</td>\n",
       "      <td>350.578029</td>\n",
       "      <td>-5.327897</td>\n",
       "      <td>-0.015506</td>\n",
       "      <td>-0.005643</td>\n",
       "    </tr>\n",
       "    <tr>\n",
       "      <th>1</th>\n",
       "      <td>59141.092975</td>\n",
       "      <td>350.382756</td>\n",
       "      <td>-5.245927</td>\n",
       "      <td>-0.028803</td>\n",
       "      <td>-0.002545</td>\n",
       "    </tr>\n",
       "    <tr>\n",
       "      <th>2</th>\n",
       "      <td>59141.092975</td>\n",
       "      <td>350.727422</td>\n",
       "      <td>-5.326696</td>\n",
       "      <td>-0.015541</td>\n",
       "      <td>-0.006609</td>\n",
       "    </tr>\n",
       "    <tr>\n",
       "      <th>3</th>\n",
       "      <td>59141.092975</td>\n",
       "      <td>350.855068</td>\n",
       "      <td>-5.296072</td>\n",
       "      <td>-0.013863</td>\n",
       "      <td>-0.005894</td>\n",
       "    </tr>\n",
       "    <tr>\n",
       "      <th>4</th>\n",
       "      <td>59141.092975</td>\n",
       "      <td>351.097480</td>\n",
       "      <td>-5.204408</td>\n",
       "      <td>-0.015887</td>\n",
       "      <td>-0.005806</td>\n",
       "    </tr>\n",
       "    <tr>\n",
       "      <th>...</th>\n",
       "      <td>...</td>\n",
       "      <td>...</td>\n",
       "      <td>...</td>\n",
       "      <td>...</td>\n",
       "      <td>...</td>\n",
       "    </tr>\n",
       "    <tr>\n",
       "      <th>100</th>\n",
       "      <td>59141.092975</td>\n",
       "      <td>351.486135</td>\n",
       "      <td>-6.030596</td>\n",
       "      <td>-0.013455</td>\n",
       "      <td>-0.004919</td>\n",
       "    </tr>\n",
       "    <tr>\n",
       "      <th>101</th>\n",
       "      <td>59141.092975</td>\n",
       "      <td>351.541850</td>\n",
       "      <td>-6.093940</td>\n",
       "      <td>-0.014527</td>\n",
       "      <td>-0.006184</td>\n",
       "    </tr>\n",
       "    <tr>\n",
       "      <th>102</th>\n",
       "      <td>59141.092975</td>\n",
       "      <td>350.825077</td>\n",
       "      <td>-6.298489</td>\n",
       "      <td>-0.015509</td>\n",
       "      <td>-0.005657</td>\n",
       "    </tr>\n",
       "    <tr>\n",
       "      <th>103</th>\n",
       "      <td>59141.092975</td>\n",
       "      <td>350.893131</td>\n",
       "      <td>-6.219433</td>\n",
       "      <td>-0.013786</td>\n",
       "      <td>-0.005027</td>\n",
       "    </tr>\n",
       "    <tr>\n",
       "      <th>104</th>\n",
       "      <td>59141.092975</td>\n",
       "      <td>351.551410</td>\n",
       "      <td>-6.291199</td>\n",
       "      <td>-0.014511</td>\n",
       "      <td>-0.007095</td>\n",
       "    </tr>\n",
       "  </tbody>\n",
       "</table>\n",
       "<p>105 rows × 5 columns</p>\n",
       "</div>"
      ],
      "text/plain": [
       "             time   RA_center  DEC_center    RA_vel   DEC_vel\n",
       "0    59141.092975  350.578029   -5.327897 -0.015506 -0.005643\n",
       "1    59141.092975  350.382756   -5.245927 -0.028803 -0.002545\n",
       "2    59141.092975  350.727422   -5.326696 -0.015541 -0.006609\n",
       "3    59141.092975  350.855068   -5.296072 -0.013863 -0.005894\n",
       "4    59141.092975  351.097480   -5.204408 -0.015887 -0.005806\n",
       "..            ...         ...         ...       ...       ...\n",
       "100  59141.092975  351.486135   -6.030596 -0.013455 -0.004919\n",
       "101  59141.092975  351.541850   -6.093940 -0.014527 -0.006184\n",
       "102  59141.092975  350.825077   -6.298489 -0.015509 -0.005657\n",
       "103  59141.092975  350.893131   -6.219433 -0.013786 -0.005027\n",
       "104  59141.092975  351.551410   -6.291199 -0.014511 -0.007095\n",
       "\n",
       "[105 rows x 5 columns]"
      ]
     },
     "execution_count": 136,
     "metadata": {},
     "output_type": "execute_result"
    }
   ],
   "source": [
    "trailin1"
   ]
  },
  {
   "cell_type": "markdown",
   "metadata": {},
   "source": [
    "## SIMULATED OBSERVATIONS \n",
    "\n",
    "\n",
    "### Select observations from LSST Survey Simulation Dataset"
   ]
  },
  {
   "cell_type": "markdown",
   "metadata": {},
   "source": [
    "Cornwall et al. 2020, 5deg x 5deg, 14 nights "
   ]
  },
  {
   "cell_type": "code",
   "execution_count": 8,
   "metadata": {},
   "outputs": [],
   "source": [
    "data_dir='../baseline_fbs_v1p7p1/S1_00/'\n",
    "# S3M Main Belt Asteroids (MBA)\n",
    "fnobservations0='visit-0000000.h5'\n",
    "fnobservations1='visit-0010000.h5'\n",
    "# S3M Near-Earth Objects (NEO)"
   ]
  },
  {
   "cell_type": "code",
   "execution_count": 9,
   "metadata": {},
   "outputs": [],
   "source": [
    "#data_dir='../baseline_fbs_v1p7p1/centaurs/'\n",
    "# S3M Main Belt Asteroids (MBA)\n",
    "#fnobservations1='centaurs_00001.h5'\n",
    "# S3M Near-Earth Objects (NEO)\n",
    "#fnobservations0='centaurs_10001.h5'"
   ]
  },
  {
   "cell_type": "code",
   "execution_count": 10,
   "metadata": {},
   "outputs": [],
   "source": [
    "#dfin0= pd.read_csv(os.path.join(data_dir, fnobservations0),nrows=240000, sep=',').dropna()\n",
    "#dfin1= pd.read_csv(os.path.join(data_dir, fnobservations1),nrows=240000, sep=',').dropna()"
   ]
  },
  {
   "cell_type": "code",
   "execution_count": 11,
   "metadata": {},
   "outputs": [],
   "source": [
    "dfin0= pd.read_hdf(os.path.join(data_dir, fnobservations0)).dropna()\n",
    "dfin1= pd.read_hdf(os.path.join(data_dir, fnobservations1)).dropna()"
   ]
  },
  {
   "cell_type": "code",
   "execution_count": 12,
   "metadata": {},
   "outputs": [],
   "source": [
    "dfin0['class']='MBA'\n",
    "dfin1['class']='MBA'"
   ]
  },
  {
   "cell_type": "code",
   "execution_count": 13,
   "metadata": {},
   "outputs": [],
   "source": [
    "ffalsename='false_detections_fbs-v1_7_1-'\n",
    "fformat='.csv'\n",
    "\n",
    "ffalse=[]\n",
    "for l in range(0,12500,500):\n",
    "    ffalse.append(ffalsename+str(l).zfill(7)+fformat)\n"
   ]
  },
  {
   "cell_type": "code",
   "execution_count": 14,
   "metadata": {},
   "outputs": [
    {
     "data": {
      "text/plain": [
       "['false_detections_fbs-v1_7_1-0000000.csv',\n",
       " 'false_detections_fbs-v1_7_1-0000500.csv',\n",
       " 'false_detections_fbs-v1_7_1-0001000.csv',\n",
       " 'false_detections_fbs-v1_7_1-0001500.csv',\n",
       " 'false_detections_fbs-v1_7_1-0002000.csv',\n",
       " 'false_detections_fbs-v1_7_1-0002500.csv',\n",
       " 'false_detections_fbs-v1_7_1-0003000.csv',\n",
       " 'false_detections_fbs-v1_7_1-0003500.csv',\n",
       " 'false_detections_fbs-v1_7_1-0004000.csv',\n",
       " 'false_detections_fbs-v1_7_1-0004500.csv',\n",
       " 'false_detections_fbs-v1_7_1-0005000.csv',\n",
       " 'false_detections_fbs-v1_7_1-0005500.csv',\n",
       " 'false_detections_fbs-v1_7_1-0006000.csv',\n",
       " 'false_detections_fbs-v1_7_1-0006500.csv',\n",
       " 'false_detections_fbs-v1_7_1-0007000.csv',\n",
       " 'false_detections_fbs-v1_7_1-0007500.csv',\n",
       " 'false_detections_fbs-v1_7_1-0008000.csv',\n",
       " 'false_detections_fbs-v1_7_1-0008500.csv',\n",
       " 'false_detections_fbs-v1_7_1-0009000.csv',\n",
       " 'false_detections_fbs-v1_7_1-0009500.csv',\n",
       " 'false_detections_fbs-v1_7_1-0010000.csv',\n",
       " 'false_detections_fbs-v1_7_1-0010500.csv',\n",
       " 'false_detections_fbs-v1_7_1-0011000.csv',\n",
       " 'false_detections_fbs-v1_7_1-0011500.csv',\n",
       " 'false_detections_fbs-v1_7_1-0012000.csv']"
      ]
     },
     "execution_count": 14,
     "metadata": {},
     "output_type": "execute_result"
    }
   ],
   "source": [
    "ffalse"
   ]
  },
  {
   "cell_type": "code",
   "execution_count": 15,
   "metadata": {},
   "outputs": [],
   "source": [
    "# false detections\n",
    "# ffalse=['false_detections_fbs-v1_7_1-0000000.csv',\n",
    "#        'false_detections_fbs-v1_7_1-0000500.csv',\n",
    "#        'false_detections_fbs-v1_7_1-0001500.csv',\n",
    "#        'false_detections_fbs-v1_7_1-0002000.csv',\n",
    "#        'false_detections_fbs-v1_7_1-0002500.csv'\n",
    "#        'false_detections_fbs-v1_7_1-0003000.csv'\n",
    "        \n",
    "#        ]\n",
    "data_dir2='../baseline_fbs_v1p7p1/data_baseline_v1p7p1/'\n",
    "#fnoise='false_detections_fbs-v1_7_1-0000000.csv'"
   ]
  },
  {
   "cell_type": "code",
   "execution_count": 15,
   "metadata": {},
   "outputs": [],
   "source": [
    "#dfinf0=pd.read_csv('../baseline_fbs_v1p7p1/data_baseline_v1p7p1/false_detections_fbs-v1_7_1-0000000.csv')"
   ]
  },
  {
   "cell_type": "code",
   "execution_count": 65,
   "metadata": {},
   "outputs": [],
   "source": [
    "dfinf=[]\n",
    "\n",
    "for f in ffalse:\n",
    "    dfinf.append(pd.read_csv(os.path.join(data_dir2, f)))\n",
    "#dfinf1= pd.read_csv(os.path.join(data_dir2, ffalse1))"
   ]
  },
  {
   "cell_type": "code",
   "execution_count": 66,
   "metadata": {},
   "outputs": [],
   "source": [
    "dfinf0=pd.concat(dfinf)"
   ]
  },
  {
   "cell_type": "code",
   "execution_count": 67,
   "metadata": {},
   "outputs": [],
   "source": [
    "dfinf0['FieldID']=dfinf0['observationId']\n",
    "dfinf0['class']='False_Detections'"
   ]
  },
  {
   "cell_type": "code",
   "execution_count": 68,
   "metadata": {},
   "outputs": [],
   "source": [
    "dfinf0.drop(columns=['observationId','AstRASigma(mas)','AstDecSigma(mas)','PhotometricSigma(mag)'],inplace=True)"
   ]
  },
  {
   "cell_type": "code",
   "execution_count": 20,
   "metadata": {},
   "outputs": [],
   "source": [
    "#!ls ../baseline_fbs_v1p7p1/data_baseline_v1p7p1/false_detections_fbs-v1_7_1-0000000.csv"
   ]
  },
  {
   "cell_type": "code",
   "execution_count": 8,
   "metadata": {},
   "outputs": [],
   "source": [
    "# combine datasets\n",
    "# dfin=pd.concat([dfin0,dfin1,dfinf0])\n",
    "dfin=pd.concat([dfin0,dfin1,dfin2])\n",
    "# re-index new dataset \n",
    "dfin.reset_index(drop=True,inplace=True);\n",
    "# preserve observation identifier as string\n",
    "dfin['obsName']=dfin.index.astype(str);"
   ]
  },
  {
   "cell_type": "code",
   "execution_count": 9,
   "metadata": {},
   "outputs": [
    {
     "data": {
      "text/html": [
       "<div>\n",
       "<style scoped>\n",
       "    .dataframe tbody tr th:only-of-type {\n",
       "        vertical-align: middle;\n",
       "    }\n",
       "\n",
       "    .dataframe tbody tr th {\n",
       "        vertical-align: top;\n",
       "    }\n",
       "\n",
       "    .dataframe thead th {\n",
       "        text-align: right;\n",
       "    }\n",
       "</style>\n",
       "<table border=\"1\" class=\"dataframe\">\n",
       "  <thead>\n",
       "    <tr style=\"text-align: right;\">\n",
       "      <th></th>\n",
       "      <th>time</th>\n",
       "      <th>RA</th>\n",
       "      <th>DEC</th>\n",
       "      <th>obsName</th>\n",
       "    </tr>\n",
       "  </thead>\n",
       "  <tbody>\n",
       "    <tr>\n",
       "      <th>0</th>\n",
       "      <td>58724.211918</td>\n",
       "      <td>351.129399</td>\n",
       "      <td>-4.943011</td>\n",
       "      <td>0</td>\n",
       "    </tr>\n",
       "    <tr>\n",
       "      <th>1</th>\n",
       "      <td>58724.387113</td>\n",
       "      <td>351.126630</td>\n",
       "      <td>-4.944023</td>\n",
       "      <td>1</td>\n",
       "    </tr>\n",
       "    <tr>\n",
       "      <th>2</th>\n",
       "      <td>58724.211918</td>\n",
       "      <td>351.365065</td>\n",
       "      <td>-4.922767</td>\n",
       "      <td>2</td>\n",
       "    </tr>\n",
       "    <tr>\n",
       "      <th>3</th>\n",
       "      <td>58724.387113</td>\n",
       "      <td>351.362205</td>\n",
       "      <td>-4.923985</td>\n",
       "      <td>3</td>\n",
       "    </tr>\n",
       "    <tr>\n",
       "      <th>4</th>\n",
       "      <td>58724.211918</td>\n",
       "      <td>351.493602</td>\n",
       "      <td>-4.912272</td>\n",
       "      <td>4</td>\n",
       "    </tr>\n",
       "    <tr>\n",
       "      <th>...</th>\n",
       "      <td>...</td>\n",
       "      <td>...</td>\n",
       "      <td>...</td>\n",
       "      <td>...</td>\n",
       "    </tr>\n",
       "    <tr>\n",
       "      <th>533</th>\n",
       "      <td>59141.170607</td>\n",
       "      <td>350.823873</td>\n",
       "      <td>-6.298928</td>\n",
       "      <td>533</td>\n",
       "    </tr>\n",
       "    <tr>\n",
       "      <th>534</th>\n",
       "      <td>59141.015429</td>\n",
       "      <td>350.894200</td>\n",
       "      <td>-6.219044</td>\n",
       "      <td>534</td>\n",
       "    </tr>\n",
       "    <tr>\n",
       "      <th>535</th>\n",
       "      <td>59141.170607</td>\n",
       "      <td>350.892061</td>\n",
       "      <td>-6.219824</td>\n",
       "      <td>535</td>\n",
       "    </tr>\n",
       "    <tr>\n",
       "      <th>536</th>\n",
       "      <td>59141.015429</td>\n",
       "      <td>351.552535</td>\n",
       "      <td>-6.290649</td>\n",
       "      <td>536</td>\n",
       "    </tr>\n",
       "    <tr>\n",
       "      <th>537</th>\n",
       "      <td>59141.170607</td>\n",
       "      <td>351.550284</td>\n",
       "      <td>-6.291750</td>\n",
       "      <td>537</td>\n",
       "    </tr>\n",
       "  </tbody>\n",
       "</table>\n",
       "<p>538 rows × 4 columns</p>\n",
       "</div>"
      ],
      "text/plain": [
       "             time          RA       DEC obsName\n",
       "0    58724.211918  351.129399 -4.943011       0\n",
       "1    58724.387113  351.126630 -4.944023       1\n",
       "2    58724.211918  351.365065 -4.922767       2\n",
       "3    58724.387113  351.362205 -4.923985       3\n",
       "4    58724.211918  351.493602 -4.912272       4\n",
       "..            ...         ...       ...     ...\n",
       "533  59141.170607  350.823873 -6.298928     533\n",
       "534  59141.015429  350.894200 -6.219044     534\n",
       "535  59141.170607  350.892061 -6.219824     535\n",
       "536  59141.015429  351.552535 -6.290649     536\n",
       "537  59141.170607  351.550284 -6.291750     537\n",
       "\n",
       "[538 rows x 4 columns]"
      ]
     },
     "execution_count": 9,
     "metadata": {},
     "output_type": "execute_result"
    }
   ],
   "source": [
    "dfin"
   ]
  },
  {
   "cell_type": "code",
   "execution_count": 10,
   "metadata": {},
   "outputs": [],
   "source": [
    "# help(hl)"
   ]
  },
  {
   "cell_type": "markdown",
   "metadata": {},
   "source": [
    "Select subset RA [310, 315] deg, Dec [-10, -5] deg, 16 nights "
   ]
  },
  {
   "cell_type": "code",
   "execution_count": 11,
   "metadata": {},
   "outputs": [],
   "source": [
    "# dfin_sel = hl.selectObservationSubset(dfin, RAmin=315, RAmax=320, DECmin=-10, DECmax=-5,\n",
    "#                             timemin=dfin['FieldMJD'].min(),timemax=dfin['FieldMJD'].min()+16,\n",
    "#                             RAName='AstRA(deg)',DECName='AstDec(deg)',timeName='FieldMJD')"
   ]
  },
  {
   "cell_type": "code",
   "execution_count": 12,
   "metadata": {},
   "outputs": [],
   "source": [
    "# dfin_sel"
   ]
  },
  {
   "cell_type": "code",
   "execution_count": 13,
   "metadata": {},
   "outputs": [],
   "source": [
    "# dfin_sel.FieldID.max()"
   ]
  },
  {
   "cell_type": "code",
   "execution_count": 14,
   "metadata": {},
   "outputs": [
    {
     "data": {
      "text/html": [
       "<div>\n",
       "<style scoped>\n",
       "    .dataframe tbody tr th:only-of-type {\n",
       "        vertical-align: middle;\n",
       "    }\n",
       "\n",
       "    .dataframe tbody tr th {\n",
       "        vertical-align: top;\n",
       "    }\n",
       "\n",
       "    .dataframe thead th {\n",
       "        text-align: right;\n",
       "    }\n",
       "</style>\n",
       "<table border=\"1\" class=\"dataframe\">\n",
       "  <thead>\n",
       "    <tr style=\"text-align: right;\">\n",
       "      <th></th>\n",
       "      <th>time</th>\n",
       "      <th>RA</th>\n",
       "      <th>DEC</th>\n",
       "      <th>obsName</th>\n",
       "    </tr>\n",
       "  </thead>\n",
       "  <tbody>\n",
       "    <tr>\n",
       "      <th>0</th>\n",
       "      <td>58724.211918</td>\n",
       "      <td>351.129399</td>\n",
       "      <td>-4.943011</td>\n",
       "      <td>0</td>\n",
       "    </tr>\n",
       "    <tr>\n",
       "      <th>1</th>\n",
       "      <td>58724.387113</td>\n",
       "      <td>351.126630</td>\n",
       "      <td>-4.944023</td>\n",
       "      <td>1</td>\n",
       "    </tr>\n",
       "    <tr>\n",
       "      <th>2</th>\n",
       "      <td>58724.211918</td>\n",
       "      <td>351.365065</td>\n",
       "      <td>-4.922767</td>\n",
       "      <td>2</td>\n",
       "    </tr>\n",
       "    <tr>\n",
       "      <th>3</th>\n",
       "      <td>58724.387113</td>\n",
       "      <td>351.362205</td>\n",
       "      <td>-4.923985</td>\n",
       "      <td>3</td>\n",
       "    </tr>\n",
       "    <tr>\n",
       "      <th>4</th>\n",
       "      <td>58724.211918</td>\n",
       "      <td>351.493602</td>\n",
       "      <td>-4.912272</td>\n",
       "      <td>4</td>\n",
       "    </tr>\n",
       "    <tr>\n",
       "      <th>...</th>\n",
       "      <td>...</td>\n",
       "      <td>...</td>\n",
       "      <td>...</td>\n",
       "      <td>...</td>\n",
       "    </tr>\n",
       "    <tr>\n",
       "      <th>533</th>\n",
       "      <td>59141.170607</td>\n",
       "      <td>350.823873</td>\n",
       "      <td>-6.298928</td>\n",
       "      <td>533</td>\n",
       "    </tr>\n",
       "    <tr>\n",
       "      <th>534</th>\n",
       "      <td>59141.015429</td>\n",
       "      <td>350.894200</td>\n",
       "      <td>-6.219044</td>\n",
       "      <td>534</td>\n",
       "    </tr>\n",
       "    <tr>\n",
       "      <th>535</th>\n",
       "      <td>59141.170607</td>\n",
       "      <td>350.892061</td>\n",
       "      <td>-6.219824</td>\n",
       "      <td>535</td>\n",
       "    </tr>\n",
       "    <tr>\n",
       "      <th>536</th>\n",
       "      <td>59141.015429</td>\n",
       "      <td>351.552535</td>\n",
       "      <td>-6.290649</td>\n",
       "      <td>536</td>\n",
       "    </tr>\n",
       "    <tr>\n",
       "      <th>537</th>\n",
       "      <td>59141.170607</td>\n",
       "      <td>351.550284</td>\n",
       "      <td>-6.291750</td>\n",
       "      <td>537</td>\n",
       "    </tr>\n",
       "  </tbody>\n",
       "</table>\n",
       "<p>538 rows × 4 columns</p>\n",
       "</div>"
      ],
      "text/plain": [
       "             time          RA       DEC obsName\n",
       "0    58724.211918  351.129399 -4.943011       0\n",
       "1    58724.387113  351.126630 -4.944023       1\n",
       "2    58724.211918  351.365065 -4.922767       2\n",
       "3    58724.387113  351.362205 -4.923985       3\n",
       "4    58724.211918  351.493602 -4.912272       4\n",
       "..            ...         ...       ...     ...\n",
       "533  59141.170607  350.823873 -6.298928     533\n",
       "534  59141.015429  350.894200 -6.219044     534\n",
       "535  59141.170607  350.892061 -6.219824     535\n",
       "536  59141.015429  351.552535 -6.290649     536\n",
       "537  59141.170607  351.550284 -6.291750     537\n",
       "\n",
       "[538 rows x 4 columns]"
      ]
     },
     "execution_count": 14,
     "metadata": {},
     "output_type": "execute_result"
    }
   ],
   "source": [
    "dfin"
   ]
  },
  {
   "cell_type": "code",
   "execution_count": 15,
   "metadata": {
    "scrolled": true
   },
   "outputs": [],
   "source": [
    "# convert observations to HelioLinC ingestible format\n",
    "import warnings\n",
    "warnings.filterwarnings('ignore')\n",
    "dfobs=hl.obs2heliolinc(dfin,uniqueObsId=True, uniqueObsIdName=\"obsName\", \n",
    "                  timeName=\"time\", raName=\"RA\", \n",
    "                  decName=\"DEC\", observerLocation='807')"
   ]
  },
  {
   "cell_type": "code",
   "execution_count": 16,
   "metadata": {},
   "outputs": [
    {
     "data": {
      "text/html": [
       "<div>\n",
       "<style scoped>\n",
       "    .dataframe tbody tr th:only-of-type {\n",
       "        vertical-align: middle;\n",
       "    }\n",
       "\n",
       "    .dataframe tbody tr th {\n",
       "        vertical-align: top;\n",
       "    }\n",
       "\n",
       "    .dataframe thead th {\n",
       "        text-align: right;\n",
       "    }\n",
       "</style>\n",
       "<table border=\"1\" class=\"dataframe\">\n",
       "  <thead>\n",
       "    <tr style=\"text-align: right;\">\n",
       "      <th></th>\n",
       "      <th>index</th>\n",
       "      <th>time</th>\n",
       "      <th>RA</th>\n",
       "      <th>DEC</th>\n",
       "      <th>obsId</th>\n",
       "      <th>obsName</th>\n",
       "      <th>night</th>\n",
       "    </tr>\n",
       "  </thead>\n",
       "  <tbody>\n",
       "    <tr>\n",
       "      <th>0</th>\n",
       "      <td>0</td>\n",
       "      <td>58724.211918</td>\n",
       "      <td>351.129399</td>\n",
       "      <td>-4.943011</td>\n",
       "      <td>0</td>\n",
       "      <td>0</td>\n",
       "      <td>0</td>\n",
       "    </tr>\n",
       "    <tr>\n",
       "      <th>1</th>\n",
       "      <td>1</td>\n",
       "      <td>58724.387113</td>\n",
       "      <td>351.126630</td>\n",
       "      <td>-4.944023</td>\n",
       "      <td>1</td>\n",
       "      <td>1</td>\n",
       "      <td>0</td>\n",
       "    </tr>\n",
       "    <tr>\n",
       "      <th>2</th>\n",
       "      <td>2</td>\n",
       "      <td>58724.211918</td>\n",
       "      <td>351.365065</td>\n",
       "      <td>-4.922767</td>\n",
       "      <td>2</td>\n",
       "      <td>2</td>\n",
       "      <td>0</td>\n",
       "    </tr>\n",
       "    <tr>\n",
       "      <th>3</th>\n",
       "      <td>3</td>\n",
       "      <td>58724.387113</td>\n",
       "      <td>351.362205</td>\n",
       "      <td>-4.923985</td>\n",
       "      <td>3</td>\n",
       "      <td>3</td>\n",
       "      <td>0</td>\n",
       "    </tr>\n",
       "    <tr>\n",
       "      <th>4</th>\n",
       "      <td>4</td>\n",
       "      <td>58724.211918</td>\n",
       "      <td>351.493602</td>\n",
       "      <td>-4.912272</td>\n",
       "      <td>4</td>\n",
       "      <td>4</td>\n",
       "      <td>0</td>\n",
       "    </tr>\n",
       "    <tr>\n",
       "      <th>...</th>\n",
       "      <td>...</td>\n",
       "      <td>...</td>\n",
       "      <td>...</td>\n",
       "      <td>...</td>\n",
       "      <td>...</td>\n",
       "      <td>...</td>\n",
       "      <td>...</td>\n",
       "    </tr>\n",
       "    <tr>\n",
       "      <th>533</th>\n",
       "      <td>533</td>\n",
       "      <td>59141.170607</td>\n",
       "      <td>350.823873</td>\n",
       "      <td>-6.298928</td>\n",
       "      <td>533</td>\n",
       "      <td>533</td>\n",
       "      <td>417</td>\n",
       "    </tr>\n",
       "    <tr>\n",
       "      <th>534</th>\n",
       "      <td>534</td>\n",
       "      <td>59141.015429</td>\n",
       "      <td>350.894200</td>\n",
       "      <td>-6.219044</td>\n",
       "      <td>534</td>\n",
       "      <td>534</td>\n",
       "      <td>417</td>\n",
       "    </tr>\n",
       "    <tr>\n",
       "      <th>535</th>\n",
       "      <td>535</td>\n",
       "      <td>59141.170607</td>\n",
       "      <td>350.892061</td>\n",
       "      <td>-6.219824</td>\n",
       "      <td>535</td>\n",
       "      <td>535</td>\n",
       "      <td>417</td>\n",
       "    </tr>\n",
       "    <tr>\n",
       "      <th>536</th>\n",
       "      <td>536</td>\n",
       "      <td>59141.015429</td>\n",
       "      <td>351.552535</td>\n",
       "      <td>-6.290649</td>\n",
       "      <td>536</td>\n",
       "      <td>536</td>\n",
       "      <td>417</td>\n",
       "    </tr>\n",
       "    <tr>\n",
       "      <th>537</th>\n",
       "      <td>537</td>\n",
       "      <td>59141.170607</td>\n",
       "      <td>351.550284</td>\n",
       "      <td>-6.291750</td>\n",
       "      <td>537</td>\n",
       "      <td>537</td>\n",
       "      <td>417</td>\n",
       "    </tr>\n",
       "  </tbody>\n",
       "</table>\n",
       "<p>538 rows × 7 columns</p>\n",
       "</div>"
      ],
      "text/plain": [
       "     index          time          RA       DEC  obsId obsName  night\n",
       "0        0  58724.211918  351.129399 -4.943011      0       0      0\n",
       "1        1  58724.387113  351.126630 -4.944023      1       1      0\n",
       "2        2  58724.211918  351.365065 -4.922767      2       2      0\n",
       "3        3  58724.387113  351.362205 -4.923985      3       3      0\n",
       "4        4  58724.211918  351.493602 -4.912272      4       4      0\n",
       "..     ...           ...         ...       ...    ...     ...    ...\n",
       "533    533  59141.170607  350.823873 -6.298928    533     533    417\n",
       "534    534  59141.015429  350.894200 -6.219044    534     534    417\n",
       "535    535  59141.170607  350.892061 -6.219824    535     535    417\n",
       "536    536  59141.015429  351.552535 -6.290649    536     536    417\n",
       "537    537  59141.170607  351.550284 -6.291750    537     537    417\n",
       "\n",
       "[538 rows x 7 columns]"
      ]
     },
     "execution_count": 16,
     "metadata": {},
     "output_type": "execute_result"
    }
   ],
   "source": [
    "dfobs"
   ]
  },
  {
   "cell_type": "code",
   "execution_count": null,
   "metadata": {},
   "outputs": [],
   "source": []
  },
  {
   "cell_type": "markdown",
   "metadata": {},
   "source": [
    "### Analyze LSST Field"
   ]
  },
  {
   "cell_type": "code",
   "execution_count": 17,
   "metadata": {},
   "outputs": [],
   "source": [
    "# hl.plot.plotField(dfin_sel,objName='ObjID',raName='AstRA(deg)',decName='AstDec(deg)')"
   ]
  },
  {
   "cell_type": "markdown",
   "metadata": {},
   "source": [
    "### Since we are looking at a fraction of the sky, how many nights do we actually observe?"
   ]
  },
  {
   "cell_type": "code",
   "execution_count": 18,
   "metadata": {},
   "outputs": [],
   "source": [
    "df_grouped_by_night=dfobs.groupby('night')"
   ]
  },
  {
   "cell_type": "code",
   "execution_count": 19,
   "metadata": {},
   "outputs": [
    {
     "data": {
      "text/plain": [
       "3"
      ]
     },
     "execution_count": 19,
     "metadata": {},
     "output_type": "execute_result"
    }
   ],
   "source": [
    "len(df_grouped_by_night.groups)"
   ]
  },
  {
   "cell_type": "code",
   "execution_count": 20,
   "metadata": {},
   "outputs": [
    {
     "data": {
      "text/plain": [
       "dict_keys([0, 29, 417])"
      ]
     },
     "execution_count": 20,
     "metadata": {},
     "output_type": "execute_result"
    }
   ],
   "source": [
    "df_grouped_by_night.groups.keys()"
   ]
  },
  {
   "cell_type": "markdown",
   "metadata": {},
   "source": [
    "## Run HelioLinC3D"
   ]
  },
  {
   "cell_type": "markdown",
   "metadata": {},
   "source": [
    "### Choose HelioLinC3D clustering parameters"
   ]
  },
  {
   "cell_type": "code",
   "execution_count": 1926,
   "metadata": {},
   "outputs": [],
   "source": [
    "# Clustering radius for heliocentric positions projected from observations [au]\n",
    "cr_obs=0.02\n",
    "#cr_obs=0.5\n",
    "# Clustering radius for propagated arrows [au]\n",
    "cr_arrows=0.1\n",
    "\n",
    "# max temporal separation for tracklet observations (days)\n",
    "ct_max=20/24\n",
    "# min temporal separation for tracklet observations, e.g. exposure time (days)\n",
    "ct_min=25/86400 \n",
    "# Minimum number of arrows to be clustered ('DBSCAN only')\n",
    "min_samples=3"
   ]
  },
  {
   "cell_type": "markdown",
   "metadata": {},
   "source": [
    "### Choose heliocentric distance and velocity grid"
   ]
  },
  {
   "cell_type": "code",
   "execution_count": 1927,
   "metadata": {},
   "outputs": [
    {
     "name": "stdout",
     "output_type": "stream",
     "text": [
      "2600\n"
     ]
    }
   ],
   "source": [
    "# define range of heliocentric distances\n",
    "#rall=np.arange(1.8,3.3,0.1)\n",
    "#rall=np.arange(2,3.4,0.1)\n",
    "rall=np.arange(2,3,0.01)\n",
    "# define range of heliocentric radial velocities\n",
    "drdtall=np.arange(-0.01,0.0151,0.001)\n",
    "np.append(drdtall,0.0)\n",
    "\n",
    "# Iterator for joblib based paralellization\n",
    "rrdot=np.array(np.meshgrid(rall,drdtall)).T.reshape(-1,2)\n",
    "\n",
    "# How many configuraitons do we have to run?\n",
    "print(len(rrdot))"
   ]
  },
  {
   "cell_type": "code",
   "execution_count": 1928,
   "metadata": {},
   "outputs": [
    {
     "data": {
      "text/html": [
       "<div>\n",
       "<style scoped>\n",
       "    .dataframe tbody tr th:only-of-type {\n",
       "        vertical-align: middle;\n",
       "    }\n",
       "\n",
       "    .dataframe tbody tr th {\n",
       "        vertical-align: top;\n",
       "    }\n",
       "\n",
       "    .dataframe thead th {\n",
       "        text-align: right;\n",
       "    }\n",
       "</style>\n",
       "<table border=\"1\" class=\"dataframe\">\n",
       "  <thead>\n",
       "    <tr style=\"text-align: right;\">\n",
       "      <th></th>\n",
       "      <th>time</th>\n",
       "      <th>RA</th>\n",
       "      <th>DEC</th>\n",
       "      <th>RA_vel</th>\n",
       "      <th>DEC_vel</th>\n",
       "      <th>night</th>\n",
       "      <th>obsId</th>\n",
       "    </tr>\n",
       "  </thead>\n",
       "  <tbody>\n",
       "    <tr>\n",
       "      <th>0</th>\n",
       "      <td>59846.000000</td>\n",
       "      <td>151.96078</td>\n",
       "      <td>18.61273</td>\n",
       "      <td>62.86641</td>\n",
       "      <td>-18.2245</td>\n",
       "      <td>0</td>\n",
       "      <td>0</td>\n",
       "    </tr>\n",
       "    <tr>\n",
       "      <th>6</th>\n",
       "      <td>59846.000000</td>\n",
       "      <td>152.96078</td>\n",
       "      <td>19.61273</td>\n",
       "      <td>62.86641</td>\n",
       "      <td>-18.2245</td>\n",
       "      <td>0</td>\n",
       "      <td>6</td>\n",
       "    </tr>\n",
       "    <tr>\n",
       "      <th>1</th>\n",
       "      <td>59846.083333</td>\n",
       "      <td>151.99769</td>\n",
       "      <td>18.60267</td>\n",
       "      <td>62.99025</td>\n",
       "      <td>-18.1377</td>\n",
       "      <td>0</td>\n",
       "      <td>1</td>\n",
       "    </tr>\n",
       "    <tr>\n",
       "      <th>7</th>\n",
       "      <td>59846.083333</td>\n",
       "      <td>154.99769</td>\n",
       "      <td>18.40267</td>\n",
       "      <td>62.99025</td>\n",
       "      <td>-18.1377</td>\n",
       "      <td>0</td>\n",
       "      <td>7</td>\n",
       "    </tr>\n",
       "    <tr>\n",
       "      <th>2</th>\n",
       "      <td>59847.000000</td>\n",
       "      <td>152.39944</td>\n",
       "      <td>18.49240</td>\n",
       "      <td>62.76400</td>\n",
       "      <td>-18.2503</td>\n",
       "      <td>1</td>\n",
       "      <td>2</td>\n",
       "    </tr>\n",
       "    <tr>\n",
       "      <th>8</th>\n",
       "      <td>59847.000000</td>\n",
       "      <td>151.39944</td>\n",
       "      <td>18.49240</td>\n",
       "      <td>62.76400</td>\n",
       "      <td>-18.2503</td>\n",
       "      <td>1</td>\n",
       "      <td>8</td>\n",
       "    </tr>\n",
       "    <tr>\n",
       "      <th>3</th>\n",
       "      <td>59847.083333</td>\n",
       "      <td>152.43626</td>\n",
       "      <td>18.48232</td>\n",
       "      <td>62.88522</td>\n",
       "      <td>-18.1632</td>\n",
       "      <td>1</td>\n",
       "      <td>3</td>\n",
       "    </tr>\n",
       "    <tr>\n",
       "      <th>9</th>\n",
       "      <td>59847.083333</td>\n",
       "      <td>151.43626</td>\n",
       "      <td>17.48232</td>\n",
       "      <td>62.88522</td>\n",
       "      <td>-18.1632</td>\n",
       "      <td>1</td>\n",
       "      <td>9</td>\n",
       "    </tr>\n",
       "    <tr>\n",
       "      <th>4</th>\n",
       "      <td>59850.000000</td>\n",
       "      <td>153.70890</td>\n",
       "      <td>18.13042</td>\n",
       "      <td>62.44117</td>\n",
       "      <td>-18.3063</td>\n",
       "      <td>4</td>\n",
       "      <td>4</td>\n",
       "    </tr>\n",
       "    <tr>\n",
       "      <th>10</th>\n",
       "      <td>59850.000000</td>\n",
       "      <td>154.70890</td>\n",
       "      <td>19.13042</td>\n",
       "      <td>62.44117</td>\n",
       "      <td>-18.3063</td>\n",
       "      <td>4</td>\n",
       "      <td>10</td>\n",
       "    </tr>\n",
       "    <tr>\n",
       "      <th>5</th>\n",
       "      <td>59850.083333</td>\n",
       "      <td>153.74546</td>\n",
       "      <td>18.12031</td>\n",
       "      <td>62.55443</td>\n",
       "      <td>-18.2182</td>\n",
       "      <td>4</td>\n",
       "      <td>5</td>\n",
       "    </tr>\n",
       "    <tr>\n",
       "      <th>11</th>\n",
       "      <td>59850.083333</td>\n",
       "      <td>155.74546</td>\n",
       "      <td>18.12031</td>\n",
       "      <td>62.55443</td>\n",
       "      <td>-18.2182</td>\n",
       "      <td>4</td>\n",
       "      <td>11</td>\n",
       "    </tr>\n",
       "  </tbody>\n",
       "</table>\n",
       "</div>"
      ],
      "text/plain": [
       "            time         RA       DEC    RA_vel  DEC_vel  night  obsId\n",
       "0   59846.000000  151.96078  18.61273  62.86641 -18.2245      0      0\n",
       "6   59846.000000  152.96078  19.61273  62.86641 -18.2245      0      6\n",
       "1   59846.083333  151.99769  18.60267  62.99025 -18.1377      0      1\n",
       "7   59846.083333  154.99769  18.40267  62.99025 -18.1377      0      7\n",
       "2   59847.000000  152.39944  18.49240  62.76400 -18.2503      1      2\n",
       "8   59847.000000  151.39944  18.49240  62.76400 -18.2503      1      8\n",
       "3   59847.083333  152.43626  18.48232  62.88522 -18.1632      1      3\n",
       "9   59847.083333  151.43626  17.48232  62.88522 -18.1632      1      9\n",
       "4   59850.000000  153.70890  18.13042  62.44117 -18.3063      4      4\n",
       "10  59850.000000  154.70890  19.13042  62.44117 -18.3063      4     10\n",
       "5   59850.083333  153.74546  18.12031  62.55443 -18.2182      4      5\n",
       "11  59850.083333  155.74546  18.12031  62.55443 -18.2182      4     11"
      ]
     },
     "execution_count": 1928,
     "metadata": {},
     "output_type": "execute_result"
    }
   ],
   "source": [
    "dfobs"
   ]
  },
  {
   "cell_type": "code",
   "execution_count": null,
   "metadata": {},
   "outputs": [],
   "source": []
  },
  {
   "cell_type": "code",
   "execution_count": 2426,
   "metadata": {},
   "outputs": [],
   "source": [
    "import importlib\n",
    "importlib.reload(hl)\n",
    "import heliolinc2 as hl"
   ]
  },
  {
   "cell_type": "code",
   "execution_count": 2427,
   "metadata": {},
   "outputs": [
    {
     "name": "stdout",
     "output_type": "stream",
     "text": [
      "The autoreload extension is already loaded. To reload it, use:\n",
      "  %reload_ext autoreload\n"
     ]
    }
   ],
   "source": [
    "%load_ext autoreload\n"
   ]
  },
  {
   "cell_type": "code",
   "execution_count": 2428,
   "metadata": {},
   "outputs": [],
   "source": [
    "%autoreload 2"
   ]
  },
  {
   "cell_type": "code",
   "execution_count": 2429,
   "metadata": {},
   "outputs": [],
   "source": [
    "dftrails=pd.DataFrame()"
   ]
  },
  {
   "cell_type": "code",
   "execution_count": 2430,
   "metadata": {},
   "outputs": [],
   "source": [
    "dftrails=pd.concat([trailin0,trailin1,trailin2]).reset_index(drop=True)"
   ]
  },
  {
   "cell_type": "code",
   "execution_count": 2431,
   "metadata": {},
   "outputs": [
    {
     "data": {
      "text/plain": [
       "0.0002959122082326087"
      ]
     },
     "execution_count": 2431,
     "metadata": {},
     "output_type": "execute_result"
    }
   ],
   "source": [
    "hl.GM"
   ]
  },
  {
   "cell_type": "code",
   "execution_count": 2432,
   "metadata": {},
   "outputs": [],
   "source": [
    "t=2459846.500000000"
   ]
  },
  {
   "cell_type": "code",
   "execution_count": null,
   "metadata": {},
   "outputs": [],
   "source": []
  },
  {
   "cell_type": "code",
   "execution_count": null,
   "metadata": {},
   "outputs": [],
   "source": []
  },
  {
   "cell_type": "code",
   "execution_count": null,
   "metadata": {},
   "outputs": [],
   "source": []
  },
  {
   "cell_type": "code",
   "execution_count": 2433,
   "metadata": {},
   "outputs": [],
   "source": [
    "ceres_good = np.array([[ 2459846.500000000,   151.96078,  18.61273, 62.86641,  -18.2245],\n",
    "                       [2459846.583333333,     151.99769,  18.60267, 62.99025,  -18.1377], \n",
    "                       [2459847.500000000,    152.39944,  18.49240, 62.76400, -18.2503],\n",
    "                       [2459847.583333333,     152.43626,  18.48232, 62.88522, -18.1632],\n",
    "                       [2459850.500000000,  153.70890,  18.13042, 62.44117,  -18.3063], \n",
    "                       [2459850.583333333,     153.74546,  18.12031, 62.55443,  -18.2182]])\n",
    "\n",
    "\n",
    "ceres_rnd = np.array([[ 2459846.500000000,   152.96078,  19.61273, 62.86641,  -18.2245],\n",
    "                       [2459846.583333333,     154.99769,  18.40267, 62.99025,  -18.1377], \n",
    "                       [2459847.500000000,    151.39944,  18.49240, 62.76400, -18.2503],\n",
    "                       [2459847.583333333,     151.43626,  17.48232, 62.88522, -18.1632],\n",
    "                       [2459850.500000000,  154.70890,  19.13042, 62.44117,  -18.3063], \n",
    "                       [2459850.583333333,     155.74546,  18.12031, 62.55443,  -18.2182]])"
   ]
  },
  {
   "cell_type": "code",
   "execution_count": 2434,
   "metadata": {},
   "outputs": [],
   "source": [
    "ceres_obs=np.vstack([ceres_good,ceres_rnd])"
   ]
  },
  {
   "cell_type": "code",
   "execution_count": 2435,
   "metadata": {},
   "outputs": [],
   "source": [
    "ceres_obs[:,0]=ceres_obs[:,0]-2400000.5"
   ]
  },
  {
   "cell_type": "code",
   "execution_count": 2436,
   "metadata": {},
   "outputs": [],
   "source": [
    "dfobs = pd.DataFrame(ceres_obs, columns=['time','RA','DEC','RA_vel','DEC_vel'])"
   ]
  },
  {
   "cell_type": "code",
   "execution_count": 2437,
   "metadata": {},
   "outputs": [],
   "source": [
    "dfobs['night']=hl.utility.lsstNight(dfobs['time'],minexpMJD=dfobs['time'].min(),local_midnight=0.166)"
   ]
  },
  {
   "cell_type": "code",
   "execution_count": 2438,
   "metadata": {},
   "outputs": [],
   "source": [
    "dfobs['obsId']=dfobs.index"
   ]
  },
  {
   "cell_type": "code",
   "execution_count": 2439,
   "metadata": {},
   "outputs": [],
   "source": [
    "dfobs.sort_values(['time'],inplace=True)"
   ]
  },
  {
   "cell_type": "code",
   "execution_count": 2440,
   "metadata": {},
   "outputs": [
    {
     "data": {
      "text/html": [
       "<div>\n",
       "<style scoped>\n",
       "    .dataframe tbody tr th:only-of-type {\n",
       "        vertical-align: middle;\n",
       "    }\n",
       "\n",
       "    .dataframe tbody tr th {\n",
       "        vertical-align: top;\n",
       "    }\n",
       "\n",
       "    .dataframe thead th {\n",
       "        text-align: right;\n",
       "    }\n",
       "</style>\n",
       "<table border=\"1\" class=\"dataframe\">\n",
       "  <thead>\n",
       "    <tr style=\"text-align: right;\">\n",
       "      <th></th>\n",
       "      <th>time</th>\n",
       "      <th>RA</th>\n",
       "      <th>DEC</th>\n",
       "      <th>RA_vel</th>\n",
       "      <th>DEC_vel</th>\n",
       "      <th>night</th>\n",
       "      <th>obsId</th>\n",
       "    </tr>\n",
       "  </thead>\n",
       "  <tbody>\n",
       "    <tr>\n",
       "      <th>0</th>\n",
       "      <td>59846.000000</td>\n",
       "      <td>151.96078</td>\n",
       "      <td>18.61273</td>\n",
       "      <td>62.86641</td>\n",
       "      <td>-18.2245</td>\n",
       "      <td>0</td>\n",
       "      <td>0</td>\n",
       "    </tr>\n",
       "    <tr>\n",
       "      <th>6</th>\n",
       "      <td>59846.000000</td>\n",
       "      <td>152.96078</td>\n",
       "      <td>19.61273</td>\n",
       "      <td>62.86641</td>\n",
       "      <td>-18.2245</td>\n",
       "      <td>0</td>\n",
       "      <td>6</td>\n",
       "    </tr>\n",
       "    <tr>\n",
       "      <th>1</th>\n",
       "      <td>59846.083333</td>\n",
       "      <td>151.99769</td>\n",
       "      <td>18.60267</td>\n",
       "      <td>62.99025</td>\n",
       "      <td>-18.1377</td>\n",
       "      <td>0</td>\n",
       "      <td>1</td>\n",
       "    </tr>\n",
       "    <tr>\n",
       "      <th>7</th>\n",
       "      <td>59846.083333</td>\n",
       "      <td>154.99769</td>\n",
       "      <td>18.40267</td>\n",
       "      <td>62.99025</td>\n",
       "      <td>-18.1377</td>\n",
       "      <td>0</td>\n",
       "      <td>7</td>\n",
       "    </tr>\n",
       "    <tr>\n",
       "      <th>2</th>\n",
       "      <td>59847.000000</td>\n",
       "      <td>152.39944</td>\n",
       "      <td>18.49240</td>\n",
       "      <td>62.76400</td>\n",
       "      <td>-18.2503</td>\n",
       "      <td>1</td>\n",
       "      <td>2</td>\n",
       "    </tr>\n",
       "    <tr>\n",
       "      <th>8</th>\n",
       "      <td>59847.000000</td>\n",
       "      <td>151.39944</td>\n",
       "      <td>18.49240</td>\n",
       "      <td>62.76400</td>\n",
       "      <td>-18.2503</td>\n",
       "      <td>1</td>\n",
       "      <td>8</td>\n",
       "    </tr>\n",
       "    <tr>\n",
       "      <th>3</th>\n",
       "      <td>59847.083333</td>\n",
       "      <td>152.43626</td>\n",
       "      <td>18.48232</td>\n",
       "      <td>62.88522</td>\n",
       "      <td>-18.1632</td>\n",
       "      <td>1</td>\n",
       "      <td>3</td>\n",
       "    </tr>\n",
       "    <tr>\n",
       "      <th>9</th>\n",
       "      <td>59847.083333</td>\n",
       "      <td>151.43626</td>\n",
       "      <td>17.48232</td>\n",
       "      <td>62.88522</td>\n",
       "      <td>-18.1632</td>\n",
       "      <td>1</td>\n",
       "      <td>9</td>\n",
       "    </tr>\n",
       "    <tr>\n",
       "      <th>4</th>\n",
       "      <td>59850.000000</td>\n",
       "      <td>153.70890</td>\n",
       "      <td>18.13042</td>\n",
       "      <td>62.44117</td>\n",
       "      <td>-18.3063</td>\n",
       "      <td>4</td>\n",
       "      <td>4</td>\n",
       "    </tr>\n",
       "    <tr>\n",
       "      <th>10</th>\n",
       "      <td>59850.000000</td>\n",
       "      <td>154.70890</td>\n",
       "      <td>19.13042</td>\n",
       "      <td>62.44117</td>\n",
       "      <td>-18.3063</td>\n",
       "      <td>4</td>\n",
       "      <td>10</td>\n",
       "    </tr>\n",
       "    <tr>\n",
       "      <th>5</th>\n",
       "      <td>59850.083333</td>\n",
       "      <td>153.74546</td>\n",
       "      <td>18.12031</td>\n",
       "      <td>62.55443</td>\n",
       "      <td>-18.2182</td>\n",
       "      <td>4</td>\n",
       "      <td>5</td>\n",
       "    </tr>\n",
       "    <tr>\n",
       "      <th>11</th>\n",
       "      <td>59850.083333</td>\n",
       "      <td>155.74546</td>\n",
       "      <td>18.12031</td>\n",
       "      <td>62.55443</td>\n",
       "      <td>-18.2182</td>\n",
       "      <td>4</td>\n",
       "      <td>11</td>\n",
       "    </tr>\n",
       "  </tbody>\n",
       "</table>\n",
       "</div>"
      ],
      "text/plain": [
       "            time         RA       DEC    RA_vel  DEC_vel  night  obsId\n",
       "0   59846.000000  151.96078  18.61273  62.86641 -18.2245      0      0\n",
       "6   59846.000000  152.96078  19.61273  62.86641 -18.2245      0      6\n",
       "1   59846.083333  151.99769  18.60267  62.99025 -18.1377      0      1\n",
       "7   59846.083333  154.99769  18.40267  62.99025 -18.1377      0      7\n",
       "2   59847.000000  152.39944  18.49240  62.76400 -18.2503      1      2\n",
       "8   59847.000000  151.39944  18.49240  62.76400 -18.2503      1      8\n",
       "3   59847.083333  152.43626  18.48232  62.88522 -18.1632      1      3\n",
       "9   59847.083333  151.43626  17.48232  62.88522 -18.1632      1      9\n",
       "4   59850.000000  153.70890  18.13042  62.44117 -18.3063      4      4\n",
       "10  59850.000000  154.70890  19.13042  62.44117 -18.3063      4     10\n",
       "5   59850.083333  153.74546  18.12031  62.55443 -18.2182      4      5\n",
       "11  59850.083333  155.74546  18.12031  62.55443 -18.2182      4     11"
      ]
     },
     "execution_count": 2440,
     "metadata": {},
     "output_type": "execute_result"
    }
   ],
   "source": [
    "dfobs"
   ]
  },
  {
   "cell_type": "code",
   "execution_count": 2441,
   "metadata": {},
   "outputs": [],
   "source": [
    "didymos_trail= np.array([[2459846.500000000, 42.18920, -34.83990, 358.5216,  36.50594],\n",
    "                [2459861.000000000,  83.16257, -20.50257, 314.6502,  219.7782],\n",
    "                [2459876.500000000,109.23255,  -1.03389, 184.0275,  145.0869]])\n",
    "\n",
    "ceres_trail = np.array([[2459846.500000000, 151.96078,  18.61273, 62.86641,  -18.2245],\n",
    "                  [2459847.500000000,    152.39944,  18.49240, 62.76400, -18.2503],\n",
    "                   [2459854.000000000,  155.22470 , 17.70723, 61.05184,  -18.1143],\n",
    "                   [2459876.500000000,   164.60869,  15.01664 ,58.86265,  -17.5017]])\n",
    "\n",
    "ceres_trail_rnd = np.array([[2459846.600000000, 151.86078,  18.61273, 62.86641,  -18.2245],\n",
    "                  [2459847.800000000,    152.39944,  19.49240, 62.76400, -18.2503],\n",
    "                   [2459854.100000000,  155.42470 , 17.70723, 61.184,  -19.1143],\n",
    "                   [2459876.700000000,   164.60869,  15.01664 ,58.96265,  -17.5017]])"
   ]
  },
  {
   "cell_type": "code",
   "execution_count": 2442,
   "metadata": {},
   "outputs": [],
   "source": [
    "\n",
    "#asteroid=np.vstack([ceres_trail,didymos_trail])\n",
    "\n",
    "asteroid=ceres_trail"
   ]
  },
  {
   "cell_type": "code",
   "execution_count": 2443,
   "metadata": {},
   "outputs": [],
   "source": [
    "asteroid[:,0]=asteroid[:,0]-2400000.5"
   ]
  },
  {
   "cell_type": "code",
   "execution_count": 2444,
   "metadata": {},
   "outputs": [],
   "source": [
    "asteroid[:,3]=asteroid[:,3]/np.cos(np.deg2rad(asteroid[:,2]))/3600*24\n",
    "#asteroid[:,3]=asteroid[:,3]/3600*24"
   ]
  },
  {
   "cell_type": "code",
   "execution_count": 2445,
   "metadata": {},
   "outputs": [],
   "source": [
    "asteroid[:,4]=asteroid[:,4]/3600*24"
   ]
  },
  {
   "cell_type": "code",
   "execution_count": 2446,
   "metadata": {},
   "outputs": [],
   "source": [
    "dftrails = pd.DataFrame(asteroid, columns=['time','RA_center','DEC_center','RA_vel','DEC_vel'])"
   ]
  },
  {
   "cell_type": "code",
   "execution_count": 2447,
   "metadata": {},
   "outputs": [],
   "source": [
    "dftrails.sort_values(['time'],inplace=True)"
   ]
  },
  {
   "cell_type": "code",
   "execution_count": 2448,
   "metadata": {},
   "outputs": [],
   "source": [
    "dftrails.reset_index(drop=True,inplace=True)"
   ]
  },
  {
   "cell_type": "code",
   "execution_count": 2449,
   "metadata": {},
   "outputs": [],
   "source": [
    "dftrails['night']=hl.utility.lsstNight(dftrails['time'],minexpMJD=dftrails['time'].min(),local_midnight=0.166)\n"
   ]
  },
  {
   "cell_type": "code",
   "execution_count": null,
   "metadata": {},
   "outputs": [],
   "source": []
  },
  {
   "cell_type": "code",
   "execution_count": 2450,
   "metadata": {},
   "outputs": [],
   "source": [
    "dftrails['trailId']=dftrails.index"
   ]
  },
  {
   "cell_type": "code",
   "execution_count": 2451,
   "metadata": {},
   "outputs": [
    {
     "data": {
      "text/html": [
       "<div>\n",
       "<style scoped>\n",
       "    .dataframe tbody tr th:only-of-type {\n",
       "        vertical-align: middle;\n",
       "    }\n",
       "\n",
       "    .dataframe tbody tr th {\n",
       "        vertical-align: top;\n",
       "    }\n",
       "\n",
       "    .dataframe thead th {\n",
       "        text-align: right;\n",
       "    }\n",
       "</style>\n",
       "<table border=\"1\" class=\"dataframe\">\n",
       "  <thead>\n",
       "    <tr style=\"text-align: right;\">\n",
       "      <th></th>\n",
       "      <th>time</th>\n",
       "      <th>RA_center</th>\n",
       "      <th>DEC_center</th>\n",
       "      <th>RA_vel</th>\n",
       "      <th>DEC_vel</th>\n",
       "      <th>night</th>\n",
       "      <th>trailId</th>\n",
       "    </tr>\n",
       "  </thead>\n",
       "  <tbody>\n",
       "    <tr>\n",
       "      <th>0</th>\n",
       "      <td>59846.0</td>\n",
       "      <td>151.96078</td>\n",
       "      <td>18.61273</td>\n",
       "      <td>0.442240</td>\n",
       "      <td>-0.121497</td>\n",
       "      <td>0</td>\n",
       "      <td>0</td>\n",
       "    </tr>\n",
       "    <tr>\n",
       "      <th>1</th>\n",
       "      <td>59847.0</td>\n",
       "      <td>152.39944</td>\n",
       "      <td>18.49240</td>\n",
       "      <td>0.441208</td>\n",
       "      <td>-0.121669</td>\n",
       "      <td>1</td>\n",
       "      <td>1</td>\n",
       "    </tr>\n",
       "    <tr>\n",
       "      <th>2</th>\n",
       "      <td>59853.5</td>\n",
       "      <td>155.22470</td>\n",
       "      <td>17.70723</td>\n",
       "      <td>0.427254</td>\n",
       "      <td>-0.120762</td>\n",
       "      <td>7</td>\n",
       "      <td>2</td>\n",
       "    </tr>\n",
       "    <tr>\n",
       "      <th>3</th>\n",
       "      <td>59876.0</td>\n",
       "      <td>164.60869</td>\n",
       "      <td>15.01664</td>\n",
       "      <td>0.406292</td>\n",
       "      <td>-0.116678</td>\n",
       "      <td>30</td>\n",
       "      <td>3</td>\n",
       "    </tr>\n",
       "  </tbody>\n",
       "</table>\n",
       "</div>"
      ],
      "text/plain": [
       "      time  RA_center  DEC_center    RA_vel   DEC_vel  night  trailId\n",
       "0  59846.0  151.96078    18.61273  0.442240 -0.121497      0        0\n",
       "1  59847.0  152.39944    18.49240  0.441208 -0.121669      1        1\n",
       "2  59853.5  155.22470    17.70723  0.427254 -0.120762      7        2\n",
       "3  59876.0  164.60869    15.01664  0.406292 -0.116678     30        3"
      ]
     },
     "execution_count": 2451,
     "metadata": {},
     "output_type": "execute_result"
    }
   ],
   "source": [
    "dftrails"
   ]
  },
  {
   "cell_type": "code",
   "execution_count": 2452,
   "metadata": {},
   "outputs": [],
   "source": [
    "#dftrails.loc[dftrails['night']==417]"
   ]
  },
  {
   "cell_type": "code",
   "execution_count": 2453,
   "metadata": {},
   "outputs": [
    {
     "data": {
      "text/plain": [
       "array([0, 1, 2, 3])"
      ]
     },
     "execution_count": 2453,
     "metadata": {},
     "output_type": "execute_result"
    }
   ],
   "source": [
    "dftrails.index.values"
   ]
  },
  {
   "cell_type": "code",
   "execution_count": 2454,
   "metadata": {},
   "outputs": [],
   "source": [
    "rceres=np.array([-1.787842851392200E+00,  1.799879278399844E+00,  3.847212010844911E-01])"
   ]
  },
  {
   "cell_type": "code",
   "execution_count": 2455,
   "metadata": {},
   "outputs": [
    {
     "data": {
      "text/plain": [
       "59846.0"
      ]
     },
     "execution_count": 2455,
     "metadata": {},
     "output_type": "execute_result"
    }
   ],
   "source": [
    "dftrails['time'].min()"
   ]
  },
  {
   "cell_type": "code",
   "execution_count": 2456,
   "metadata": {},
   "outputs": [],
   "source": [
    "t=dftrails['time'].values"
   ]
  },
  {
   "cell_type": "code",
   "execution_count": 2457,
   "metadata": {},
   "outputs": [
    {
     "data": {
      "text/plain": [
       "array([59846. , 59847. , 59853.5, 59876. ])"
      ]
     },
     "execution_count": 2457,
     "metadata": {},
     "output_type": "execute_result"
    }
   ],
   "source": [
    "t"
   ]
  },
  {
   "cell_type": "code",
   "execution_count": 2458,
   "metadata": {},
   "outputs": [],
   "source": [
    "import importlib\n",
    "importlib.reload(hl)\n",
    "import heliolinc2 as hl"
   ]
  },
  {
   "cell_type": "code",
   "execution_count": 2459,
   "metadata": {},
   "outputs": [],
   "source": [
    "#ceres_xyz,ceres_vxyz=hl.getTargetStates(t,target_id='Ceres', observer_id='@0', ephemeris_dt='11h', frame='ecliptic')"
   ]
  },
  {
   "cell_type": "code",
   "execution_count": 2460,
   "metadata": {},
   "outputs": [],
   "source": [
    "ceres_xyz,ceres_vxyz=hl.getTargetStates(t,target_id='Ceres', observer_id='@0', ephemeris_dt='5h', frame='ecliptic')"
   ]
  },
  {
   "cell_type": "code",
   "execution_count": 2461,
   "metadata": {},
   "outputs": [
    {
     "data": {
      "text/plain": [
       "array([[-1.79162602,  1.79581892,  0.38528994],\n",
       "       [-1.79916872,  1.78767445,  0.38642232],\n",
       "       [-1.84741884,  1.7339719 ,  0.39361548],\n",
       "       [-2.00358562,  1.53831963,  0.41620746]])"
      ]
     },
     "execution_count": 2461,
     "metadata": {},
     "output_type": "execute_result"
    }
   ],
   "source": [
    "ceres_xyz"
   ]
  },
  {
   "cell_type": "code",
   "execution_count": 2462,
   "metadata": {},
   "outputs": [
    {
     "data": {
      "text/plain": [
       "2.5659224229604507"
      ]
     },
     "execution_count": 2462,
     "metadata": {},
     "output_type": "execute_result"
    }
   ],
   "source": [
    "np.linalg.norm(rceres)"
   ]
  },
  {
   "cell_type": "code",
   "execution_count": 2463,
   "metadata": {},
   "outputs": [
    {
     "name": "stdout",
     "output_type": "stream",
     "text": [
      "Help on function lsstNight in module heliolinc2.utility:\n",
      "\n",
      "lsstNight(expMJD, minexpMJD=0, local_midnight=0.166)\n",
      "    Calculate the night for a given observation epoch and a survey start date.\n",
      "    \n",
      "    Parameters:\n",
      "    -----------\n",
      "    expMJD ... epoch of observation / exposure [modified Julian date, MJD]\n",
      "    minexpMJD ... start date of survey [modified Julian date, MJD]\n",
      "    \n",
      "    Returns:\n",
      "    --------\n",
      "    night ... the night of a given observation epoch with respect to the survey start date.\n",
      "\n"
     ]
    }
   ],
   "source": [
    "help(hl.utility.lsstNight)"
   ]
  },
  {
   "cell_type": "code",
   "execution_count": 2464,
   "metadata": {},
   "outputs": [],
   "source": [
    "#dftrails=pd.DataFrame()\n",
    "#dfobs=pd.DataFrame()"
   ]
  },
  {
   "cell_type": "code",
   "execution_count": 2465,
   "metadata": {},
   "outputs": [
    {
     "data": {
      "text/plain": [
       "array([], dtype=int64)"
      ]
     },
     "execution_count": 2465,
     "metadata": {},
     "output_type": "execute_result"
    }
   ],
   "source": [
    "np.where(dftrails.index.values>3)[0]"
   ]
  },
  {
   "cell_type": "code",
   "execution_count": 2466,
   "metadata": {},
   "outputs": [
    {
     "data": {
      "text/plain": [
       "array([0, 1, 2, 3])"
      ]
     },
     "execution_count": 2466,
     "metadata": {},
     "output_type": "execute_result"
    }
   ],
   "source": [
    "dftrails.reset_index().index.values"
   ]
  },
  {
   "cell_type": "code",
   "execution_count": 2467,
   "metadata": {},
   "outputs": [
    {
     "data": {
      "text/plain": [
       "array([59846.        , 59846.        , 59846.08333333, 59846.08333333,\n",
       "       59847.        , 59847.        , 59847.08333333, 59847.08333333,\n",
       "       59850.        , 59850.        , 59850.08333333, 59850.08333333])"
      ]
     },
     "execution_count": 2467,
     "metadata": {},
     "output_type": "execute_result"
    }
   ],
   "source": [
    "dfobs['time'].values"
   ]
  },
  {
   "cell_type": "code",
   "execution_count": 2468,
   "metadata": {},
   "outputs": [],
   "source": [
    "#dftrails['time'].values"
   ]
  },
  {
   "cell_type": "code",
   "execution_count": 2469,
   "metadata": {},
   "outputs": [],
   "source": [
    "    # Calculate how much the heliocentric distance changes\n",
    "# during the obsevations based on assumed dr/dt\n",
    "\n",
    "tref=1\n",
    "t0=0\n",
    "drdt=-0.1\n",
    "GM=0.0172**2\n",
    "r=1\n",
    "\n",
    "dt = t0-tref\n",
    "dr = (drdt-GM/(r*r)*dt/2)*dt\n",
    "r_plus_dr = r+dr"
   ]
  },
  {
   "cell_type": "code",
   "execution_count": 2470,
   "metadata": {},
   "outputs": [
    {
     "name": "stdout",
     "output_type": "stream",
     "text": [
      "1.09985208\n"
     ]
    }
   ],
   "source": [
    "print(r_plus_dr)"
   ]
  },
  {
   "cell_type": "code",
   "execution_count": 2471,
   "metadata": {},
   "outputs": [],
   "source": [
    "#np.concatenate([dfobs['time'].values,dftrails['time'].values])"
   ]
  },
  {
   "cell_type": "code",
   "execution_count": 2472,
   "metadata": {},
   "outputs": [],
   "source": [
    "ceresr=np.linalg.norm(ceres_xyz,axis=1)"
   ]
  },
  {
   "cell_type": "code",
   "execution_count": 2473,
   "metadata": {},
   "outputs": [],
   "source": [
    "ceresrv=np.linalg.norm(np.dot(ceres_xyz,ceres_vxyz.T),axis=1)"
   ]
  },
  {
   "cell_type": "code",
   "execution_count": 2474,
   "metadata": {},
   "outputs": [],
   "source": [
    "ceresv=np.linalg.norm(ceres_vxyz,axis=1)"
   ]
  },
  {
   "cell_type": "code",
   "execution_count": 2475,
   "metadata": {},
   "outputs": [
    {
     "data": {
      "text/plain": [
       "array([0.00446349, 0.0042734 , 0.00323604, 0.0048848 ])"
      ]
     },
     "execution_count": 2475,
     "metadata": {},
     "output_type": "execute_result"
    }
   ],
   "source": [
    "ceresrv"
   ]
  },
  {
   "cell_type": "code",
   "execution_count": 2476,
   "metadata": {},
   "outputs": [
    {
     "data": {
      "text/plain": [
       "array([59846. , 59847. , 59853.5, 59876. ])"
      ]
     },
     "execution_count": 2476,
     "metadata": {},
     "output_type": "execute_result"
    }
   ],
   "source": [
    "t"
   ]
  },
  {
   "cell_type": "code",
   "execution_count": 2477,
   "metadata": {},
   "outputs": [
    {
     "data": {
      "text/plain": [
       "array([[-1.79162602,  1.79581892,  0.38528994],\n",
       "       [-1.79916872,  1.78767445,  0.38642232],\n",
       "       [-1.84741884,  1.7339719 ,  0.39361548],\n",
       "       [-2.00358562,  1.53831963,  0.41620746]])"
      ]
     },
     "execution_count": 2477,
     "metadata": {},
     "output_type": "execute_result"
    }
   ],
   "source": [
    "ceres_xyz"
   ]
  },
  {
   "cell_type": "code",
   "execution_count": 2478,
   "metadata": {},
   "outputs": [
    {
     "data": {
      "text/plain": [
       "array([[-0.00755847, -0.00812864,  0.00113579],\n",
       "       [-0.00752691, -0.00816028,  0.00112897],\n",
       "       [-0.00731829, -0.00836262,  0.00108415],\n",
       "       [-0.00655215, -0.00901625,  0.00092238]])"
      ]
     },
     "execution_count": 2478,
     "metadata": {},
     "output_type": "execute_result"
    }
   ],
   "source": [
    "ceres_vxyz"
   ]
  },
  {
   "cell_type": "code",
   "execution_count": 2479,
   "metadata": {},
   "outputs": [],
   "source": [
    "# Generate fake observations"
   ]
  },
  {
   "cell_type": "code",
   "execution_count": 2480,
   "metadata": {},
   "outputs": [
    {
     "data": {
      "text/plain": [
       "array([59846.        , 59846.08333333, 59847.        , 59847.08333333,\n",
       "       59850.        , 59850.08333333])"
      ]
     },
     "execution_count": 2480,
     "metadata": {},
     "output_type": "execute_result"
    }
   ],
   "source": [
    "np.unique(dfobs['time'].values)"
   ]
  },
  {
   "cell_type": "code",
   "execution_count": 2481,
   "metadata": {},
   "outputs": [],
   "source": [
    "# sp.conics(np.array([2.5,0,0,0,0,0,0,hl.GM]),0.)"
   ]
  },
  {
   "cell_type": "code",
   "execution_count": 2482,
   "metadata": {},
   "outputs": [],
   "source": [
    "def makeFakeObservations(time,orbital_elements,origin='SSB',observer='I11'):\n",
    "    \n",
    "    state=sp.conics(orbital_elements,0.)\n",
    "    fake=[]\n",
    "\n",
    "    for t in time:\n",
    "        fake.append(sp.prop2b(orbital_elements[-1],state,t)[0:6])\n",
    "\n",
    "    fk=np.array(fake)  \n",
    "\n",
    "    obsxyz=hl.getObserverStates(time,origin=origin,observer_location=observer,ephemeris_dt='5h',frame='ecliptic')\n",
    "\n",
    "    fko=fk[:,0:3]-obsxyz[0]\n",
    "\n",
    "    ra,dec=hl.ecliptic2radec(fko)\n",
    "\n",
    "    df=pd.DataFrame(np.array([time,ra,dec]).T,columns=['time','RA','DEC'])\n",
    "    df['night']=hl.utility.lsstNight(df['time'],minexpMJD=df['time'].min(),local_midnight=0.166)\n",
    "    df['obsId']=df.index\n",
    "    \n",
    "    return df\n",
    "    "
   ]
  },
  {
   "cell_type": "code",
   "execution_count": 2483,
   "metadata": {},
   "outputs": [],
   "source": [
    "def makeFakeTrails(time,dt,orbital_elements,origin='SSB',observer='I11'):\n",
    "    state=sp.conics(orbital_elements,0.)\n",
    "    fake1=[]\n",
    "    fake0=[]\n",
    "\n",
    "    for t in (time+dt):\n",
    "        fake1.append(sp.prop2b(orbital_elements[-1],state,t)[0:6])\n",
    "        \n",
    "    for t in (time-dt):    \n",
    "        fake0.append(sp.prop2b(orbital_elements[-1],state,t)[0:6])\n",
    "    \n",
    "    \n",
    "    center=0.5*(np.array(fake1)+np.array(fake0))   \n",
    "    print(center)\n",
    "    \n",
    "    obsxyz=hl.getObserverStates(time,origin=origin,observer_location=observer,ephemeris_dt='5h',frame='ecliptic')\n",
    "    obsxyz0=hl.getObserverStates(time-dt,origin=origin,observer_location=observer,\n",
    "                                 ephemeris_dt='5h',frame='ecliptic')\n",
    "    obsxyz1=hl.getObserverStates(time+dt,origin=origin,observer_location=observer,\n",
    "                                 ephemeris_dt='5h',frame='ecliptic')\n",
    "    \n",
    "    fkc=center[:,0:3]-obsxyz[0]\n",
    "    fk0=np.array(fake0)[:,0:3]-obsxyz0[0]\n",
    "    fk1=np.array(fake1)[:,0:3]-obsxyz1[0]\n",
    "    \n",
    "    ra0,dec0=hl.ecliptic2radec(fk0)\n",
    "    ra1,dec1=hl.ecliptic2radec(fk1)\n",
    "    \n",
    "    ra,dec=hl.ecliptic2radec(fkc)\n",
    "    dradt=(ra1-ra0)/(2*dt)\n",
    "    ddecdt=(dec1-dec0)/(2*dt)\n",
    "    \n",
    "    df=pd.DataFrame(np.array([time,ra,dec,dradt,ddecdt]).T,columns=['time','RA_center','DEC_center','RA_vel','DEC_vel'])\n",
    "    df['night']=hl.utility.lsstNight(df['time'],minexpMJD=df['time'].min(),local_midnight=0.166)\n",
    "    df['trailId']=df.index\n",
    "    \n",
    "    return  df"
   ]
  },
  {
   "cell_type": "code",
   "execution_count": 2484,
   "metadata": {},
   "outputs": [
    {
     "name": "stdout",
     "output_type": "stream",
     "text": [
      "[[ 0.52781029  2.13574693  0.         -0.01125893  0.00278244  0.        ]\n",
      " [ 0.52687199  2.1359786   0.         -0.01126015  0.00277749  0.        ]\n",
      " [ 0.51654407  2.13849968  0.         -0.01127344  0.00272304  0.        ]\n",
      " [ 0.51560457  2.13872639  0.         -0.01127464  0.00271809  0.        ]\n",
      " [ 0.48266055  2.14640104  0.         -0.0113151   0.00254442  0.        ]\n",
      " [ 0.48171758  2.14661287  0.         -0.01131621  0.00253945  0.        ]]\n"
     ]
    }
   ],
   "source": [
    "dftrails=makeFakeTrails(np.unique(dfobs['time'].values),0.1,np.array([2.2,0.,0,0,0,0,0,hl.GM]))"
   ]
  },
  {
   "cell_type": "code",
   "execution_count": 2485,
   "metadata": {},
   "outputs": [
    {
     "ename": "SyntaxError",
     "evalue": "invalid syntax (<ipython-input-2485-e176c5a227f7>, line 1)",
     "output_type": "error",
     "traceback": [
      "\u001b[0;36m  File \u001b[0;32m\"<ipython-input-2485-e176c5a227f7>\"\u001b[0;36m, line \u001b[0;32m1\u001b[0m\n\u001b[0;31m    [ 5.27840030e-01  2.13560801e+00 -2.34603438e-06]\u001b[0m\n\u001b[0m                      ^\u001b[0m\n\u001b[0;31mSyntaxError\u001b[0m\u001b[0;31m:\u001b[0m invalid syntax\n"
     ]
    }
   ],
   "source": [
    "[ 5.27840030e-01  2.13560801e+00 -2.34603438e-06]\n",
    " [ 5.26895643e-01  2.13585170e+00 -1.56985549e-06]\n",
    " [ 5.16550550e-01  2.13846368e+00 -2.33032960e-06]\n",
    " [ 5.15606134e-01  2.13869682e+00 -1.48882989e-06]\n",
    " [ 4.82690540e-01  2.14627382e+00 -2.33851930e-06]\n",
    " [ 4.81747027e-01  2.14647535e+00 -1.42068449e-06"
   ]
  },
  {
   "cell_type": "code",
   "execution_count": 2486,
   "metadata": {},
   "outputs": [
    {
     "ename": "SyntaxError",
     "evalue": "invalid syntax (<ipython-input-2486-4a7987aeb656>, line 1)",
     "output_type": "error",
     "traceback": [
      "\u001b[0;36m  File \u001b[0;32m\"<ipython-input-2486-4a7987aeb656>\"\u001b[0;36m, line \u001b[0;32m1\u001b[0m\n\u001b[0;31m    [1.12253430e-02 -2.64589093e-03  1.60584314e-07]\u001b[0m\n\u001b[0m                                     ^\u001b[0m\n\u001b[0;31mSyntaxError\u001b[0m\u001b[0;31m:\u001b[0m invalid syntax\n"
     ]
    }
   ],
   "source": [
    " [1.12253430e-02 -2.64589093e-03  1.60584314e-07]\n",
    " [ 1.12294452e-02 -2.64688467e-03 -5.35596310e-09]\n",
    " [ 1.12553573e-02 -2.65323804e-03  2.77249156e-07]\n",
    " [ 1.12587375e-02 -2.65403426e-03  1.36266645e-07]\n",
    " [ 1.13466513e-02 -2.67454870e-03  4.84919729e-09]\n",
    " [ 1.13495283e-02 -2.67517680e-03  2.22084897e-07]]"
   ]
  },
  {
   "cell_type": "code",
   "execution_count": 2487,
   "metadata": {},
   "outputs": [],
   "source": [
    "dfobs2=makeFakeObservations(np.unique(dfobs['time'].values),np.array([2.5,0.9,0,0,0,0,0,hl.GM]))\n",
    "dfobs3=makeFakeObservations(np.unique(dfobs['time'].values),np.array([2.6,0,0,0,0,0,0,hl.GM]))"
   ]
  },
  {
   "cell_type": "code",
   "execution_count": 2488,
   "metadata": {},
   "outputs": [],
   "source": [
    "dfobs4=pd.concat([dfobs2,dfobs3]).reset_index(drop=True)\n",
    "dfobs4['obsId']=dfobs4.index"
   ]
  },
  {
   "cell_type": "code",
   "execution_count": 2489,
   "metadata": {},
   "outputs": [
    {
     "data": {
      "text/html": [
       "<div>\n",
       "<style scoped>\n",
       "    .dataframe tbody tr th:only-of-type {\n",
       "        vertical-align: middle;\n",
       "    }\n",
       "\n",
       "    .dataframe tbody tr th {\n",
       "        vertical-align: top;\n",
       "    }\n",
       "\n",
       "    .dataframe thead th {\n",
       "        text-align: right;\n",
       "    }\n",
       "</style>\n",
       "<table border=\"1\" class=\"dataframe\">\n",
       "  <thead>\n",
       "    <tr style=\"text-align: right;\">\n",
       "      <th></th>\n",
       "      <th>time</th>\n",
       "      <th>RA</th>\n",
       "      <th>DEC</th>\n",
       "      <th>night</th>\n",
       "      <th>obsId</th>\n",
       "    </tr>\n",
       "  </thead>\n",
       "  <tbody>\n",
       "    <tr>\n",
       "      <th>0</th>\n",
       "      <td>59846.000000</td>\n",
       "      <td>172.120984</td>\n",
       "      <td>3.401524</td>\n",
       "      <td>0</td>\n",
       "      <td>0</td>\n",
       "    </tr>\n",
       "    <tr>\n",
       "      <th>1</th>\n",
       "      <td>59846.083333</td>\n",
       "      <td>172.122777</td>\n",
       "      <td>3.400763</td>\n",
       "      <td>0</td>\n",
       "      <td>1</td>\n",
       "    </tr>\n",
       "    <tr>\n",
       "      <th>2</th>\n",
       "      <td>59847.000000</td>\n",
       "      <td>172.142272</td>\n",
       "      <td>3.392415</td>\n",
       "      <td>1</td>\n",
       "      <td>2</td>\n",
       "    </tr>\n",
       "    <tr>\n",
       "      <th>3</th>\n",
       "      <td>59847.083333</td>\n",
       "      <td>172.144061</td>\n",
       "      <td>3.391656</td>\n",
       "      <td>1</td>\n",
       "      <td>3</td>\n",
       "    </tr>\n",
       "    <tr>\n",
       "      <th>4</th>\n",
       "      <td>59850.000000</td>\n",
       "      <td>172.205751</td>\n",
       "      <td>3.365246</td>\n",
       "      <td>4</td>\n",
       "      <td>4</td>\n",
       "    </tr>\n",
       "    <tr>\n",
       "      <th>5</th>\n",
       "      <td>59850.083333</td>\n",
       "      <td>172.207523</td>\n",
       "      <td>3.364495</td>\n",
       "      <td>4</td>\n",
       "      <td>5</td>\n",
       "    </tr>\n",
       "    <tr>\n",
       "      <th>6</th>\n",
       "      <td>59846.000000</td>\n",
       "      <td>43.006885</td>\n",
       "      <td>16.481364</td>\n",
       "      <td>0</td>\n",
       "      <td>6</td>\n",
       "    </tr>\n",
       "    <tr>\n",
       "      <th>7</th>\n",
       "      <td>59846.083333</td>\n",
       "      <td>43.001318</td>\n",
       "      <td>16.479896</td>\n",
       "      <td>0</td>\n",
       "      <td>7</td>\n",
       "    </tr>\n",
       "    <tr>\n",
       "      <th>8</th>\n",
       "      <td>59847.000000</td>\n",
       "      <td>42.935945</td>\n",
       "      <td>16.460728</td>\n",
       "      <td>1</td>\n",
       "      <td>8</td>\n",
       "    </tr>\n",
       "    <tr>\n",
       "      <th>9</th>\n",
       "      <td>59847.083333</td>\n",
       "      <td>42.929784</td>\n",
       "      <td>16.459090</td>\n",
       "      <td>1</td>\n",
       "      <td>9</td>\n",
       "    </tr>\n",
       "    <tr>\n",
       "      <th>10</th>\n",
       "      <td>59850.000000</td>\n",
       "      <td>42.681671</td>\n",
       "      <td>16.386474</td>\n",
       "      <td>4</td>\n",
       "      <td>10</td>\n",
       "    </tr>\n",
       "    <tr>\n",
       "      <th>11</th>\n",
       "      <td>59850.083333</td>\n",
       "      <td>42.673753</td>\n",
       "      <td>16.384324</td>\n",
       "      <td>4</td>\n",
       "      <td>11</td>\n",
       "    </tr>\n",
       "  </tbody>\n",
       "</table>\n",
       "</div>"
      ],
      "text/plain": [
       "            time          RA        DEC  night  obsId\n",
       "0   59846.000000  172.120984   3.401524      0      0\n",
       "1   59846.083333  172.122777   3.400763      0      1\n",
       "2   59847.000000  172.142272   3.392415      1      2\n",
       "3   59847.083333  172.144061   3.391656      1      3\n",
       "4   59850.000000  172.205751   3.365246      4      4\n",
       "5   59850.083333  172.207523   3.364495      4      5\n",
       "6   59846.000000   43.006885  16.481364      0      6\n",
       "7   59846.083333   43.001318  16.479896      0      7\n",
       "8   59847.000000   42.935945  16.460728      1      8\n",
       "9   59847.083333   42.929784  16.459090      1      9\n",
       "10  59850.000000   42.681671  16.386474      4     10\n",
       "11  59850.083333   42.673753  16.384324      4     11"
      ]
     },
     "execution_count": 2489,
     "metadata": {},
     "output_type": "execute_result"
    }
   ],
   "source": [
    "dfobs4"
   ]
  },
  {
   "cell_type": "code",
   "execution_count": 2490,
   "metadata": {},
   "outputs": [
    {
     "data": {
      "text/plain": [
       "array([[-2.37863695,  0.7694714 ,  0.        ],\n",
       "       [-2.37891585,  0.76860874,  0.        ],\n",
       "       [-2.38196302,  0.75911274,  0.        ],\n",
       "       [-2.38223816,  0.75824887,  0.        ],\n",
       "       [-2.39167033,  0.72795127,  0.        ],\n",
       "       [-2.39193416,  0.72708388,  0.        ]])"
      ]
     },
     "execution_count": 2490,
     "metadata": {},
     "output_type": "execute_result"
    }
   ],
   "source": [
    "# xyz positions\n",
    "fk[:,0:3]"
   ]
  },
  {
   "cell_type": "code",
   "execution_count": 2491,
   "metadata": {},
   "outputs": [
    {
     "data": {
      "text/plain": [
       "array([[-0.0033486 , -0.01035141, -0.        ],\n",
       "       [-0.00334485, -0.01035263, -0.        ],\n",
       "       [-0.00330353, -0.01036589, -0.        ],\n",
       "       [-0.00329977, -0.01036708, -0.        ],\n",
       "       [-0.00316792, -0.01040813, -0.        ],\n",
       "       [-0.00316414, -0.01040928, -0.        ]])"
      ]
     },
     "execution_count": 2491,
     "metadata": {},
     "output_type": "execute_result"
    }
   ],
   "source": [
    "# xyz velocities\n",
    "fk[:,3:6]"
   ]
  },
  {
   "cell_type": "code",
   "execution_count": 2492,
   "metadata": {},
   "outputs": [],
   "source": [
    "#dfobs=pd.DataFrame()\n",
    "#dftrails=pd.DataFrame()"
   ]
  },
  {
   "cell_type": "code",
   "execution_count": 2493,
   "metadata": {},
   "outputs": [
    {
     "data": {
      "text/html": [
       "<div>\n",
       "<style scoped>\n",
       "    .dataframe tbody tr th:only-of-type {\n",
       "        vertical-align: middle;\n",
       "    }\n",
       "\n",
       "    .dataframe tbody tr th {\n",
       "        vertical-align: top;\n",
       "    }\n",
       "\n",
       "    .dataframe thead th {\n",
       "        text-align: right;\n",
       "    }\n",
       "</style>\n",
       "<table border=\"1\" class=\"dataframe\">\n",
       "  <thead>\n",
       "    <tr style=\"text-align: right;\">\n",
       "      <th></th>\n",
       "      <th>time</th>\n",
       "      <th>RA</th>\n",
       "      <th>DEC</th>\n",
       "      <th>RA_vel</th>\n",
       "      <th>DEC_vel</th>\n",
       "      <th>night</th>\n",
       "      <th>obsId</th>\n",
       "    </tr>\n",
       "  </thead>\n",
       "  <tbody>\n",
       "    <tr>\n",
       "      <th>0</th>\n",
       "      <td>59846.000000</td>\n",
       "      <td>151.96078</td>\n",
       "      <td>18.61273</td>\n",
       "      <td>62.86641</td>\n",
       "      <td>-18.2245</td>\n",
       "      <td>0</td>\n",
       "      <td>0</td>\n",
       "    </tr>\n",
       "    <tr>\n",
       "      <th>6</th>\n",
       "      <td>59846.000000</td>\n",
       "      <td>152.96078</td>\n",
       "      <td>19.61273</td>\n",
       "      <td>62.86641</td>\n",
       "      <td>-18.2245</td>\n",
       "      <td>0</td>\n",
       "      <td>6</td>\n",
       "    </tr>\n",
       "    <tr>\n",
       "      <th>1</th>\n",
       "      <td>59846.083333</td>\n",
       "      <td>151.99769</td>\n",
       "      <td>18.60267</td>\n",
       "      <td>62.99025</td>\n",
       "      <td>-18.1377</td>\n",
       "      <td>0</td>\n",
       "      <td>1</td>\n",
       "    </tr>\n",
       "    <tr>\n",
       "      <th>7</th>\n",
       "      <td>59846.083333</td>\n",
       "      <td>154.99769</td>\n",
       "      <td>18.40267</td>\n",
       "      <td>62.99025</td>\n",
       "      <td>-18.1377</td>\n",
       "      <td>0</td>\n",
       "      <td>7</td>\n",
       "    </tr>\n",
       "    <tr>\n",
       "      <th>2</th>\n",
       "      <td>59847.000000</td>\n",
       "      <td>152.39944</td>\n",
       "      <td>18.49240</td>\n",
       "      <td>62.76400</td>\n",
       "      <td>-18.2503</td>\n",
       "      <td>1</td>\n",
       "      <td>2</td>\n",
       "    </tr>\n",
       "    <tr>\n",
       "      <th>8</th>\n",
       "      <td>59847.000000</td>\n",
       "      <td>151.39944</td>\n",
       "      <td>18.49240</td>\n",
       "      <td>62.76400</td>\n",
       "      <td>-18.2503</td>\n",
       "      <td>1</td>\n",
       "      <td>8</td>\n",
       "    </tr>\n",
       "    <tr>\n",
       "      <th>3</th>\n",
       "      <td>59847.083333</td>\n",
       "      <td>152.43626</td>\n",
       "      <td>18.48232</td>\n",
       "      <td>62.88522</td>\n",
       "      <td>-18.1632</td>\n",
       "      <td>1</td>\n",
       "      <td>3</td>\n",
       "    </tr>\n",
       "    <tr>\n",
       "      <th>9</th>\n",
       "      <td>59847.083333</td>\n",
       "      <td>151.43626</td>\n",
       "      <td>17.48232</td>\n",
       "      <td>62.88522</td>\n",
       "      <td>-18.1632</td>\n",
       "      <td>1</td>\n",
       "      <td>9</td>\n",
       "    </tr>\n",
       "    <tr>\n",
       "      <th>4</th>\n",
       "      <td>59850.000000</td>\n",
       "      <td>153.70890</td>\n",
       "      <td>18.13042</td>\n",
       "      <td>62.44117</td>\n",
       "      <td>-18.3063</td>\n",
       "      <td>4</td>\n",
       "      <td>4</td>\n",
       "    </tr>\n",
       "    <tr>\n",
       "      <th>10</th>\n",
       "      <td>59850.000000</td>\n",
       "      <td>154.70890</td>\n",
       "      <td>19.13042</td>\n",
       "      <td>62.44117</td>\n",
       "      <td>-18.3063</td>\n",
       "      <td>4</td>\n",
       "      <td>10</td>\n",
       "    </tr>\n",
       "    <tr>\n",
       "      <th>5</th>\n",
       "      <td>59850.083333</td>\n",
       "      <td>153.74546</td>\n",
       "      <td>18.12031</td>\n",
       "      <td>62.55443</td>\n",
       "      <td>-18.2182</td>\n",
       "      <td>4</td>\n",
       "      <td>5</td>\n",
       "    </tr>\n",
       "    <tr>\n",
       "      <th>11</th>\n",
       "      <td>59850.083333</td>\n",
       "      <td>155.74546</td>\n",
       "      <td>18.12031</td>\n",
       "      <td>62.55443</td>\n",
       "      <td>-18.2182</td>\n",
       "      <td>4</td>\n",
       "      <td>11</td>\n",
       "    </tr>\n",
       "  </tbody>\n",
       "</table>\n",
       "</div>"
      ],
      "text/plain": [
       "            time         RA       DEC    RA_vel  DEC_vel  night  obsId\n",
       "0   59846.000000  151.96078  18.61273  62.86641 -18.2245      0      0\n",
       "6   59846.000000  152.96078  19.61273  62.86641 -18.2245      0      6\n",
       "1   59846.083333  151.99769  18.60267  62.99025 -18.1377      0      1\n",
       "7   59846.083333  154.99769  18.40267  62.99025 -18.1377      0      7\n",
       "2   59847.000000  152.39944  18.49240  62.76400 -18.2503      1      2\n",
       "8   59847.000000  151.39944  18.49240  62.76400 -18.2503      1      8\n",
       "3   59847.083333  152.43626  18.48232  62.88522 -18.1632      1      3\n",
       "9   59847.083333  151.43626  17.48232  62.88522 -18.1632      1      9\n",
       "4   59850.000000  153.70890  18.13042  62.44117 -18.3063      4      4\n",
       "10  59850.000000  154.70890  19.13042  62.44117 -18.3063      4     10\n",
       "5   59850.083333  153.74546  18.12031  62.55443 -18.2182      4      5\n",
       "11  59850.083333  155.74546  18.12031  62.55443 -18.2182      4     11"
      ]
     },
     "execution_count": 2493,
     "metadata": {},
     "output_type": "execute_result"
    }
   ],
   "source": [
    "dfobs"
   ]
  },
  {
   "cell_type": "code",
   "execution_count": 2494,
   "metadata": {},
   "outputs": [],
   "source": [
    "import importlib\n",
    "importlib.reload(hl)\n",
    "import heliolinc2 as hl"
   ]
  },
  {
   "cell_type": "code",
   "execution_count": 2495,
   "metadata": {},
   "outputs": [
    {
     "name": "stdout",
     "output_type": "stream",
     "text": [
      "tref,t0 59848.04166666651 [59846.         59846.08333333 59846.         59846.08333333]\n",
      "r,r+dr 2.2 [2.19987257 2.19988276 2.19987257 2.19988276]\n",
      "tref,t0 59848.04166666651 [59847.         59847.08333333 59847.         59847.08333333]\n",
      "r,r+dr 2.2 [2.19996683 2.19997192 2.19996683 2.19997192]\n",
      "tref,t0 59848.04166666651 [59850.         59850.08333333 59850.         59850.08333333]\n",
      "r,r+dr 2.2 [2.19988276 2.19987257 2.19988276 2.19987257]\n",
      "obsids_night [array([[0, 1],\n",
      "       [6, 7]]), array([[2, 3],\n",
      "       [8, 9]]), array([[ 4,  5],\n",
      "       [10, 11]])]\n",
      "obsids [[ 0  1]\n",
      " [ 6  7]\n",
      " [ 2  3]\n",
      " [ 8  9]\n",
      " [ 4  5]\n",
      " [10 11]]\n",
      "nobsarrows 3 6\n",
      "trailids [0 1 2 3 4 5]\n",
      "ntrailarrows 3 6\n",
      "tarrow [59846.         59846.         59847.         59847.\n",
      " 59850.         59850.         59846.         59846.08333333\n",
      " 59847.         59847.08333333 59850.         59850.08333333]\n",
      "xarrow [[-2.14545750e+00  4.86262707e-01 -2.02311475e-04]\n",
      " [ 1.96852130e+00  9.82019970e-01 -5.12382366e-05]\n",
      " [-2.14204249e+00  5.01505726e-01 -2.02982734e-04]\n",
      " [ 1.96347981e+00  9.92270671e-01 -5.15615228e-05]\n",
      " [-2.13084280e+00  5.46802626e-01 -2.04464842e-04]\n",
      " [ 1.94764617e+00  1.02281894e+00 -5.24379561e-05]\n",
      " [ 5.27840012e-01  2.13560801e+00 -2.34599093e-06]\n",
      " [ 5.26895626e-01  2.13585170e+00 -1.56976938e-06]\n",
      " [ 5.16550541e-01  2.13846368e+00 -2.33030655e-06]\n",
      " [ 5.15606126e-01  2.13869682e+00 -1.48878712e-06]\n",
      " [ 4.82690556e-01  2.14627382e+00 -2.33856854e-06]\n",
      " [ 4.81747044e-01  2.14647536e+00 -1.42078023e-06]]\n",
      "varrow [[ 3.37225871e-03  1.54107111e-02 -5.15087622e-05]\n",
      " [-4.98343535e-03  1.02580142e-02 -1.40932559e-05]\n",
      " [ 3.53478532e-03  1.53454297e-02 -5.25208102e-05]\n",
      " [-5.10160844e-03  1.02249998e-02 -1.39828854e-05]\n",
      " [ 4.01211118e-03  1.51242304e-02 -5.56892305e-05]\n",
      " [-5.45691546e-03  1.01226453e-02 -1.47499749e-05]\n",
      " [-1.12874666e-02  2.91840825e-03 -1.32579480e-07]\n",
      " [-1.12891748e-02  2.90825878e-03  3.27870445e-08]\n",
      " [-1.12879394e-02  2.79214423e-03 -2.62832059e-07]\n",
      " [-1.12887818e-02  2.78181763e-03 -1.22714195e-07]\n",
      " [-1.12804951e-02  2.41422869e-03 -3.26193281e-08]\n",
      " [-1.12804149e-02  2.40380444e-03 -2.51702931e-07]]\n",
      "Propagating arrows...\n",
      "Propagated arrows xyz [[-2.13844833e+00  5.17697469e-01 -3.07461449e-04]\n",
      " [ 1.95823296e+00  1.00290613e+00 -8.00084439e-05]\n",
      " [-2.13832814e+00  5.17482906e-01 -2.57688576e-04]\n",
      " [ 1.95813606e+00  1.00290670e+00 -6.61261778e-05]\n",
      " [-2.13858616e+00  5.17155729e-01 -9.53978069e-05]\n",
      " [ 1.95822864e+00  1.00294127e+00 -2.35503072e-05]\n",
      " [ 5.04764638e-01  2.14144261e+00 -2.61653292e-06]\n",
      " [ 5.04759972e-01  2.14143311e+00 -1.50547891e-06]\n",
      " [ 5.04784542e-01  2.14133990e+00 -2.60405344e-06]\n",
      " [ 5.04781176e-01  2.14133543e+00 -1.60636872e-06]\n",
      " [ 5.04755410e-01  2.14143167e+00 -2.27456553e-06]\n",
      " [ 5.04749542e-01  2.14144335e+00 -9.06814374e-07]]\n",
      "Propagated arrows vxyz [[ 3.49378685e-03  1.53822303e-02 -5.14943009e-05]\n",
      " [-5.09483698e-03  1.02017021e-02 -1.40895324e-05]\n",
      " [ 3.59673981e-03  1.53306808e-02 -5.25141424e-05]\n",
      " [-5.15837094e-03  1.01961211e-02 -1.39811820e-05]\n",
      " [ 3.89593906e-03  1.51531810e-02 -5.56973901e-05]\n",
      " [-5.35063069e-03  1.01777693e-02 -1.47520427e-05]\n",
      " [-1.13167612e-02  2.79706983e-03 -1.32438695e-07]\n",
      " [-1.13172479e-02  2.79186666e-03  3.28707273e-08]\n",
      " [-1.13027224e-02  2.73019743e-03 -2.62760638e-07]\n",
      " [-1.13023695e-02  2.72482356e-03 -1.22672979e-07]\n",
      " [-1.12536251e-02  2.53090452e-03 -3.27448595e-08]\n",
      " [-1.12524284e-02  2.52545136e-03 -2.51768965e-07]]\n",
      "Clustering arrows...\n",
      "[0 1 0 1 0 1 2 2 2 2 2 2]\n",
      "Calculating mean arrow states in clusters...\n",
      "Finding observations in clusters...\n",
      "pairs [[ 0  1]\n",
      " [ 6  7]\n",
      " [ 2  3]\n",
      " [ 8  9]\n",
      " [ 4  5]\n",
      " [10 11]]\n",
      "lenp 6\n",
      "n_clusters 3\n",
      "unique_arrow_labels [0 1 2]\n",
      "Filtering clusters for mean state variance...\n"
     ]
    }
   ],
   "source": [
    "helres=hl.heliolinc2(2.2, 0., cr_obs, cr_arrows, ct_min, ct_max, \n",
    "                     dfobs4, dftrails, observer_location='I11',\n",
    "                     trail_dt=0.1, min_samples=min_samples, v_max=1,\n",
    "                     light_time=False, clustering_dimensions=6,\n",
    "                     verbose=True, n_jobs=1, mean_state_variance_limit=5e-1) \n",
    "                     "
   ]
  },
  {
   "cell_type": "code",
   "execution_count": 2496,
   "metadata": {},
   "outputs": [
    {
     "data": {
      "text/html": [
       "<div>\n",
       "<style scoped>\n",
       "    .dataframe tbody tr th:only-of-type {\n",
       "        vertical-align: middle;\n",
       "    }\n",
       "\n",
       "    .dataframe tbody tr th {\n",
       "        vertical-align: top;\n",
       "    }\n",
       "\n",
       "    .dataframe thead th {\n",
       "        text-align: right;\n",
       "    }\n",
       "</style>\n",
       "<table border=\"1\" class=\"dataframe\">\n",
       "  <thead>\n",
       "    <tr style=\"text-align: right;\">\n",
       "      <th></th>\n",
       "      <th>clusterId</th>\n",
       "      <th>obsId</th>\n",
       "      <th>trailId</th>\n",
       "      <th>r</th>\n",
       "      <th>drdt</th>\n",
       "      <th>cluster_epoch</th>\n",
       "      <th>x_ecl</th>\n",
       "      <th>y_ecl</th>\n",
       "      <th>z_ecl</th>\n",
       "      <th>vx_ecl</th>\n",
       "      <th>vy_ecl</th>\n",
       "      <th>vz_ecl</th>\n",
       "      <th>var_pos</th>\n",
       "      <th>var_vel</th>\n",
       "    </tr>\n",
       "  </thead>\n",
       "  <tbody>\n",
       "    <tr>\n",
       "      <th>0</th>\n",
       "      <td>0</td>\n",
       "      <td>[0, 1, 2, 3, 4, 5]</td>\n",
       "      <td>-1</td>\n",
       "      <td>2.2</td>\n",
       "      <td>0.0</td>\n",
       "      <td>59848.041667</td>\n",
       "      <td>-2.138454</td>\n",
       "      <td>0.517445</td>\n",
       "      <td>-0.000220</td>\n",
       "      <td>0.003662</td>\n",
       "      <td>0.015289</td>\n",
       "      <td>-5.323528e-05</td>\n",
       "      <td>7.725641e-08</td>\n",
       "      <td>4.596724e-08</td>\n",
       "    </tr>\n",
       "    <tr>\n",
       "      <th>1</th>\n",
       "      <td>1</td>\n",
       "      <td>[6, 7, 8, 9, 10, 11]</td>\n",
       "      <td>-1</td>\n",
       "      <td>2.2</td>\n",
       "      <td>0.0</td>\n",
       "      <td>59848.041667</td>\n",
       "      <td>1.958199</td>\n",
       "      <td>1.002918</td>\n",
       "      <td>-0.000057</td>\n",
       "      <td>-0.005201</td>\n",
       "      <td>0.010192</td>\n",
       "      <td>-1.427425e-05</td>\n",
       "      <td>3.145538e-09</td>\n",
       "      <td>1.773916e-08</td>\n",
       "    </tr>\n",
       "    <tr>\n",
       "      <th>2</th>\n",
       "      <td>2</td>\n",
       "      <td>-1</td>\n",
       "      <td>[0, 1, 2, 3, 4, 5]</td>\n",
       "      <td>2.2</td>\n",
       "      <td>0.0</td>\n",
       "      <td>59848.041667</td>\n",
       "      <td>0.504765</td>\n",
       "      <td>2.141412</td>\n",
       "      <td>-0.000002</td>\n",
       "      <td>-0.011294</td>\n",
       "      <td>0.002694</td>\n",
       "      <td>-1.349064e-07</td>\n",
       "      <td>2.699770e-09</td>\n",
       "      <td>1.538527e-08</td>\n",
       "    </tr>\n",
       "  </tbody>\n",
       "</table>\n",
       "</div>"
      ],
      "text/plain": [
       "   clusterId                 obsId             trailId    r  drdt  \\\n",
       "0          0    [0, 1, 2, 3, 4, 5]                  -1  2.2   0.0   \n",
       "1          1  [6, 7, 8, 9, 10, 11]                  -1  2.2   0.0   \n",
       "2          2                    -1  [0, 1, 2, 3, 4, 5]  2.2   0.0   \n",
       "\n",
       "   cluster_epoch     x_ecl     y_ecl     z_ecl    vx_ecl    vy_ecl  \\\n",
       "0   59848.041667 -2.138454  0.517445 -0.000220  0.003662  0.015289   \n",
       "1   59848.041667  1.958199  1.002918 -0.000057 -0.005201  0.010192   \n",
       "2   59848.041667  0.504765  2.141412 -0.000002 -0.011294  0.002694   \n",
       "\n",
       "         vz_ecl       var_pos       var_vel  \n",
       "0 -5.323528e-05  7.725641e-08  4.596724e-08  \n",
       "1 -1.427425e-05  3.145538e-09  1.773916e-08  \n",
       "2 -1.349064e-07  2.699770e-09  1.538527e-08  "
      ]
     },
     "execution_count": 2496,
     "metadata": {},
     "output_type": "execute_result"
    }
   ],
   "source": [
    "helres"
   ]
  },
  {
   "cell_type": "code",
   "execution_count": null,
   "metadata": {},
   "outputs": [],
   "source": []
  },
  {
   "cell_type": "markdown",
   "metadata": {},
   "source": [
    "# The trail propagation seems fixed now."
   ]
  },
  {
   "cell_type": "code",
   "execution_count": null,
   "metadata": {},
   "outputs": [],
   "source": []
  },
  {
   "cell_type": "code",
   "execution_count": 2420,
   "metadata": {},
   "outputs": [
    {
     "data": {
      "text/html": [
       "<div>\n",
       "<style scoped>\n",
       "    .dataframe tbody tr th:only-of-type {\n",
       "        vertical-align: middle;\n",
       "    }\n",
       "\n",
       "    .dataframe tbody tr th {\n",
       "        vertical-align: top;\n",
       "    }\n",
       "\n",
       "    .dataframe thead th {\n",
       "        text-align: right;\n",
       "    }\n",
       "</style>\n",
       "<table border=\"1\" class=\"dataframe\">\n",
       "  <thead>\n",
       "    <tr style=\"text-align: right;\">\n",
       "      <th></th>\n",
       "      <th>time</th>\n",
       "      <th>RA_center</th>\n",
       "      <th>DEC_center</th>\n",
       "      <th>RA_vel</th>\n",
       "      <th>DEC_vel</th>\n",
       "      <th>night</th>\n",
       "      <th>trailId</th>\n",
       "    </tr>\n",
       "  </thead>\n",
       "  <tbody>\n",
       "    <tr>\n",
       "      <th>0</th>\n",
       "      <td>59846.000000</td>\n",
       "      <td>103.954003</td>\n",
       "      <td>22.825112</td>\n",
       "      <td>0.395411</td>\n",
       "      <td>-0.034229</td>\n",
       "      <td>0</td>\n",
       "      <td>0</td>\n",
       "    </tr>\n",
       "    <tr>\n",
       "      <th>1</th>\n",
       "      <td>59846.083333</td>\n",
       "      <td>103.986938</td>\n",
       "      <td>22.822306</td>\n",
       "      <td>0.393938</td>\n",
       "      <td>-0.033226</td>\n",
       "      <td>0</td>\n",
       "      <td>1</td>\n",
       "    </tr>\n",
       "    <tr>\n",
       "      <th>2</th>\n",
       "      <td>59847.000000</td>\n",
       "      <td>104.341589</td>\n",
       "      <td>22.790259</td>\n",
       "      <td>0.391941</td>\n",
       "      <td>-0.034850</td>\n",
       "      <td>1</td>\n",
       "      <td>2</td>\n",
       "    </tr>\n",
       "    <tr>\n",
       "      <th>3</th>\n",
       "      <td>59847.083333</td>\n",
       "      <td>104.374234</td>\n",
       "      <td>22.787402</td>\n",
       "      <td>0.390406</td>\n",
       "      <td>-0.033845</td>\n",
       "      <td>1</td>\n",
       "      <td>3</td>\n",
       "    </tr>\n",
       "    <tr>\n",
       "      <th>4</th>\n",
       "      <td>59850.000000</td>\n",
       "      <td>105.482914</td>\n",
       "      <td>22.682074</td>\n",
       "      <td>0.381138</td>\n",
       "      <td>-0.036500</td>\n",
       "      <td>4</td>\n",
       "      <td>4</td>\n",
       "    </tr>\n",
       "    <tr>\n",
       "      <th>5</th>\n",
       "      <td>59850.083333</td>\n",
       "      <td>105.514648</td>\n",
       "      <td>22.679081</td>\n",
       "      <td>0.379457</td>\n",
       "      <td>-0.035497</td>\n",
       "      <td>4</td>\n",
       "      <td>5</td>\n",
       "    </tr>\n",
       "  </tbody>\n",
       "</table>\n",
       "</div>"
      ],
      "text/plain": [
       "           time   RA_center  DEC_center    RA_vel   DEC_vel  night  trailId\n",
       "0  59846.000000  103.954003   22.825112  0.395411 -0.034229      0        0\n",
       "1  59846.083333  103.986938   22.822306  0.393938 -0.033226      0        1\n",
       "2  59847.000000  104.341589   22.790259  0.391941 -0.034850      1        2\n",
       "3  59847.083333  104.374234   22.787402  0.390406 -0.033845      1        3\n",
       "4  59850.000000  105.482914   22.682074  0.381138 -0.036500      4        4\n",
       "5  59850.083333  105.514648   22.679081  0.379457 -0.035497      4        5"
      ]
     },
     "execution_count": 2420,
     "metadata": {},
     "output_type": "execute_result"
    }
   ],
   "source": [
    "dftrails"
   ]
  },
  {
   "cell_type": "code",
   "execution_count": 2374,
   "metadata": {
    "scrolled": false
   },
   "outputs": [
    {
     "name": "stderr",
     "output_type": "stream",
     "text": [
      "HelioLinC2: 100%|██████████| 2600/2600 [00:13<00:00, 196.97it/s]\n"
     ]
    }
   ],
   "source": [
    "# Parallelize over a grid of initial conditions\n",
    "\n",
    "n_cores=10\n",
    "\n",
    "with tqdm_joblib(tqdm(desc=\"HelioLinC2\", total=len(rrdot))) as progress_bar:\n",
    "        clusters_df=Parallel(n_jobs=n_cores)(delayed(hl.heliolinc2)\n",
    "                                          ( r, drdt, cr_obs, cr_arrows, ct_min, ct_max, dfobs=dfobs4, dftrails=dftrails,\n",
    "                                           observer_location='807', origin='SSB',clustering_dimensions=6,\n",
    "                                             trail_dt=0.01, min_samples=min_samples, v_max=1,\n",
    "                                             light_time=False, \n",
    "                                             verbose=False, n_jobs=1, mean_state_variance_limit=1e-7) \n",
    "                                           for r, drdt in rrdot ) \n",
    "\n"
   ]
  },
  {
   "cell_type": "markdown",
   "metadata": {},
   "source": [
    "## Resulting Linkages"
   ]
  },
  {
   "cell_type": "code",
   "execution_count": 2375,
   "metadata": {},
   "outputs": [],
   "source": [
    "# each set of initial conditions produces a data frame with linkages; we merge all of them and give them a unique index\n",
    "clustered_observations = (pd.concat(clusters_df)).reset_index(drop=True)  \n",
    "clustered_observations['clusterId']=clustered_observations.index"
   ]
  },
  {
   "cell_type": "code",
   "execution_count": 2376,
   "metadata": {},
   "outputs": [
    {
     "data": {
      "text/plain": [
       "5200"
      ]
     },
     "execution_count": 2376,
     "metadata": {},
     "output_type": "execute_result"
    }
   ],
   "source": [
    "# Number of clusters respresenting potential objects \n",
    "len(clustered_observations)"
   ]
  },
  {
   "cell_type": "code",
   "execution_count": null,
   "metadata": {},
   "outputs": [],
   "source": []
  },
  {
   "cell_type": "code",
   "execution_count": 2377,
   "metadata": {},
   "outputs": [],
   "source": [
    "# deduplicate clusters with the same observations\n",
    "dedupe=hl.deduplicateClusters(clustered_observations.sort_values(by=['var_pos','var_vel']) ).reset_index(drop=True)\n",
    "dedupe['cluster_Id']=dedupe.index"
   ]
  },
  {
   "cell_type": "code",
   "execution_count": 2378,
   "metadata": {},
   "outputs": [
    {
     "data": {
      "text/html": [
       "<div>\n",
       "<style scoped>\n",
       "    .dataframe tbody tr th:only-of-type {\n",
       "        vertical-align: middle;\n",
       "    }\n",
       "\n",
       "    .dataframe tbody tr th {\n",
       "        vertical-align: top;\n",
       "    }\n",
       "\n",
       "    .dataframe thead th {\n",
       "        text-align: right;\n",
       "    }\n",
       "</style>\n",
       "<table border=\"1\" class=\"dataframe\">\n",
       "  <thead>\n",
       "    <tr style=\"text-align: right;\">\n",
       "      <th></th>\n",
       "      <th>clusterId</th>\n",
       "      <th>obsId</th>\n",
       "      <th>trailId</th>\n",
       "      <th>r</th>\n",
       "      <th>drdt</th>\n",
       "      <th>cluster_epoch</th>\n",
       "      <th>x_ecl</th>\n",
       "      <th>y_ecl</th>\n",
       "      <th>z_ecl</th>\n",
       "      <th>vx_ecl</th>\n",
       "      <th>vy_ecl</th>\n",
       "      <th>vz_ecl</th>\n",
       "      <th>var_pos</th>\n",
       "      <th>var_vel</th>\n",
       "      <th>cluster_Id</th>\n",
       "    </tr>\n",
       "  </thead>\n",
       "  <tbody>\n",
       "    <tr>\n",
       "      <th>0</th>\n",
       "      <td>3957</td>\n",
       "      <td>[6, 7, 8, 9, 10, 11]</td>\n",
       "      <td>-1</td>\n",
       "      <td>2.76</td>\n",
       "      <td>-0.008</td>\n",
       "      <td>59848.041667</td>\n",
       "      <td>2.368164</td>\n",
       "      <td>1.417605</td>\n",
       "      <td>0.000022</td>\n",
       "      <td>-0.011138</td>\n",
       "      <td>0.003044</td>\n",
       "      <td>0.000004</td>\n",
       "      <td>6.241930e-10</td>\n",
       "      <td>2.093689e-09</td>\n",
       "      <td>0</td>\n",
       "    </tr>\n",
       "    <tr>\n",
       "      <th>1</th>\n",
       "      <td>5198</td>\n",
       "      <td>[0, 1, 2, 3, 4, 5]</td>\n",
       "      <td>-1</td>\n",
       "      <td>2.99</td>\n",
       "      <td>0.015</td>\n",
       "      <td>59848.041667</td>\n",
       "      <td>-2.921903</td>\n",
       "      <td>0.634981</td>\n",
       "      <td>-0.000216</td>\n",
       "      <td>-0.011624</td>\n",
       "      <td>0.017262</td>\n",
       "      <td>-0.000052</td>\n",
       "      <td>7.302696e-08</td>\n",
       "      <td>2.312492e-08</td>\n",
       "      <td>1</td>\n",
       "    </tr>\n",
       "  </tbody>\n",
       "</table>\n",
       "</div>"
      ],
      "text/plain": [
       "   clusterId                 obsId  trailId     r   drdt  cluster_epoch  \\\n",
       "0       3957  [6, 7, 8, 9, 10, 11]       -1  2.76 -0.008   59848.041667   \n",
       "1       5198    [0, 1, 2, 3, 4, 5]       -1  2.99  0.015   59848.041667   \n",
       "\n",
       "      x_ecl     y_ecl     z_ecl    vx_ecl    vy_ecl    vz_ecl       var_pos  \\\n",
       "0  2.368164  1.417605  0.000022 -0.011138  0.003044  0.000004  6.241930e-10   \n",
       "1 -2.921903  0.634981 -0.000216 -0.011624  0.017262 -0.000052  7.302696e-08   \n",
       "\n",
       "        var_vel  cluster_Id  \n",
       "0  2.093689e-09           0  \n",
       "1  2.312492e-08           1  "
      ]
     },
     "execution_count": 2378,
     "metadata": {},
     "output_type": "execute_result"
    }
   ],
   "source": [
    "dedupe.head()"
   ]
  },
  {
   "cell_type": "code",
   "execution_count": 2349,
   "metadata": {},
   "outputs": [
    {
     "data": {
      "text/plain": [
       "2"
      ]
     },
     "execution_count": 2349,
     "metadata": {},
     "output_type": "execute_result"
    }
   ],
   "source": [
    "# Number of clusters respresenting potential objects after deduplication\n",
    "len(dedupe)"
   ]
  },
  {
   "cell_type": "code",
   "execution_count": 2350,
   "metadata": {},
   "outputs": [
    {
     "data": {
      "text/html": [
       "<div>\n",
       "<style scoped>\n",
       "    .dataframe tbody tr th:only-of-type {\n",
       "        vertical-align: middle;\n",
       "    }\n",
       "\n",
       "    .dataframe tbody tr th {\n",
       "        vertical-align: top;\n",
       "    }\n",
       "\n",
       "    .dataframe thead th {\n",
       "        text-align: right;\n",
       "    }\n",
       "</style>\n",
       "<table border=\"1\" class=\"dataframe\">\n",
       "  <thead>\n",
       "    <tr style=\"text-align: right;\">\n",
       "      <th></th>\n",
       "    </tr>\n",
       "  </thead>\n",
       "  <tbody>\n",
       "  </tbody>\n",
       "</table>\n",
       "</div>"
      ],
      "text/plain": [
       "Empty DataFrame\n",
       "Columns: []\n",
       "Index: []"
      ]
     },
     "execution_count": 2350,
     "metadata": {},
     "output_type": "execute_result"
    }
   ],
   "source": [
    "dftrails"
   ]
  },
  {
   "cell_type": "code",
   "execution_count": 2340,
   "metadata": {},
   "outputs": [
    {
     "data": {
      "text/html": [
       "<div>\n",
       "<style scoped>\n",
       "    .dataframe tbody tr th:only-of-type {\n",
       "        vertical-align: middle;\n",
       "    }\n",
       "\n",
       "    .dataframe tbody tr th {\n",
       "        vertical-align: top;\n",
       "    }\n",
       "\n",
       "    .dataframe thead th {\n",
       "        text-align: right;\n",
       "    }\n",
       "</style>\n",
       "<table border=\"1\" class=\"dataframe\">\n",
       "  <thead>\n",
       "    <tr style=\"text-align: right;\">\n",
       "      <th></th>\n",
       "      <th>clusterId</th>\n",
       "      <th>obsId</th>\n",
       "      <th>trailId</th>\n",
       "      <th>r</th>\n",
       "      <th>drdt</th>\n",
       "      <th>cluster_epoch</th>\n",
       "      <th>x_ecl</th>\n",
       "      <th>y_ecl</th>\n",
       "      <th>z_ecl</th>\n",
       "      <th>vx_ecl</th>\n",
       "      <th>vy_ecl</th>\n",
       "      <th>vz_ecl</th>\n",
       "      <th>var_pos</th>\n",
       "      <th>var_vel</th>\n",
       "      <th>cluster_Id</th>\n",
       "    </tr>\n",
       "  </thead>\n",
       "  <tbody>\n",
       "    <tr>\n",
       "      <th>0</th>\n",
       "      <td>3957</td>\n",
       "      <td>[6, 7, 8, 9, 10, 11]</td>\n",
       "      <td>-1</td>\n",
       "      <td>2.76</td>\n",
       "      <td>-0.008</td>\n",
       "      <td>59848.041667</td>\n",
       "      <td>2.368164</td>\n",
       "      <td>1.417605</td>\n",
       "      <td>0.000022</td>\n",
       "      <td>-0.011138</td>\n",
       "      <td>0.003044</td>\n",
       "      <td>0.000004</td>\n",
       "      <td>6.241930e-10</td>\n",
       "      <td>2.093689e-09</td>\n",
       "      <td>0</td>\n",
       "    </tr>\n",
       "    <tr>\n",
       "      <th>1</th>\n",
       "      <td>1790</td>\n",
       "      <td>[0, 1, 2, 3, 4, 5]</td>\n",
       "      <td>-1</td>\n",
       "      <td>2.34</td>\n",
       "      <td>0.001</td>\n",
       "      <td>59848.041667</td>\n",
       "      <td>-2.227918</td>\n",
       "      <td>0.715723</td>\n",
       "      <td>-0.000012</td>\n",
       "      <td>-0.003930</td>\n",
       "      <td>-0.008928</td>\n",
       "      <td>-0.000003</td>\n",
       "      <td>1.365006e-09</td>\n",
       "      <td>5.781177e-09</td>\n",
       "      <td>1</td>\n",
       "    </tr>\n",
       "  </tbody>\n",
       "</table>\n",
       "</div>"
      ],
      "text/plain": [
       "   clusterId                 obsId  trailId     r   drdt  cluster_epoch  \\\n",
       "0       3957  [6, 7, 8, 9, 10, 11]       -1  2.76 -0.008   59848.041667   \n",
       "1       1790    [0, 1, 2, 3, 4, 5]       -1  2.34  0.001   59848.041667   \n",
       "\n",
       "      x_ecl     y_ecl     z_ecl    vx_ecl    vy_ecl    vz_ecl       var_pos  \\\n",
       "0  2.368164  1.417605  0.000022 -0.011138  0.003044  0.000004  6.241930e-10   \n",
       "1 -2.227918  0.715723 -0.000012 -0.003930 -0.008928 -0.000003  1.365006e-09   \n",
       "\n",
       "        var_vel  cluster_Id  \n",
       "0  2.093689e-09           0  \n",
       "1  5.781177e-09           1  "
      ]
     },
     "execution_count": 2340,
     "metadata": {},
     "output_type": "execute_result"
    }
   ],
   "source": [
    "dedupe"
   ]
  },
  {
   "cell_type": "markdown",
   "metadata": {},
   "source": [
    "## Run DIFI"
   ]
  },
  {
   "cell_type": "code",
   "execution_count": 101,
   "metadata": {},
   "outputs": [
    {
     "ename": "NameError",
     "evalue": "name 'dfin_sel' is not defined",
     "output_type": "error",
     "traceback": [
      "\u001b[0;31m---------------------------------------------------------------------------\u001b[0m",
      "\u001b[0;31mNameError\u001b[0m                                 Traceback (most recent call last)",
      "\u001b[0;32m<ipython-input-101-1f0c763cbca3>\u001b[0m in \u001b[0;36m<module>\u001b[0;34m\u001b[0m\n\u001b[1;32m      1\u001b[0m \u001b[0;31m# DIFI compares clusters and objects that were linked through HelioLinC3D to the best case scenario.\u001b[0m\u001b[0;34m\u001b[0m\u001b[0;34m\u001b[0m\u001b[0;34m\u001b[0m\u001b[0m\n\u001b[1;32m      2\u001b[0m \u001b[0mdfdifi\u001b[0m\u001b[0;34m=\u001b[0m\u001b[0mhl\u001b[0m\u001b[0;34m.\u001b[0m\u001b[0mlinkages2difi\u001b[0m\u001b[0;34m(\u001b[0m\u001b[0mdedupe\u001b[0m\u001b[0;34m,\u001b[0m\u001b[0mclusterId_name\u001b[0m\u001b[0;34m=\u001b[0m\u001b[0;34m'cluster_Id'\u001b[0m\u001b[0;34m,\u001b[0m\u001b[0mobservationId_name\u001b[0m\u001b[0;34m=\u001b[0m\u001b[0;34m'obsId'\u001b[0m\u001b[0;34m,\u001b[0m\u001b[0moutput\u001b[0m\u001b[0;34m=\u001b[0m\u001b[0;34m'pandas'\u001b[0m\u001b[0;34m)\u001b[0m\u001b[0;34m\u001b[0m\u001b[0;34m\u001b[0m\u001b[0m\n\u001b[0;32m----> 3\u001b[0;31m \u001b[0mdfobs_difi\u001b[0m\u001b[0;34m=\u001b[0m\u001b[0mdfobs\u001b[0m\u001b[0;34m.\u001b[0m\u001b[0mmerge\u001b[0m\u001b[0;34m(\u001b[0m\u001b[0mdfin_sel\u001b[0m\u001b[0;34m,\u001b[0m\u001b[0mleft_on\u001b[0m\u001b[0;34m=\u001b[0m\u001b[0;34m'obsName'\u001b[0m\u001b[0;34m,\u001b[0m\u001b[0mright_on\u001b[0m\u001b[0;34m=\u001b[0m\u001b[0;34m'obsName'\u001b[0m\u001b[0;34m)\u001b[0m\u001b[0;34m\u001b[0m\u001b[0;34m\u001b[0m\u001b[0m\n\u001b[0m\u001b[1;32m      4\u001b[0m \u001b[0mdfobs_difi\u001b[0m\u001b[0;34m[\u001b[0m\u001b[0;34m'obsId'\u001b[0m\u001b[0;34m]\u001b[0m\u001b[0;34m=\u001b[0m\u001b[0mdfobs_difi\u001b[0m\u001b[0;34m[\u001b[0m\u001b[0;34m'obsId'\u001b[0m\u001b[0;34m]\u001b[0m\u001b[0;34m.\u001b[0m\u001b[0mastype\u001b[0m\u001b[0;34m(\u001b[0m\u001b[0mstr\u001b[0m\u001b[0;34m)\u001b[0m\u001b[0;34m\u001b[0m\u001b[0;34m\u001b[0m\u001b[0m\n\u001b[1;32m      5\u001b[0m \u001b[0;34m\u001b[0m\u001b[0m\n",
      "\u001b[0;31mNameError\u001b[0m: name 'dfin_sel' is not defined"
     ]
    }
   ],
   "source": [
    "# DIFI compares clusters and objects that were linked through HelioLinC3D to the best case scenario.\n",
    "dfdifi=hl.linkages2difi(dedupe,clusterId_name='cluster_Id',observationId_name='obsId',output='pandas')\n",
    "dfobs_difi=dfobs.merge(dfin_sel,left_on='obsName',right_on='obsName')\n",
    "dfobs_difi['obsId']=dfobs_difi['obsId'].astype(str)\n",
    "\n",
    "classes_dict = {}\n",
    "for c in dfin_sel[\"class\"].unique():\n",
    "    classes_dict[c] = dfin_sel[dfin_sel[\"class\"].isin([c])][\"ObjID\"].unique()\n",
    "\n",
    "(all_truths, findable_observations, summary, \n",
    "           all_linkages_heliolinc, all_truths_heliolinc, summary_heliolinc,\n",
    "           findable_objects, missed_objects) = hl.runDifi(dfobs_difi, dedupe, \n",
    "                                                          obsIdName='obsId', linkageIdName='cluster_Id',\n",
    "                                                          objIdName='ObjID', nightName='night', timeName='time',\n",
    "                                                          findability='tracklet', linkage_min_obs=2, \n",
    "                                                          max_obs_separation=1.5/24, \n",
    "                                                          min_linkage_nights=3, \n",
    "                                                          metric=\"nightly_linkages\",\n",
    "                                                          classes=classes_dict)\n",
    "\n"
   ]
  },
  {
   "cell_type": "code",
   "execution_count": 102,
   "metadata": {},
   "outputs": [
    {
     "ename": "NameError",
     "evalue": "name 'summary_heliolinc' is not defined",
     "output_type": "error",
     "traceback": [
      "\u001b[0;31m---------------------------------------------------------------------------\u001b[0m",
      "\u001b[0;31mNameError\u001b[0m                                 Traceback (most recent call last)",
      "\u001b[0;32m<ipython-input-102-64646859cd34>\u001b[0m in \u001b[0;36m<module>\u001b[0;34m\u001b[0m\n\u001b[0;32m----> 1\u001b[0;31m \u001b[0msummary_heliolinc\u001b[0m\u001b[0;34m\u001b[0m\u001b[0;34m\u001b[0m\u001b[0m\n\u001b[0m",
      "\u001b[0;31mNameError\u001b[0m: name 'summary_heliolinc' is not defined"
     ]
    }
   ],
   "source": [
    "summary_heliolinc"
   ]
  },
  {
   "cell_type": "code",
   "execution_count": 62,
   "metadata": {},
   "outputs": [
    {
     "data": {
      "text/plain": [
       "0    92.063922\n",
       "1    92.063922\n",
       "dtype: float64"
      ]
     },
     "execution_count": 62,
     "metadata": {},
     "output_type": "execute_result"
    }
   ],
   "source": [
    "# purity\n",
    "summary_heliolinc.pure_linkages/summary_heliolinc.linkages*100"
   ]
  },
  {
   "cell_type": "code",
   "execution_count": 60,
   "metadata": {},
   "outputs": [
    {
     "data": {
      "text/plain": [
       "222367"
      ]
     },
     "execution_count": 60,
     "metadata": {},
     "output_type": "execute_result"
    }
   ],
   "source": [
    "# The number of clusters containing potential objects is still high wrt to the number of actual objects in the data. \n",
    "len(dedupe)"
   ]
  },
  {
   "cell_type": "markdown",
   "metadata": {},
   "source": [
    "## Mean State Filtering"
   ]
  },
  {
   "cell_type": "code",
   "execution_count": 71,
   "metadata": {},
   "outputs": [],
   "source": [
    "# Filtering clusters with respect to their internal dispersion will select the best candidates for objects\n",
    "variance_limit=5e-7\n",
    "msf=dedupe[dedupe['var_pos']<variance_limit].reset_index(drop=True)  \n",
    "msf['cluster_Id']=msf.index"
   ]
  },
  {
   "cell_type": "code",
   "execution_count": 72,
   "metadata": {},
   "outputs": [
    {
     "data": {
      "text/plain": [
       "3356"
      ]
     },
     "execution_count": 72,
     "metadata": {},
     "output_type": "execute_result"
    }
   ],
   "source": [
    "# number of resulting clusters\n",
    "len(msf)"
   ]
  },
  {
   "cell_type": "code",
   "execution_count": 73,
   "metadata": {},
   "outputs": [],
   "source": [
    "dfdifi=hl.linkages2difi(msf,clusterId_name='cluster_Id',observationId_name='obsId',output='pandas')\n",
    "dfobs_difi=dfobs.merge(dfin_sel,left_on='obsName',right_on='obsName')\n",
    "dfobs_difi['obsId']=dfobs_difi['obsId'].astype(str)\n",
    "\n",
    "(all_truths, findable_observations, summary, \n",
    "           all_linkages_heliolinc, all_truths_heliolinc, summary_heliolinc,\n",
    "           findable_objects, missed_objects) = hl.runDifi(dfobs_difi, msf, \n",
    "                                                          obsIdName='obsId', linkageIdName='cluster_Id',\n",
    "                                                          objIdName='ObjID', nightName='night', timeName='time',\n",
    "                                                          findability='tracklet', linkage_min_obs=2, \n",
    "                                                          max_obs_separation=1.5/24, \n",
    "                                                          min_linkage_nights=3, \n",
    "                                                          metric=\"nightly_linkages\")"
   ]
  },
  {
   "cell_type": "code",
   "execution_count": 74,
   "metadata": {},
   "outputs": [
    {
     "data": {
      "text/html": [
       "<div>\n",
       "<style scoped>\n",
       "    .dataframe tbody tr th:only-of-type {\n",
       "        vertical-align: middle;\n",
       "    }\n",
       "\n",
       "    .dataframe tbody tr th {\n",
       "        vertical-align: top;\n",
       "    }\n",
       "\n",
       "    .dataframe thead th {\n",
       "        text-align: right;\n",
       "    }\n",
       "</style>\n",
       "<table border=\"1\" class=\"dataframe\">\n",
       "  <thead>\n",
       "    <tr style=\"text-align: right;\">\n",
       "      <th></th>\n",
       "      <th>class</th>\n",
       "      <th>num_members</th>\n",
       "      <th>num_obs</th>\n",
       "      <th>completeness</th>\n",
       "      <th>findable</th>\n",
       "      <th>found</th>\n",
       "      <th>findable_found</th>\n",
       "      <th>findable_missed</th>\n",
       "      <th>not_findable_found</th>\n",
       "      <th>not_findable_missed</th>\n",
       "      <th>...</th>\n",
       "      <th>unique_in_partial_linkages_only</th>\n",
       "      <th>unique_in_pure_and_partial_linkages</th>\n",
       "      <th>unique_in_partial_linkages</th>\n",
       "      <th>unique_in_partial_contaminant_linkages</th>\n",
       "      <th>unique_in_mixed_linkages</th>\n",
       "      <th>obs_in_pure_linkages</th>\n",
       "      <th>obs_in_pure_complete_linkages</th>\n",
       "      <th>obs_in_partial_linkages</th>\n",
       "      <th>obs_in_partial_contaminant_linkages</th>\n",
       "      <th>obs_in_mixed_linkages</th>\n",
       "    </tr>\n",
       "  </thead>\n",
       "  <tbody>\n",
       "    <tr>\n",
       "      <th>0</th>\n",
       "      <td>All</td>\n",
       "      <td>947</td>\n",
       "      <td>9938</td>\n",
       "      <td>93.128391</td>\n",
       "      <td>553</td>\n",
       "      <td>608</td>\n",
       "      <td>515</td>\n",
       "      <td>38</td>\n",
       "      <td>93</td>\n",
       "      <td>301</td>\n",
       "      <td>...</td>\n",
       "      <td>0</td>\n",
       "      <td>16</td>\n",
       "      <td>16</td>\n",
       "      <td>15</td>\n",
       "      <td>122</td>\n",
       "      <td>24787</td>\n",
       "      <td>2394</td>\n",
       "      <td>278</td>\n",
       "      <td>44</td>\n",
       "      <td>807</td>\n",
       "    </tr>\n",
       "  </tbody>\n",
       "</table>\n",
       "<p>1 rows × 31 columns</p>\n",
       "</div>"
      ],
      "text/plain": [
       "  class  num_members  num_obs  completeness  findable  found  findable_found  \\\n",
       "0   All          947     9938     93.128391       553    608             515   \n",
       "\n",
       "   findable_missed  not_findable_found  not_findable_missed  ...  \\\n",
       "0               38                  93                  301  ...   \n",
       "\n",
       "   unique_in_partial_linkages_only  unique_in_pure_and_partial_linkages  \\\n",
       "0                                0                                   16   \n",
       "\n",
       "   unique_in_partial_linkages  unique_in_partial_contaminant_linkages  \\\n",
       "0                          16                                      15   \n",
       "\n",
       "   unique_in_mixed_linkages  obs_in_pure_linkages  \\\n",
       "0                       122                 24787   \n",
       "\n",
       "   obs_in_pure_complete_linkages  obs_in_partial_linkages  \\\n",
       "0                           2394                      278   \n",
       "\n",
       "   obs_in_partial_contaminant_linkages  obs_in_mixed_linkages  \n",
       "0                                   44                    807  \n",
       "\n",
       "[1 rows x 31 columns]"
      ]
     },
     "execution_count": 74,
     "metadata": {},
     "output_type": "execute_result"
    }
   ],
   "source": [
    "# Now we have roughly as many clusters as there are objects to be discovered. However, the completenss took a hit.\n",
    "summary_heliolinc"
   ]
  },
  {
   "cell_type": "code",
   "execution_count": 75,
   "metadata": {},
   "outputs": [
    {
     "data": {
      "text/plain": [
       "0    95.470799\n",
       "dtype: float64"
      ]
     },
     "execution_count": 75,
     "metadata": {},
     "output_type": "execute_result"
    }
   ],
   "source": [
    "# purity\n",
    "summary_heliolinc.pure_linkages/summary_heliolinc.linkages*100"
   ]
  },
  {
   "cell_type": "code",
   "execution_count": null,
   "metadata": {},
   "outputs": [],
   "source": []
  },
  {
   "cell_type": "code",
   "execution_count": null,
   "metadata": {},
   "outputs": [],
   "source": []
  },
  {
   "cell_type": "code",
   "execution_count": 96,
   "metadata": {},
   "outputs": [
    {
     "data": {
      "text/html": [
       "<div>\n",
       "<style scoped>\n",
       "    .dataframe tbody tr th:only-of-type {\n",
       "        vertical-align: middle;\n",
       "    }\n",
       "\n",
       "    .dataframe tbody tr th {\n",
       "        vertical-align: top;\n",
       "    }\n",
       "\n",
       "    .dataframe thead th {\n",
       "        text-align: right;\n",
       "    }\n",
       "</style>\n",
       "<table border=\"1\" class=\"dataframe\">\n",
       "  <thead>\n",
       "    <tr style=\"text-align: right;\">\n",
       "      <th></th>\n",
       "      <th>class</th>\n",
       "      <th>num_members</th>\n",
       "      <th>num_obs</th>\n",
       "      <th>completeness</th>\n",
       "      <th>findable</th>\n",
       "      <th>found</th>\n",
       "      <th>findable_found</th>\n",
       "      <th>findable_missed</th>\n",
       "      <th>not_findable_found</th>\n",
       "      <th>not_findable_missed</th>\n",
       "      <th>...</th>\n",
       "      <th>unique_in_partial_linkages_only</th>\n",
       "      <th>unique_in_pure_and_partial_linkages</th>\n",
       "      <th>unique_in_partial_linkages</th>\n",
       "      <th>unique_in_partial_contaminant_linkages</th>\n",
       "      <th>unique_in_mixed_linkages</th>\n",
       "      <th>obs_in_pure_linkages</th>\n",
       "      <th>obs_in_pure_complete_linkages</th>\n",
       "      <th>obs_in_partial_linkages</th>\n",
       "      <th>obs_in_partial_contaminant_linkages</th>\n",
       "      <th>obs_in_mixed_linkages</th>\n",
       "    </tr>\n",
       "  </thead>\n",
       "  <tbody>\n",
       "    <tr>\n",
       "      <th>0</th>\n",
       "      <td>All</td>\n",
       "      <td>2765</td>\n",
       "      <td>26655</td>\n",
       "      <td>88.505747</td>\n",
       "      <td>1305</td>\n",
       "      <td>1494</td>\n",
       "      <td>1155</td>\n",
       "      <td>150</td>\n",
       "      <td>339</td>\n",
       "      <td>1121</td>\n",
       "      <td>...</td>\n",
       "      <td>0</td>\n",
       "      <td>6</td>\n",
       "      <td>6</td>\n",
       "      <td>6</td>\n",
       "      <td>96</td>\n",
       "      <td>48744</td>\n",
       "      <td>3830</td>\n",
       "      <td>118</td>\n",
       "      <td>20</td>\n",
       "      <td>551</td>\n",
       "    </tr>\n",
       "  </tbody>\n",
       "</table>\n",
       "<p>1 rows × 31 columns</p>\n",
       "</div>"
      ],
      "text/plain": [
       "  class  num_members  num_obs  completeness  findable  found  findable_found  \\\n",
       "0   All         2765    26655     88.505747      1305   1494            1155   \n",
       "\n",
       "   findable_missed  not_findable_found  not_findable_missed  ...  \\\n",
       "0              150                 339                 1121  ...   \n",
       "\n",
       "   unique_in_partial_linkages_only  unique_in_pure_and_partial_linkages  \\\n",
       "0                                0                                    6   \n",
       "\n",
       "   unique_in_partial_linkages  unique_in_partial_contaminant_linkages  \\\n",
       "0                           6                                       6   \n",
       "\n",
       "   unique_in_mixed_linkages  obs_in_pure_linkages  \\\n",
       "0                        96                 48744   \n",
       "\n",
       "   obs_in_pure_complete_linkages  obs_in_partial_linkages  \\\n",
       "0                           3830                      118   \n",
       "\n",
       "   obs_in_partial_contaminant_linkages  obs_in_mixed_linkages  \n",
       "0                                   20                    551  \n",
       "\n",
       "[1 rows x 31 columns]"
      ]
     },
     "execution_count": 96,
     "metadata": {},
     "output_type": "execute_result"
    }
   ],
   "source": [
    "# Now we have roughly as many clusters as there are objects to be discovered. However, the completenss took a hit.\n",
    "summary_heliolinc"
   ]
  },
  {
   "cell_type": "code",
   "execution_count": 97,
   "metadata": {},
   "outputs": [
    {
     "data": {
      "text/plain": [
       "0    98.680814\n",
       "dtype: float64"
      ]
     },
     "execution_count": 97,
     "metadata": {},
     "output_type": "execute_result"
    }
   ],
   "source": [
    "# purity\n",
    "summary_heliolinc.pure_linkages/summary_heliolinc.linkages*100"
   ]
  },
  {
   "cell_type": "markdown",
   "metadata": {},
   "source": [
    "### Run HelioLinC3D for different clustering parameters\n"
   ]
  },
  {
   "cell_type": "code",
   "execution_count": 149,
   "metadata": {},
   "outputs": [],
   "source": [
    "# How do completeness and purity change with varying clustering parameters?\n",
    "cr_arrow_range=np.arange(0.006,0.016,0.001)"
   ]
  },
  {
   "cell_type": "code",
   "execution_count": 150,
   "metadata": {},
   "outputs": [
    {
     "data": {
      "text/plain": [
       "array([0.006, 0.007, 0.008, 0.009, 0.01 , 0.011, 0.012, 0.013, 0.014,\n",
       "       0.015])"
      ]
     },
     "execution_count": 150,
     "metadata": {},
     "output_type": "execute_result"
    }
   ],
   "source": [
    "cr_arrow_range"
   ]
  },
  {
   "cell_type": "code",
   "execution_count": 151,
   "metadata": {},
   "outputs": [
    {
     "name": "stderr",
     "output_type": "stream",
     "text": [
      "\r",
      "HelioLinC2:   0%|          | 0/390 [00:00<?, ?it/s]"
     ]
    },
    {
     "name": "stdout",
     "output_type": "stream",
     "text": [
      "390\n"
     ]
    },
    {
     "name": "stderr",
     "output_type": "stream",
     "text": [
      "HelioLinC2:   5%|▌         | 20/390 [00:01<00:32, 11.46it/s]\n"
     ]
    },
    {
     "ename": "KeyboardInterrupt",
     "evalue": "",
     "output_type": "error",
     "traceback": [
      "\u001b[0;31m---------------------------------------------------------------------------\u001b[0m",
      "\u001b[0;31mKeyboardInterrupt\u001b[0m                         Traceback (most recent call last)",
      "\u001b[0;32m<ipython-input-151-e51f404b46e3>\u001b[0m in \u001b[0;36m<module>\u001b[0;34m\u001b[0m\n\u001b[1;32m     33\u001b[0m \u001b[0;34m\u001b[0m\u001b[0m\n\u001b[1;32m     34\u001b[0m     \u001b[0;32mwith\u001b[0m \u001b[0mtqdm_joblib\u001b[0m\u001b[0;34m(\u001b[0m\u001b[0mtqdm\u001b[0m\u001b[0;34m(\u001b[0m\u001b[0mdesc\u001b[0m\u001b[0;34m=\u001b[0m\u001b[0;34m\"HelioLinC2\"\u001b[0m\u001b[0;34m,\u001b[0m \u001b[0mtotal\u001b[0m\u001b[0;34m=\u001b[0m\u001b[0mlen\u001b[0m\u001b[0;34m(\u001b[0m\u001b[0mrrdot\u001b[0m\u001b[0;34m)\u001b[0m\u001b[0;34m)\u001b[0m\u001b[0;34m)\u001b[0m \u001b[0;32mas\u001b[0m \u001b[0mprogress_bar\u001b[0m\u001b[0;34m:\u001b[0m\u001b[0;34m\u001b[0m\u001b[0;34m\u001b[0m\u001b[0m\n\u001b[0;32m---> 35\u001b[0;31m         clusters_df=Parallel(n_jobs=n_cores)(delayed(hl.heliolinc2)\n\u001b[0m\u001b[1;32m     36\u001b[0m                                           (dfobs, r, drdt, cr_obs, cr_arrows, ct_min, ct_max, min_samples=min_samples,\n\u001b[1;32m     37\u001b[0m                                            \u001b[0mclustering_algorithm\u001b[0m\u001b[0;34m=\u001b[0m\u001b[0;34m'dbscan'\u001b[0m\u001b[0;34m,\u001b[0m \u001b[0mlight_time\u001b[0m\u001b[0;34m=\u001b[0m\u001b[0;32mFalse\u001b[0m\u001b[0;34m,\u001b[0m\u001b[0;34m\u001b[0m\u001b[0;34m\u001b[0m\u001b[0m\n",
      "\u001b[0;32m~/anaconda3/envs/difi_py38/lib/python3.8/site-packages/joblib/parallel.py\u001b[0m in \u001b[0;36m__call__\u001b[0;34m(self, iterable)\u001b[0m\n\u001b[1;32m   1052\u001b[0m \u001b[0;34m\u001b[0m\u001b[0m\n\u001b[1;32m   1053\u001b[0m             \u001b[0;32mwith\u001b[0m \u001b[0mself\u001b[0m\u001b[0;34m.\u001b[0m\u001b[0m_backend\u001b[0m\u001b[0;34m.\u001b[0m\u001b[0mretrieval_context\u001b[0m\u001b[0;34m(\u001b[0m\u001b[0;34m)\u001b[0m\u001b[0;34m:\u001b[0m\u001b[0;34m\u001b[0m\u001b[0;34m\u001b[0m\u001b[0m\n\u001b[0;32m-> 1054\u001b[0;31m                 \u001b[0mself\u001b[0m\u001b[0;34m.\u001b[0m\u001b[0mretrieve\u001b[0m\u001b[0;34m(\u001b[0m\u001b[0;34m)\u001b[0m\u001b[0;34m\u001b[0m\u001b[0;34m\u001b[0m\u001b[0m\n\u001b[0m\u001b[1;32m   1055\u001b[0m             \u001b[0;31m# Make sure that we get a last message telling us we are done\u001b[0m\u001b[0;34m\u001b[0m\u001b[0;34m\u001b[0m\u001b[0;34m\u001b[0m\u001b[0m\n\u001b[1;32m   1056\u001b[0m             \u001b[0melapsed_time\u001b[0m \u001b[0;34m=\u001b[0m \u001b[0mtime\u001b[0m\u001b[0;34m.\u001b[0m\u001b[0mtime\u001b[0m\u001b[0;34m(\u001b[0m\u001b[0;34m)\u001b[0m \u001b[0;34m-\u001b[0m \u001b[0mself\u001b[0m\u001b[0;34m.\u001b[0m\u001b[0m_start_time\u001b[0m\u001b[0;34m\u001b[0m\u001b[0;34m\u001b[0m\u001b[0m\n",
      "\u001b[0;32m~/anaconda3/envs/difi_py38/lib/python3.8/site-packages/joblib/parallel.py\u001b[0m in \u001b[0;36mretrieve\u001b[0;34m(self)\u001b[0m\n\u001b[1;32m    931\u001b[0m             \u001b[0;32mtry\u001b[0m\u001b[0;34m:\u001b[0m\u001b[0;34m\u001b[0m\u001b[0;34m\u001b[0m\u001b[0m\n\u001b[1;32m    932\u001b[0m                 \u001b[0;32mif\u001b[0m \u001b[0mgetattr\u001b[0m\u001b[0;34m(\u001b[0m\u001b[0mself\u001b[0m\u001b[0;34m.\u001b[0m\u001b[0m_backend\u001b[0m\u001b[0;34m,\u001b[0m \u001b[0;34m'supports_timeout'\u001b[0m\u001b[0;34m,\u001b[0m \u001b[0;32mFalse\u001b[0m\u001b[0;34m)\u001b[0m\u001b[0;34m:\u001b[0m\u001b[0;34m\u001b[0m\u001b[0;34m\u001b[0m\u001b[0m\n\u001b[0;32m--> 933\u001b[0;31m                     \u001b[0mself\u001b[0m\u001b[0;34m.\u001b[0m\u001b[0m_output\u001b[0m\u001b[0;34m.\u001b[0m\u001b[0mextend\u001b[0m\u001b[0;34m(\u001b[0m\u001b[0mjob\u001b[0m\u001b[0;34m.\u001b[0m\u001b[0mget\u001b[0m\u001b[0;34m(\u001b[0m\u001b[0mtimeout\u001b[0m\u001b[0;34m=\u001b[0m\u001b[0mself\u001b[0m\u001b[0;34m.\u001b[0m\u001b[0mtimeout\u001b[0m\u001b[0;34m)\u001b[0m\u001b[0;34m)\u001b[0m\u001b[0;34m\u001b[0m\u001b[0;34m\u001b[0m\u001b[0m\n\u001b[0m\u001b[1;32m    934\u001b[0m                 \u001b[0;32melse\u001b[0m\u001b[0;34m:\u001b[0m\u001b[0;34m\u001b[0m\u001b[0;34m\u001b[0m\u001b[0m\n\u001b[1;32m    935\u001b[0m                     \u001b[0mself\u001b[0m\u001b[0;34m.\u001b[0m\u001b[0m_output\u001b[0m\u001b[0;34m.\u001b[0m\u001b[0mextend\u001b[0m\u001b[0;34m(\u001b[0m\u001b[0mjob\u001b[0m\u001b[0;34m.\u001b[0m\u001b[0mget\u001b[0m\u001b[0;34m(\u001b[0m\u001b[0;34m)\u001b[0m\u001b[0;34m)\u001b[0m\u001b[0;34m\u001b[0m\u001b[0;34m\u001b[0m\u001b[0m\n",
      "\u001b[0;32m~/anaconda3/envs/difi_py38/lib/python3.8/site-packages/joblib/_parallel_backends.py\u001b[0m in \u001b[0;36mwrap_future_result\u001b[0;34m(future, timeout)\u001b[0m\n\u001b[1;32m    540\u001b[0m         AsyncResults.get from multiprocessing.\"\"\"\n\u001b[1;32m    541\u001b[0m         \u001b[0;32mtry\u001b[0m\u001b[0;34m:\u001b[0m\u001b[0;34m\u001b[0m\u001b[0;34m\u001b[0m\u001b[0m\n\u001b[0;32m--> 542\u001b[0;31m             \u001b[0;32mreturn\u001b[0m \u001b[0mfuture\u001b[0m\u001b[0;34m.\u001b[0m\u001b[0mresult\u001b[0m\u001b[0;34m(\u001b[0m\u001b[0mtimeout\u001b[0m\u001b[0;34m=\u001b[0m\u001b[0mtimeout\u001b[0m\u001b[0;34m)\u001b[0m\u001b[0;34m\u001b[0m\u001b[0;34m\u001b[0m\u001b[0m\n\u001b[0m\u001b[1;32m    543\u001b[0m         \u001b[0;32mexcept\u001b[0m \u001b[0mCfTimeoutError\u001b[0m \u001b[0;32mas\u001b[0m \u001b[0me\u001b[0m\u001b[0;34m:\u001b[0m\u001b[0;34m\u001b[0m\u001b[0;34m\u001b[0m\u001b[0m\n\u001b[1;32m    544\u001b[0m             \u001b[0;32mraise\u001b[0m \u001b[0mTimeoutError\u001b[0m \u001b[0;32mfrom\u001b[0m \u001b[0me\u001b[0m\u001b[0;34m\u001b[0m\u001b[0;34m\u001b[0m\u001b[0m\n",
      "\u001b[0;32m~/anaconda3/envs/difi_py38/lib/python3.8/concurrent/futures/_base.py\u001b[0m in \u001b[0;36mresult\u001b[0;34m(self, timeout)\u001b[0m\n\u001b[1;32m    437\u001b[0m                     \u001b[0;32mreturn\u001b[0m \u001b[0mself\u001b[0m\u001b[0;34m.\u001b[0m\u001b[0m__get_result\u001b[0m\u001b[0;34m(\u001b[0m\u001b[0;34m)\u001b[0m\u001b[0;34m\u001b[0m\u001b[0;34m\u001b[0m\u001b[0m\n\u001b[1;32m    438\u001b[0m \u001b[0;34m\u001b[0m\u001b[0m\n\u001b[0;32m--> 439\u001b[0;31m                 \u001b[0mself\u001b[0m\u001b[0;34m.\u001b[0m\u001b[0m_condition\u001b[0m\u001b[0;34m.\u001b[0m\u001b[0mwait\u001b[0m\u001b[0;34m(\u001b[0m\u001b[0mtimeout\u001b[0m\u001b[0;34m)\u001b[0m\u001b[0;34m\u001b[0m\u001b[0;34m\u001b[0m\u001b[0m\n\u001b[0m\u001b[1;32m    440\u001b[0m \u001b[0;34m\u001b[0m\u001b[0m\n\u001b[1;32m    441\u001b[0m                 \u001b[0;32mif\u001b[0m \u001b[0mself\u001b[0m\u001b[0;34m.\u001b[0m\u001b[0m_state\u001b[0m \u001b[0;32min\u001b[0m \u001b[0;34m[\u001b[0m\u001b[0mCANCELLED\u001b[0m\u001b[0;34m,\u001b[0m \u001b[0mCANCELLED_AND_NOTIFIED\u001b[0m\u001b[0;34m]\u001b[0m\u001b[0;34m:\u001b[0m\u001b[0;34m\u001b[0m\u001b[0;34m\u001b[0m\u001b[0m\n",
      "\u001b[0;32m~/anaconda3/envs/difi_py38/lib/python3.8/threading.py\u001b[0m in \u001b[0;36mwait\u001b[0;34m(self, timeout)\u001b[0m\n\u001b[1;32m    300\u001b[0m         \u001b[0;32mtry\u001b[0m\u001b[0;34m:\u001b[0m    \u001b[0;31m# restore state no matter what (e.g., KeyboardInterrupt)\u001b[0m\u001b[0;34m\u001b[0m\u001b[0;34m\u001b[0m\u001b[0m\n\u001b[1;32m    301\u001b[0m             \u001b[0;32mif\u001b[0m \u001b[0mtimeout\u001b[0m \u001b[0;32mis\u001b[0m \u001b[0;32mNone\u001b[0m\u001b[0;34m:\u001b[0m\u001b[0;34m\u001b[0m\u001b[0;34m\u001b[0m\u001b[0m\n\u001b[0;32m--> 302\u001b[0;31m                 \u001b[0mwaiter\u001b[0m\u001b[0;34m.\u001b[0m\u001b[0macquire\u001b[0m\u001b[0;34m(\u001b[0m\u001b[0;34m)\u001b[0m\u001b[0;34m\u001b[0m\u001b[0;34m\u001b[0m\u001b[0m\n\u001b[0m\u001b[1;32m    303\u001b[0m                 \u001b[0mgotit\u001b[0m \u001b[0;34m=\u001b[0m \u001b[0;32mTrue\u001b[0m\u001b[0;34m\u001b[0m\u001b[0;34m\u001b[0m\u001b[0m\n\u001b[1;32m    304\u001b[0m             \u001b[0;32melse\u001b[0m\u001b[0;34m:\u001b[0m\u001b[0;34m\u001b[0m\u001b[0;34m\u001b[0m\u001b[0m\n",
      "\u001b[0;31mKeyboardInterrupt\u001b[0m: "
     ]
    }
   ],
   "source": [
    "cr_arrow_range=np.arange(0.006,0.016,0.001)\n",
    "\n",
    "results=[]\n",
    "\n",
    "for cr_arrows in cr_arrow_range:\n",
    "    # Clustering radius for heliocentric positions projected from observations [au]\n",
    "    cr_obs=0.06\n",
    "    # Clustering radius for propagated arrows [au]\n",
    "    #cr_arrows=0.012\n",
    "    # max temporal separation for tracklet observations (days)\n",
    "    ct_max=1.5/24\n",
    "    # min temporal separation for tracklet observations, e.g. exposure time (days)\n",
    "    ct_min=25/86400 \n",
    "    # Minimum number of arrows to be clustered ('DBSCAN only')\n",
    "    min_samples=3\n",
    "\n",
    "\n",
    "    # define range of heliocentric distances\n",
    "    rall=np.arange(1.8,3.3,0.1)\n",
    "\n",
    "    # define range of heliocentric radial velocities\n",
    "    drdtall=np.arange(-0.01,0.0151,0.001)\n",
    "    np.append(drdtall,0.0)\n",
    "\n",
    "    # Iterator for joblib based paralellization\n",
    "    rrdot=np.array(np.meshgrid(rall,drdtall)).T.reshape(-1,2)\n",
    "\n",
    "    # How many configuraitons do we have to run?\n",
    "    print(len(rrdot))\n",
    "\n",
    "\n",
    "    n_cores=10\n",
    "\n",
    "    with tqdm_joblib(tqdm(desc=\"HelioLinC2\", total=len(rrdot))) as progress_bar:\n",
    "        clusters_df=Parallel(n_jobs=n_cores)(delayed(hl.heliolinc2)\n",
    "                                          (dfobs, r, drdt, cr_obs, cr_arrows, ct_min, ct_max, min_samples=min_samples,\n",
    "                                           clustering_algorithm='dbscan', light_time=False, \n",
    "                                           verbose=False, n_jobs=1) \n",
    "                                           for r, drdt in rrdot ) \n",
    "\n",
    "    clustered_observations = (pd.concat(clusters_df)).reset_index(drop=True)  \n",
    "    clustered_observations['clusterId']=clustered_observations.index\n",
    "\n",
    "    dedupe=hl.deduplicateClusters(clustered_observations.sort_values(by=['var_pos','var_vel']) ).reset_index(drop=True)\n",
    "    dedupe['cluster_Id']=dedupe.index\n",
    "\n",
    "    dfdifi=hl.linkages2difi(dedupe,clusterId_name='cluster_Id',observationId_name='obsId',output='pandas')\n",
    "    dfobs_difi=dfobs.merge(dfin_sel,left_on='obsName',right_on='obsName')\n",
    "    dfobs_difi['obsId']=dfobs_difi['obsId'].astype(str)\n",
    "\n",
    "    (all_truths, findable_observations, summary, \n",
    "           all_linkages_heliolinc, all_truths_heliolinc, summary_heliolinc,\n",
    "           findable_objects, missed_objects) = hl.runDifi(dfobs_difi, dedupe, \n",
    "                                                          obsIdName='obsId', linkageIdName='cluster_Id',\n",
    "                                                          objIdName='ObjID', nightName='night', timeName='time',\n",
    "                                                          findability='tracklet', linkage_min_obs=2, \n",
    "                                                          max_obs_separation=1.5/24, \n",
    "                                                          min_linkage_nights=3, \n",
    "                                                          metric=\"nightly_linkages\")\n",
    "\n",
    "    results.append([cr_arrows,all_truths, findable_observations, summary, \n",
    "           all_linkages_heliolinc, all_truths_heliolinc, summary_heliolinc,\n",
    "           findable_objects, missed_objects])"
   ]
  },
  {
   "cell_type": "markdown",
   "metadata": {},
   "source": [
    "## Study ROC curve before filtering"
   ]
  },
  {
   "cell_type": "code",
   "execution_count": 42,
   "metadata": {},
   "outputs": [
    {
     "name": "stdout",
     "output_type": "stream",
     "text": [
      "0.006 88.37209302325581\n",
      "0.007 89.30232558139535\n",
      "0.008 92.55813953488372\n",
      "0.009000000000000001 94.4186046511628\n",
      "0.01 94.88372093023256\n",
      "0.011 95.81395348837209\n",
      "0.012 97.20930232558139\n",
      "0.013000000000000001 97.20930232558139\n",
      "0.014 97.20930232558139\n",
      "0.015000000000000001 97.67441860465117\n"
     ]
    }
   ],
   "source": [
    "# monitor completeness numbers as function of clustering parameter\n",
    "for r in results:\n",
    "    print(r[0],r[6].completeness[0])"
   ]
  },
  {
   "cell_type": "code",
   "execution_count": 43,
   "metadata": {},
   "outputs": [],
   "source": [
    "# generate ROC data \n",
    "roc=[]\n",
    "for r in results:\n",
    "    roc.append([r[0],r[6].completeness[0],r[6].pure_linkages/r[6].linkages*100,len(r[4].cluster_Id)])\n",
    "roc=np.array(roc)    "
   ]
  },
  {
   "cell_type": "code",
   "execution_count": 44,
   "metadata": {},
   "outputs": [
    {
     "data": {
      "image/png": "[encoded data removed]",
      "text/plain": [
       "<Figure size 900x600 with 2 Axes>"
      ]
     },
     "metadata": {
      "needs_background": "light"
     },
     "output_type": "display_data"
    }
   ],
   "source": [
    "# plot ROC curve\n",
    "plt.figure(dpi=150)\n",
    "plt.scatter(roc[:,1],roc[:,2],c=roc[:,0])\n",
    "plt.xlabel('Completeness [%]')\n",
    "plt.ylabel('Purity [%]')\n",
    "cbar = plt.colorbar()\n",
    "cbar.set_label('Arrow Clustering Radius [au]', rotation=270, labelpad=15)\n",
    "plt.show()"
   ]
  },
  {
   "cell_type": "code",
   "execution_count": 45,
   "metadata": {},
   "outputs": [
    {
     "data": {
      "image/png": "[encoded data removed]",
      "text/plain": [
       "<Figure size 900x600 with 2 Axes>"
      ]
     },
     "metadata": {
      "needs_background": "light"
     },
     "output_type": "display_data"
    }
   ],
   "source": [
    "# Number of clusters vs completeness\n",
    "plt.figure(dpi=150)\n",
    "plt.scatter(roc[:,1],roc[:,3],c=roc[:,0])\n",
    "plt.xlabel('Completeness [%]')\n",
    "plt.ylabel('Number of Clusters')\n",
    "cbar = plt.colorbar()\n",
    "cbar.set_label('Arrow Clustering Radius [au]', rotation=270, labelpad=15)\n",
    "plt.show()"
   ]
  },
  {
   "cell_type": "markdown",
   "metadata": {},
   "source": [
    "## Rerun HelioLinC3D for different clustering parameters with mean state filtering"
   ]
  },
  {
   "cell_type": "code",
   "execution_count": 121,
   "metadata": {},
   "outputs": [
    {
     "name": "stderr",
     "output_type": "stream",
     "text": [
      "\r",
      "HelioLinC2:   0%|          | 0/390 [00:00<?, ?it/s]"
     ]
    },
    {
     "name": "stdout",
     "output_type": "stream",
     "text": [
      "390\n"
     ]
    },
    {
     "name": "stderr",
     "output_type": "stream",
     "text": [
      "HelioLinC2: 100%|██████████| 390/390 [03:10<00:00,  2.05it/s]\n",
      "HelioLinC2:   0%|          | 0/390 [00:00<?, ?it/s]"
     ]
    },
    {
     "name": "stdout",
     "output_type": "stream",
     "text": [
      "390\n"
     ]
    },
    {
     "name": "stderr",
     "output_type": "stream",
     "text": [
      "HelioLinC2: 100%|██████████| 390/390 [02:51<00:00,  2.27it/s]\n",
      "HelioLinC2:   0%|          | 0/390 [00:00<?, ?it/s]"
     ]
    },
    {
     "name": "stdout",
     "output_type": "stream",
     "text": [
      "390\n"
     ]
    },
    {
     "name": "stderr",
     "output_type": "stream",
     "text": [
      "HelioLinC2: 100%|██████████| 390/390 [02:55<00:00,  2.22it/s]\n",
      "HelioLinC2:   0%|          | 0/390 [00:00<?, ?it/s]"
     ]
    },
    {
     "name": "stdout",
     "output_type": "stream",
     "text": [
      "390\n"
     ]
    },
    {
     "name": "stderr",
     "output_type": "stream",
     "text": [
      "HelioLinC2: 100%|██████████| 390/390 [02:59<00:00,  2.18it/s]\n",
      "HelioLinC2:   0%|          | 0/390 [00:00<?, ?it/s]"
     ]
    },
    {
     "name": "stdout",
     "output_type": "stream",
     "text": [
      "390\n"
     ]
    },
    {
     "name": "stderr",
     "output_type": "stream",
     "text": [
      "HelioLinC2: 100%|██████████| 390/390 [03:03<00:00,  2.13it/s]\n",
      "HelioLinC2:   0%|          | 0/390 [00:00<?, ?it/s]"
     ]
    },
    {
     "name": "stdout",
     "output_type": "stream",
     "text": [
      "390\n"
     ]
    },
    {
     "name": "stderr",
     "output_type": "stream",
     "text": [
      "HelioLinC2: 100%|██████████| 390/390 [03:08<00:00,  2.07it/s]\n",
      "HelioLinC2:   0%|          | 0/390 [00:00<?, ?it/s]"
     ]
    },
    {
     "name": "stdout",
     "output_type": "stream",
     "text": [
      "390\n"
     ]
    },
    {
     "name": "stderr",
     "output_type": "stream",
     "text": [
      "HelioLinC2: 100%|██████████| 390/390 [03:13<00:00,  2.02it/s]\n",
      "HelioLinC2:   0%|          | 0/390 [00:00<?, ?it/s]"
     ]
    },
    {
     "name": "stdout",
     "output_type": "stream",
     "text": [
      "390\n"
     ]
    },
    {
     "name": "stderr",
     "output_type": "stream",
     "text": [
      "HelioLinC2: 100%|██████████| 390/390 [03:18<00:00,  1.97it/s]\n",
      "HelioLinC2:   0%|          | 0/390 [00:00<?, ?it/s]"
     ]
    },
    {
     "name": "stdout",
     "output_type": "stream",
     "text": [
      "390\n"
     ]
    },
    {
     "name": "stderr",
     "output_type": "stream",
     "text": [
      "HelioLinC2: 100%|██████████| 390/390 [03:22<00:00,  1.93it/s]\n",
      "HelioLinC2:   0%|          | 0/390 [00:00<?, ?it/s]"
     ]
    },
    {
     "name": "stdout",
     "output_type": "stream",
     "text": [
      "390\n"
     ]
    },
    {
     "name": "stderr",
     "output_type": "stream",
     "text": [
      "HelioLinC2: 100%|██████████| 390/390 [03:26<00:00,  1.88it/s]\n"
     ]
    }
   ],
   "source": [
    "\n",
    "def heliolinc_roc(cr_arrow_range=np.arange(0.006,0.016,0.001),cr_obs=0.06,\n",
    "                  ct_max=1.5/24, ct_min=25/86400, min_samples=3,\n",
    "                  rall=np.arange(1.8,3.3,0.1),drdtall=np.append(np.arange(-0.01,0.0151,0.002),0),\n",
    "                  n_cores=10, mean_state_filter_variance_limit=5e-8):\n",
    "    \"\"\" Generate ROC data for HelioLinC3D. \n",
    "    \n",
    "    Parameters:\n",
    "    -----------\n",
    "    cr_arrow_range    ... numpy array, Clustering radii for propagated arrows [au]\n",
    "    cr_obs            ... float, Clustering radius for heliocentric positions projected from observations [au]\n",
    "    ct_max            ... float, Maximum temporal separation for tracklet observations (days)\n",
    "    min_samples       ... integer, Minimum number of arrows to be clustered ('DBSCAN only')\n",
    "    rall              ... numpy array, Range of heliocentric distances searched by HelioLinC [au]\n",
    "    rrdot             ... numpy array, Range of heliocentric radial velocities searched by HelioLinC [au/day]\n",
    "    n_cores           ... integer, Number of cores available\n",
    "    mean_state_filter_variance_limit ... float, Variance limit for mean state filtering \n",
    "                          of clusters (positions) [au^2]\n",
    "                          \n",
    "    Returns:\n",
    "    --------\n",
    "    \n",
    "    \"\"\"\n",
    "    \n",
    "    results=[]\n",
    "    \n",
    "    for cr_arrows in cr_arrow_range:\n",
    "\n",
    "\n",
    "        # Iterator for joblib based paralellization\n",
    "        rrdot=np.array(np.meshgrid(rall,drdtall)).T.reshape(-1,2)\n",
    "\n",
    "        # How many configuraitons do we have to run in total?\n",
    "        print(\"Configurations to run:\" len(rrdot)*len(cr_arrow_range))\n",
    "\n",
    "\n",
    "        n_cores=10\n",
    "\n",
    "        with tqdm_joblib(tqdm(desc=\"HelioLinC2\", total=len(rrdot))) as progress_bar:\n",
    "            clusters_df=Parallel(n_jobs=n_cores)(delayed(hl.heliolinc2)\n",
    "                                              (dfobs, r, drdt, cr_obs, cr_arrows, ct_min, ct_max, min_samples=min_samples,\n",
    "                                               clustering_algorithm='dbscan', light_time=False, \n",
    "                                               verbose=False, n_jobs=1) \n",
    "                                               for r, drdt in rrdot ) \n",
    "\n",
    "        clustered_observations = (pd.concat(clusters_df)).reset_index(drop=True)  \n",
    "        clustered_observations['clusterId']=clustered_observations.index\n",
    "\n",
    "        dedupe=hl.deduplicateClusters(clustered_observations.sort_values(by=['var_pos','var_vel']) ).reset_index(drop=True)\n",
    "        #filtering\n",
    "        cog2=dedupe[dedupe['var_pos']<variance_limit].reset_index(drop=True)  \n",
    "        cog2['cluster_Id']=cog2.index\n",
    "\n",
    "        dfdifi=hl.linkages2difi(cog2,clusterId_name='cluster_Id',observationId_name='obsId',output='pandas')\n",
    "        dfobs_difi=dfobs.merge(dfin_sel,left_on='obsName',right_on='obsName')\n",
    "        dfobs_difi['obsId']=dfobs_difi['obsId'].astype(str)\n",
    "\n",
    "        (all_truths, findable_observations, summary, \n",
    "               all_linkages_heliolinc, all_truths_heliolinc, summary_heliolinc,\n",
    "               findable_objects, missed_objects) = hl.runDifi(dfobs_difi, cog2, \n",
    "                                                              obsIdName='obsId', linkageIdName='cluster_Id',\n",
    "                                                              objIdName='ObjID', nightName='night', timeName='time',\n",
    "                                                              findability='tracklet', linkage_min_obs=2, \n",
    "                                                              max_obs_separation=1.5/24, \n",
    "                                                              min_linkage_nights=3, \n",
    "                                                              metric=\"nightly_linkages\")\n",
    "\n",
    "        results.append([cr_arrows,all_truths, findable_observations, summary, \n",
    "               all_linkages_heliolinc, all_truths_heliolinc, summary_heliolinc,\n",
    "               findable_objects, missed_objects])"
   ]
  },
  {
   "cell_type": "markdown",
   "metadata": {},
   "source": [
    "## Plot the ROC curve after mean state filtering "
   ]
  },
  {
   "cell_type": "code",
   "execution_count": 126,
   "metadata": {},
   "outputs": [
    {
     "name": "stderr",
     "output_type": "stream",
     "text": [
      "/epyc/projects/pytrax_play/envs/pytrax_s/lib/python3.7/site-packages/ipykernel_launcher.py:6: VisibleDeprecationWarning: Creating an ndarray from ragged nested sequences (which is a list-or-tuple of lists-or-tuples-or ndarrays with different lengths or shapes) is deprecated. If you meant to do this, you must specify 'dtype=object' when creating the ndarray\n",
      "  \n"
     ]
    }
   ],
   "source": [
    "roc_f=[]\n",
    "\n",
    "for r in results_filtered:\n",
    "    roc_f.append([r[0],r[6].completeness[0],r[6].pure_linkages/r[6].linkages*100,len(r[4].cluster_Id)])\n",
    "\n",
    "roc_f=np.array(roc_f)"
   ]
  },
  {
   "cell_type": "code",
   "execution_count": 127,
   "metadata": {},
   "outputs": [
    {
     "data": {
      "image/png": "[encoded data removed]",
      "text/plain": [
       "<Figure size 900x600 with 2 Axes>"
      ]
     },
     "metadata": {
      "needs_background": "light"
     },
     "output_type": "display_data"
    }
   ],
   "source": [
    "plt.figure(dpi=150)\n",
    "plt.scatter(roc_f[:,1],roc_f[:,2],c=roc_f[:,0])\n",
    "plt.xlabel('Completeness [%]')\n",
    "plt.ylabel('Purity [%]')\n",
    "cbar = plt.colorbar()\n",
    "cbar.set_label('Arrow Clustering Radius [au]', rotation=270, labelpad=15)\n",
    "plt.show()"
   ]
  },
  {
   "cell_type": "markdown",
   "metadata": {},
   "source": [
    "## The above results are most promising as they show that HelioLinC3D achieves LSST requirements for completeness at a very high purity."
   ]
  },
  {
   "cell_type": "markdown",
   "metadata": {},
   "source": [
    "## Create a summary plot."
   ]
  },
  {
   "cell_type": "code",
   "execution_count": 141,
   "metadata": {},
   "outputs": [
    {
     "name": "stderr",
     "output_type": "stream",
     "text": [
      "\r",
      "HelioLinC2:   0%|          | 0/195 [00:00<?, ?it/s]"
     ]
    },
    {
     "name": "stdout",
     "output_type": "stream",
     "text": [
      "195\n"
     ]
    },
    {
     "name": "stderr",
     "output_type": "stream",
     "text": [
      "HelioLinC2: 100%|██████████| 195/195 [01:25<00:00,  2.27it/s]\n",
      "HelioLinC2:   0%|          | 0/195 [00:00<?, ?it/s]"
     ]
    },
    {
     "name": "stdout",
     "output_type": "stream",
     "text": [
      "0.002 0    61.395349\n",
      "Name: completeness, dtype: float64\n",
      "195\n"
     ]
    },
    {
     "name": "stderr",
     "output_type": "stream",
     "text": [
      "HelioLinC2: 100%|██████████| 195/195 [01:23<00:00,  2.32it/s]\n",
      "HelioLinC2:   0%|          | 0/195 [00:00<?, ?it/s]"
     ]
    },
    {
     "name": "stdout",
     "output_type": "stream",
     "text": [
      "0.004 0    77.209302\n",
      "Name: completeness, dtype: float64\n",
      "195\n"
     ]
    },
    {
     "name": "stderr",
     "output_type": "stream",
     "text": [
      "HelioLinC2: 100%|██████████| 195/195 [01:26<00:00,  2.26it/s]\n",
      "HelioLinC2:   0%|          | 0/195 [00:00<?, ?it/s]"
     ]
    },
    {
     "name": "stdout",
     "output_type": "stream",
     "text": [
      "0.006 0    83.72093\n",
      "Name: completeness, dtype: float64\n",
      "195\n"
     ]
    },
    {
     "name": "stderr",
     "output_type": "stream",
     "text": [
      "HelioLinC2: 100%|██████████| 195/195 [01:30<00:00,  2.16it/s]\n",
      "HelioLinC2:   0%|          | 0/195 [00:00<?, ?it/s]"
     ]
    },
    {
     "name": "stdout",
     "output_type": "stream",
     "text": [
      "0.008 0    88.837209\n",
      "Name: completeness, dtype: float64\n",
      "195\n"
     ]
    },
    {
     "name": "stderr",
     "output_type": "stream",
     "text": [
      "HelioLinC2: 100%|██████████| 195/195 [01:34<00:00,  2.07it/s]\n",
      "HelioLinC2:   0%|          | 0/195 [00:00<?, ?it/s]"
     ]
    },
    {
     "name": "stdout",
     "output_type": "stream",
     "text": [
      "0.01 0    91.627907\n",
      "Name: completeness, dtype: float64\n",
      "195\n"
     ]
    },
    {
     "name": "stderr",
     "output_type": "stream",
     "text": [
      "HelioLinC2: 100%|██████████| 195/195 [01:39<00:00,  1.97it/s]\n",
      "HelioLinC2:   0%|          | 0/195 [00:00<?, ?it/s]"
     ]
    },
    {
     "name": "stdout",
     "output_type": "stream",
     "text": [
      "0.012 0    93.488372\n",
      "Name: completeness, dtype: float64\n",
      "195\n"
     ]
    },
    {
     "name": "stderr",
     "output_type": "stream",
     "text": [
      "HelioLinC2: 100%|██████████| 195/195 [01:43<00:00,  1.88it/s]\n",
      "HelioLinC2:   0%|          | 0/195 [00:00<?, ?it/s]"
     ]
    },
    {
     "name": "stdout",
     "output_type": "stream",
     "text": [
      "0.014 0    94.418605\n",
      "Name: completeness, dtype: float64\n",
      "195\n"
     ]
    },
    {
     "name": "stderr",
     "output_type": "stream",
     "text": [
      "HelioLinC2: 100%|██████████| 195/195 [01:48<00:00,  1.80it/s]\n",
      "HelioLinC2:   0%|          | 0/195 [00:00<?, ?it/s]"
     ]
    },
    {
     "name": "stdout",
     "output_type": "stream",
     "text": [
      "0.016 0    94.883721\n",
      "Name: completeness, dtype: float64\n",
      "195\n"
     ]
    },
    {
     "name": "stderr",
     "output_type": "stream",
     "text": [
      "HelioLinC2: 100%|██████████| 195/195 [01:49<00:00,  1.78it/s]\n",
      "HelioLinC2:   0%|          | 0/195 [00:00<?, ?it/s]"
     ]
    },
    {
     "name": "stdout",
     "output_type": "stream",
     "text": [
      "0.018000000000000002 0    95.348837\n",
      "Name: completeness, dtype: float64\n",
      "195\n"
     ]
    },
    {
     "name": "stderr",
     "output_type": "stream",
     "text": [
      "HelioLinC2: 100%|██████████| 195/195 [01:49<00:00,  1.77it/s]\n",
      "HelioLinC2:   0%|          | 0/195 [00:00<?, ?it/s]"
     ]
    },
    {
     "name": "stdout",
     "output_type": "stream",
     "text": [
      "0.020000000000000004 0    95.348837\n",
      "Name: completeness, dtype: float64\n",
      "195\n"
     ]
    },
    {
     "name": "stderr",
     "output_type": "stream",
     "text": [
      "HelioLinC2: 100%|██████████| 195/195 [01:51<00:00,  1.75it/s]\n",
      "HelioLinC2:   0%|          | 0/195 [00:00<?, ?it/s]"
     ]
    },
    {
     "name": "stdout",
     "output_type": "stream",
     "text": [
      "0.022 0    96.744186\n",
      "Name: completeness, dtype: float64\n",
      "195\n"
     ]
    },
    {
     "name": "stderr",
     "output_type": "stream",
     "text": [
      "HelioLinC2:   5%|▍         | 9/195 [00:12<06:20,  2.05s/it]/epyc/projects/pytrax_play/envs/pytrax_s/lib/python3.7/site-packages/joblib/externals/loky/process_executor.py:706: UserWarning: A worker stopped while some jobs were given to the executor. This can be caused by a too short worker timeout or by a memory leak.\n",
      "  \"timeout or by a memory leak.\", UserWarning\n",
      "HelioLinC2: 100%|██████████| 195/195 [01:52<00:00,  1.74it/s]\n",
      "HelioLinC2:   0%|          | 0/195 [00:00<?, ?it/s]"
     ]
    },
    {
     "name": "stdout",
     "output_type": "stream",
     "text": [
      "0.024 0    96.744186\n",
      "Name: completeness, dtype: float64\n",
      "195\n"
     ]
    },
    {
     "name": "stderr",
     "output_type": "stream",
     "text": [
      "HelioLinC2: 100%|██████████| 195/195 [01:51<00:00,  1.76it/s]\n",
      "HelioLinC2:   0%|          | 0/195 [00:00<?, ?it/s]"
     ]
    },
    {
     "name": "stdout",
     "output_type": "stream",
     "text": [
      "0.026000000000000002 0    96.27907\n",
      "Name: completeness, dtype: float64\n",
      "195\n"
     ]
    },
    {
     "name": "stderr",
     "output_type": "stream",
     "text": [
      "HelioLinC2:   4%|▎         | 7/195 [00:11<25:40,  8.19s/it]/epyc/projects/pytrax_play/envs/pytrax_s/lib/python3.7/site-packages/joblib/externals/loky/process_executor.py:706: UserWarning: A worker stopped while some jobs were given to the executor. This can be caused by a too short worker timeout or by a memory leak.\n",
      "  \"timeout or by a memory leak.\", UserWarning\n",
      "HelioLinC2: 100%|██████████| 195/195 [01:52<00:00,  1.74it/s]\n"
     ]
    },
    {
     "name": "stdout",
     "output_type": "stream",
     "text": [
      "0.028000000000000004 0    96.27907\n",
      "Name: completeness, dtype: float64\n"
     ]
    }
   ],
   "source": [
    "cr_arrow_range=np.arange(0.002,0.03,0.002)\n",
    "\n",
    "results_filtered2=[]\n",
    "variance_limit=5e-8\n",
    "\n",
    "for cr_arrows in cr_arrow_range:\n",
    "    # Clustering radius for heliocentric positions projected from observations [au]\n",
    "    cr_obs=0.06\n",
    "    # Clustering radius for propagated arrows [au]\n",
    "    #cr_arrows=0.012\n",
    "    # max temporal separation for tracklet observations (days)\n",
    "    ct_max=1.5/24\n",
    "    # min temporal separation for tracklet observations, e.g. exposure time (days)\n",
    "    ct_min=25/86400 \n",
    "    # Minimum number of arrows to be clustered ('DBSCAN only')\n",
    "    min_samples=3\n",
    "\n",
    "\n",
    "    # define range of heliocentric distances\n",
    "    rall=np.arange(1.8,3.3,0.1)\n",
    "\n",
    "    # define range of heliocentric radial velocities\n",
    "    drdtall=np.arange(-0.01,0.0152,0.002)\n",
    "    np.append(drdtall,0.0)\n",
    "\n",
    "    # Iterator for joblib based paralellization\n",
    "    rrdot=np.array(np.meshgrid(rall,drdtall)).T.reshape(-1,2)\n",
    "\n",
    "    # How many configuraitons do we have to run?\n",
    "    print(len(rrdot))\n",
    "\n",
    "\n",
    "    n_cores=10\n",
    "\n",
    "    with tqdm_joblib(tqdm(desc=\"HelioLinC2\", total=len(rrdot))) as progress_bar:\n",
    "        clusters_df=Parallel(n_jobs=n_cores)(delayed(hl.heliolinc2)\n",
    "                                          (dfobs, r, drdt, cr_obs, cr_arrows, ct_min, ct_max, min_samples=min_samples,\n",
    "                                           clustering_algorithm='dbscan', light_time=False, \n",
    "                                           verbose=False, n_jobs=1) \n",
    "                                           for r, drdt in rrdot ) \n",
    "\n",
    "    clustered_observations = (pd.concat(clusters_df)).reset_index(drop=True)  \n",
    "    clustered_observations['clusterId']=clustered_observations.index\n",
    "\n",
    "    number_of_clusters=len(clustered_observations.index)\n",
    "    \n",
    "    dedupe=hl.deduplicateClusters(clustered_observations.sort_values(by=['var_pos','var_vel']) ).reset_index(drop=True)\n",
    "    #filtering\n",
    "    number_of_deduplicated_clusters=len(dedupe.index)\n",
    "        \n",
    "    cog2=dedupe[dedupe['var_pos']<variance_limit].reset_index(drop=True)  \n",
    "    cog2['cluster_Id']=cog2.index\n",
    "\n",
    "    number_of_filtered_clusters=len(cog2.index)\n",
    "    \n",
    "    dfdifi=hl.linkages2difi(cog2,clusterId_name='cluster_Id',observationId_name='obsId',output='pandas')\n",
    "    dfobs_difi=dfobs.merge(dfin_sel,left_on='obsName',right_on='obsName')\n",
    "    dfobs_difi['obsId']=dfobs_difi['obsId'].astype(str)\n",
    "\n",
    "    (all_truths, findable_observations, summary, \n",
    "           all_linkages_heliolinc, all_truths_heliolinc, summary_heliolinc,\n",
    "           findable_objects, missed_objects) = hl.runDifi(dfobs_difi, cog2, \n",
    "                                                          obsIdName='obsId', linkageIdName='cluster_Id',\n",
    "                                                          objIdName='ObjID', nightName='night', timeName='time',\n",
    "                                                          findability='tracklet', linkage_min_obs=2, \n",
    "                                                          max_obs_separation=1.5/24, \n",
    "                                                          min_linkage_nights=3, \n",
    "                                                          metric=\"nightly_linkages\")\n",
    "    print(cr_arrows,summary_heliolinc.completeness)\n",
    "    results_filtered2.append([cr_arrows,all_truths, findable_observations, summary, \n",
    "           all_linkages_heliolinc, all_truths_heliolinc, summary_heliolinc,\n",
    "           findable_objects, missed_objects,number_of_clusters,number_of_deduplicated_clusters,\n",
    "                             number_of_filtered_clusters])"
   ]
  },
  {
   "cell_type": "code",
   "execution_count": 203,
   "metadata": {},
   "outputs": [
    {
     "name": "stderr",
     "output_type": "stream",
     "text": [
      "/epyc/projects/pytrax_play/envs/pytrax_s/lib/python3.7/site-packages/ipykernel_launcher.py:8: VisibleDeprecationWarning: Creating an ndarray from ragged nested sequences (which is a list-or-tuple of lists-or-tuples-or ndarrays with different lengths or shapes) is deprecated. If you meant to do this, you must specify 'dtype=object' when creating the ndarray\n",
      "  \n"
     ]
    }
   ],
   "source": [
    "roc_f2=[]\n",
    "\n",
    "for r in results_filtered2:\n",
    "    roc_f2.append([r[0],r[6].completeness[0],\n",
    "                   r[6].pure_linkages/r[6].linkages*100,len(r[4].cluster_Id),\n",
    "                   r[9],r[10],r[11],r[6].findable_found+r[6].findable_found ])\n",
    "\n",
    "roc_f2=np.array(roc_f2)"
   ]
  },
  {
   "cell_type": "code",
   "execution_count": 227,
   "metadata": {},
   "outputs": [
    {
     "data": {
      "image/png": "[encoded data removed]",
      "text/plain": [
       "<Figure size 1800x1200 with 2 Axes>"
      ]
     },
     "metadata": {
      "needs_background": "light"
     },
     "output_type": "display_data"
    }
   ],
   "source": [
    "plt.figure(dpi=300)\n",
    "plt.scatter(roc_f2[:,1],roc_f2[:,4],c=roc_f2[:,0],label='HelioLinC clusters')\n",
    "plt.scatter(roc_f2[:,1],roc_f2[:,5],c=roc_f2[:,0],label='deduplicated clusters',marker='+')\n",
    "plt.scatter(roc_f2[:,1],roc_f2[:,3],c=roc_f2[:,0],label='mean state filtered',marker='v')\n",
    "plt.axhline(y=results_filtered2[0][6].num_members.values, color='r', linestyle='--',label='real objects')\n",
    "plt.ylim(100,1e8)\n",
    "plt.xlabel('Completeness [%]')\n",
    "plt.ylabel('Number of Clusters')\n",
    "plt.yscale('log')\n",
    "cbar = plt.colorbar()\n",
    "cbar.set_label('DBScan Clustering Param. for Arrows', rotation=270, labelpad=15)\n",
    "plt.xticks(np.arange(60,100,5)) \n",
    "plt.grid(color='#AAAAAA', linestyle='--', linewidth=1)\n",
    "plt.legend(loc='upper left')\n",
    "plt.title(\"LSST cadence, 14 nights, 5x5deg, 548 SSOs\",pad=15)\n",
    "plt.show()"
   ]
  },
  {
   "cell_type": "markdown",
   "metadata": {},
   "source": [
    "# Conclusions"
   ]
  },
  {
   "cell_type": "markdown",
   "metadata": {},
   "source": [
    "* HelioLinC3D performs at least as good as classical MOPS in terms of finding objects. Currently, it performs best for objects with fewer (~4) observations. \n",
    "* Mean state filtering with conservative on sky O-C RMS values allows us to select clusters that are essentially completely free from noise.\n",
    "\n"
   ]
  },
  {
   "cell_type": "code",
   "execution_count": null,
   "metadata": {},
   "outputs": [],
   "source": []
  }
 ],
 "metadata": {
  "kernelspec": {
   "display_name": "difi_py38",
   "language": "python",
   "name": "difi_py38"
  },
  "language_info": {
   "codemirror_mode": {
    "name": "ipython",
    "version": 3
   },
   "file_extension": ".py",
   "mimetype": "text/x-python",
   "name": "python",
   "nbconvert_exporter": "python",
   "pygments_lexer": "ipython3",
   "version": "3.8.10"
  }
 },
 "nbformat": 4,
 "nbformat_minor": 2
}
